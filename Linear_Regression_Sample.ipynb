{
  "nbformat": 4,
  "nbformat_minor": 0,
  "metadata": {
    "colab": {
      "name": "Linear_Regression_Sample.ipynb",
      "provenance": [],
      "authorship_tag": "ABX9TyOcnmev/xDyDqwkMs2QoMQO",
      "include_colab_link": true
    },
    "kernelspec": {
      "name": "python3",
      "display_name": "Python 3"
    }
  },
  "cells": [
    {
      "cell_type": "markdown",
      "metadata": {
        "id": "view-in-github",
        "colab_type": "text"
      },
      "source": [
        "<a href=\"https://colab.research.google.com/github/kangdoung/CS114.K21/blob/master/Linear_Regression_Sample.ipynb\" target=\"_parent\"><img src=\"https://colab.research.google.com/assets/colab-badge.svg\" alt=\"Open In Colab\"/></a>"
      ]
    },
    {
      "cell_type": "code",
      "metadata": {
        "id": "aiYvsG0CZP8k",
        "colab_type": "code",
        "outputId": "858de8e1-2dde-45e4-d1a8-13b9d227b6fa",
        "colab": {
          "base_uri": "https://localhost:8080/",
          "height": 283
        }
      },
      "source": [
        "#Linear Regression\n",
        "from __future__ import print_function\n",
        "import numpy as np\n",
        "import matplotlib.pyplot as plt\n",
        "from matplotlib.backends.backend_pdf import PdfPages\n",
        "\n",
        "# height (cm)\n",
        "X = np.array([[147, 150, 153, 158, 163, 165, 168, 170, 173, 175, 178, 180, 183]]).T # each row is a point\n",
        "# weight (kg)\n",
        "y = np.array([ 49, 50, 51,  54, 58, 59, 60, 62, 63, 64, 66, 67, 68])\n",
        "# visualize data\n",
        "plt.plot(X,y,'ro')\n",
        "plt.axis([140, 190, 45, 75]) #xmin xmax ymin ymax\n",
        "plt.xlabel(\"Height\")\n",
        "plt.ylabel(\"Weight\")\n",
        "plt.show()"
      ],
      "execution_count": 3,
      "outputs": [
        {
          "output_type": "display_data",
          "data": {
            "image/png": "[encoded data removed]",
            "text/plain": [
              "<Figure size 432x288 with 1 Axes>"
            ]
          },
          "metadata": {
            "tags": []
          }
        }
      ]
    },
    {
      "cell_type": "code",
      "metadata": {
        "id": "h_3yyG48ZalQ",
        "colab_type": "code",
        "outputId": "2c381978-08ca-4e92-db0c-ceed4a52266d",
        "colab": {
          "base_uri": "https://localhost:8080/",
          "height": 293
        }
      },
      "source": [
        "# Building Xbar \n",
        "one = np.ones((X.shape[0], 1))\n",
        "Xbar = np.concatenate((one, X), axis = 1) # each point is one row\n",
        "# Calculating weights of the fitting line\n",
        "A = np.dot(Xbar.T, Xbar)\n",
        "b = np.dot(Xbar.T, y)\n",
        "w = np.dot(np.linalg.pinv(A), b)\n",
        "# weights\n",
        "w_0 = w[0]\n",
        "w_1 = w[1]\n",
        "x0 = np.linspace(145, 185, 2, endpoint=True)\n",
        "y0 = w_0 + w_1*x0\n",
        "\n",
        "# Drawing the fitting line\n",
        "plt.plot(X, y, 'ro')     # data \n",
        "plt.plot(x0, y0)           # the fitting line\n",
        "plt.axis([140, 190, 45, 75]) # xmin, xmax, ymin, ymax \n",
        "plt.xlabel('Height (cm)', fontsize = 14)\n",
        "plt.ylabel('Weight (kg)', fontsize = 14)\n",
        "plt.tick_params(axis='both', which='major', labelsize=14)\n",
        "plt.show()"
      ],
      "execution_count": 4,
      "outputs": [
        {
          "output_type": "display_data",
          "data": {
            "image/png": "[encoded data removed]",
            "text/plain": [
              "<Figure size 432x288 with 1 Axes>"
            ]
          },
          "metadata": {
            "tags": []
          }
        }
      ]
    },
    {
      "cell_type": "code",
      "metadata": {
        "id": "LlOEatnmZqjF",
        "colab_type": "code",
        "outputId": "9f0d56e5-d64f-44de-e12e-8e412ff11103",
        "colab": {
          "base_uri": "https://localhost:8080/",
          "height": 52
        }
      },
      "source": [
        "y1 = w_1*155 + w_0\n",
        "y2 = w_1*160 + w_0\n",
        "\n",
        "print('Input 155cm, true output 52kg, predicted output %.2fkg'  %(y1) )\n",
        "print('Input 160cm, true output 56kg, predicted output %.2fkg'  %(y2) )"
      ],
      "execution_count": 5,
      "outputs": [
        {
          "output_type": "stream",
          "text": [
            "Input 155cm, true output 52kg, predicted output 52.94kg\n",
            "Input 160cm, true output 56kg, predicted output 55.74kg\n"
          ],
          "name": "stdout"
        }
      ]
    }
  ]
}