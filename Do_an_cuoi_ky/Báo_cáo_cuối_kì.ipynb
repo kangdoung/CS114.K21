{
  "nbformat": 4,
  "nbformat_minor": 0,
  "metadata": {
    "colab": {
      "name": "Báo cáo cuối kì.ipynb",
      "provenance": [],
      "authorship_tag": "ABX9TyN4BZldrFJzR97DKKxTVckh",
      "include_colab_link": true
    },
    "kernelspec": {
      "name": "python3",
      "display_name": "Python 3"
    }
  },
  "cells": [
    {
      "cell_type": "markdown",
      "metadata": {
        "id": "view-in-github",
        "colab_type": "text"
      },
      "source": [
        "<a href=\"https://colab.research.google.com/github/kangdoung/CS114.K21/blob/master/Do_an_cuoi_ky/B%C3%A1o_c%C3%A1o_cu%E1%BB%91i_k%C3%AC.ipynb\" target=\"_parent\"><img src=\"https://colab.research.google.com/assets/colab-badge.svg\" alt=\"Open In Colab\"/></a>"
      ]
    },
    {
      "cell_type": "markdown",
      "metadata": {
        "id": "exseWSSCAThV",
        "colab_type": "text"
      },
      "source": [
        "# Mô tả bài toán Nhận diện gương mặt người nổi tiếng"
      ]
    },
    {
      "cell_type": "markdown",
      "metadata": {
        "id": "6blSUFWbAXji",
        "colab_type": "text"
      },
      "source": [
        "## Lí do chọn đề tài \n"
      ]
    },
    {
      "cell_type": "markdown",
      "metadata": {
        "id": "ghtjwoh-Aawa",
        "colab_type": "text"
      },
      "source": [
        "* Nhận diện khuôn mặt có khá nhiều ứng dụng thực tế và đã được thực hiện như faceid của apple hoặc các hệ thống điểm danh của công ty, trường học, sân bay, nhà ga, ...\n",
        "* Để tìm hiểu, học tập và thực hiện bài toán nhận dạng khuôn mặt của 1 người nhóm đã tự xây dựng bộ dữ liệu gồm 5 người nổi tiếng. Nguyên nhân nhóm lại quyết định chọn người nổi tiếng là do dữ liệu dễ tìm, đa dạng và được công khai miễn phí."
      ]
    },
    {
      "cell_type": "markdown",
      "metadata": {
        "id": "2SehdKXoBmtY",
        "colab_type": "text"
      },
      "source": [
        "## Mô tả bộ dữ liệu"
      ]
    },
    {
      "cell_type": "markdown",
      "metadata": {
        "id": "BUq0G0AWBo0F",
        "colab_type": "text"
      },
      "source": [
        "* Bộ dữ liệu được crawl từ google image với công cụ DownAlbum của Chrome.\n",
        "* Bộ dữ liệu gồm 5 người là Trấn Thành, Ninh Dương Lan Ngọc, Amee, Sơn Tùng và Mỹ Tâm\n",
        "* Kích cỡ của bộ dữ liệu là 500 tấm hình với lần lượt mỗi người 100 tấm được chia thành 2 tập train set và test set theo tỉ lệ 80/20. "
      ]
    },
    {
      "cell_type": "markdown",
      "metadata": {
        "id": "jjvrA_AfCqi1",
        "colab_type": "text"
      },
      "source": [
        "## Mô tả bài toán\n"
      ]
    },
    {
      "cell_type": "markdown",
      "metadata": {
        "id": "rp43Yb6jCssy",
        "colab_type": "text"
      },
      "source": [
        "* Là bài toán **CLASSIFICATION**\n",
        "* Input: ảnh của một người\n",
        "* Output: tên của người có trong ảnh."
      ]
    },
    {
      "cell_type": "markdown",
      "metadata": {
        "id": "0UKcPhJCCYcp",
        "colab_type": "text"
      },
      "source": [
        "## Tiền xử lý dữ liệu"
      ]
    },
    {
      "cell_type": "markdown",
      "metadata": {
        "id": "fGlBibK3Cb0S",
        "colab_type": "text"
      },
      "source": [
        "* Xác định vị trí khuôn mặt của mỗi người trong ảnh.\n",
        "* Cắt và giữ lại vị trí của khuôn mặt."
      ]
    },
    {
      "cell_type": "markdown",
      "metadata": {
        "id": "GEb1UOSUC6fI",
        "colab_type": "text"
      },
      "source": [
        "## Trích xuất đặc trưng ( Feature extracting )"
      ]
    },
    {
      "cell_type": "markdown",
      "metadata": {
        "id": "tM2c7uekC-q1",
        "colab_type": "text"
      },
      "source": [
        "Nhóm đã áp dụng việc rút trích đặc trưng theo 2 cách khác nhau"
      ]
    },
    {
      "cell_type": "markdown",
      "metadata": {
        "id": "FMWPwXuVDMOX",
        "colab_type": "text"
      },
      "source": [
        "### Histogram of oriented gradients"
      ]
    },
    {
      "cell_type": "markdown",
      "metadata": {
        "id": "VRm60y_mDTCF",
        "colab_type": "text"
      },
      "source": [
        "**Giới thiệu chung**  \n",
        "* Là phương pháp được đề xuất tại hội nghị CVPR 2005 nhằm *phát hiện vật thể*  \n",
        "* \"Thuật toán này sẽ tạo ra các bộ mô tả đặc trưng (feature descriptor) nhằm mục đích phát hiện vật thể (object detection). Từ một bức ảnh, ta sẽ lấy ra 2 ma trận quan trọng giúp lưu thông tin ảnh đó là độ lớn gradient (gradient magnitute) và phương của gradient (gradient orientation). Bằng cách kết hợp 2 thông tin này vào một biểu đồ phân phối histogram, trong đó độ lớn gradient được đếm theo các nhóm bins của phương gradient. Cuối cùng ta sẽ thu được véc tơ đặc trưng HOG đại diện cho histogram.\" ( [Tham khảo](https://phamdinhkhanh.github.io/2019/11/22/HOG.html#11-gi%E1%BB%9Bi-thi%E1%BB%87u-chung) )\n"
      ]
    },
    {
      "cell_type": "markdown",
      "metadata": {
        "id": "90MNTolED7p2",
        "colab_type": "text"
      },
      "source": [
        "**Thực hiện**\n",
        "* Đầu tiên đưa ảnh về ảnh xám với cv2.IMREAD_GRAYSCALE\n",
        "* Áp dụng HOG với thư viện ski-image với các tham số như sau:\n",
        "  1. Orientation = 9\n",
        "  2. Cell = 16*16\n",
        "  3. Block = 4*4  \n",
        "\n",
        "  Nhóm áp dụng các tham số như trên là do sau nhiều lần thay đổi và thử thì các tham số này cho ra kết quả của model là tốt nhất.\n"
      ]
    },
    {
      "cell_type": "markdown",
      "metadata": {
        "id": "mxKHS8ETFMb7",
        "colab_type": "text"
      },
      "source": [
        "### Vector embedding"
      ]
    },
    {
      "cell_type": "markdown",
      "metadata": {
        "id": "4YwGzHVrFn2h",
        "colab_type": "text"
      },
      "source": [
        "**Giới thiệu chung**\n",
        "* Vector embedding là 1 vector 128 chiều đại diện cho các đặc trưng được trích xuất từ khuôn mặt.\n",
        "* Nhóm sử dụng thư viện face_recognition để áp dụng quá trính face_embedding (method thư viện cung cấp là face_encoding).\n",
        "* Thư viện face_recognition là thư viện được xây dựng dựa trên thư viện dlib với ngôn ngữ C++ và huấn luyện với deep learning. Độ chính xác lên đến 99,38% với bộ dữ liệu Label Faces in wild.\n"
      ]
    },
    {
      "cell_type": "markdown",
      "metadata": {
        "id": "JUiX5FWUGd1U",
        "colab_type": "text"
      },
      "source": [
        "**Thực hiện**\n",
        "* Gọi method face_recognition.face_encoding: bước này sẽ trả về vector 128 chiều. Nó dùng model đã được huấn luyện sẵn để trích xuất đặc trưng và trả về kết quả."
      ]
    },
    {
      "cell_type": "markdown",
      "metadata": {
        "id": "v5LAiCzCIYmV",
        "colab_type": "text"
      },
      "source": [
        "## Nhận xét:\n",
        "* Sau khi thực hiện với 2 cách thức trên thì kết quả cho ra là Vector embedding cho kết quả tốt hơn khá nhiều so với HOG.\n",
        "* Nguyên nhân:\n",
        "  1. HOG là phương pháp nghiêng về mô tả hình dạng và sự xuất hiện của vật thể trong ảnh hơn là sự khác biệt của các vật thể. \n",
        "  2. Face embedding sẽ cho 1 vector 128d. Những gương mặt giống nhau sẽ có khoảng cách euclid distance nhỏ và ngược lại, những gương mặt khác nhau sẽ có euclid distacne lớn. Do đó kết quả sẽ cho ra tốt hơn với phương pháp trên."
      ]
    }
  ]
}