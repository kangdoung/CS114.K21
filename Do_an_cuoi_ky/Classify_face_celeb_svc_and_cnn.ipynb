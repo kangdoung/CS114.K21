{
  "nbformat": 4,
  "nbformat_minor": 0,
  "metadata": {
    "colab": {
      "name": "Classify_face_celeb_svc.ipynb",
      "provenance": [],
      "mount_file_id": "https://github.com/kangdoung/CS114.K21/blob/master/Do_an_cuoi_ky/Classify_face_celeb_svc_and_cnn.ipynb",
      "authorship_tag": "ABX9TyOe+xz3Z2cOBBmYMqkBwQYn",
      "include_colab_link": true
    },
    "kernelspec": {
      "name": "python3",
      "display_name": "Python 3"
    }
  },
  "cells": [
    {
      "cell_type": "markdown",
      "metadata": {
        "id": "view-in-github",
        "colab_type": "text"
      },
      "source": [
        "<a href=\"https://colab.research.google.com/github/kangdoung/CS114.K21/blob/master/Do_an_cuoi_ky/Classify_face_celeb_svc_and_cnn.ipynb\" target=\"_parent\"><img src=\"https://colab.research.google.com/assets/colab-badge.svg\" alt=\"Open In Colab\"/></a>"
      ]
    },
    {
      "cell_type": "markdown",
      "metadata": {
        "id": "2F2N2t03If-3",
        "colab_type": "text"
      },
      "source": [
        "# **Bài toán nhận dạng người nổi tiếng**\n",
        "* Input: ảnh của 1 trong 5 người  \n",
        "* Output: tên người nổi tiếng của ảnh đó  \n",
        "* Dataset gồm ảnh của 5 người: Amee, My Tam,Son Tung MTP, Jack và NDLN.  \n",
        "Dữ liệu được thu thập từ google image sau đó được cắt và lấy khuôn mặt của mỗi người trên. Thu thập 100 tấm ảnh của mỗi người.  \n",
        "Dataset được lưu trên google drive ( [*link*](/https://drive.google.com/drive/folders/1YjNGdPb_3equCM7M4tBaXYQpUN8AFIMd?usp=sharing)).\n"
      ]
    },
    {
      "cell_type": "code",
      "metadata": {
        "id": "j0Z5dWEvzbL_",
        "colab_type": "code",
        "colab": {}
      },
      "source": [
        "import numpy as np\n",
        "import pandas as pd\n",
        "import cv2 #open cv\n",
        "import os\n",
        "import matplotlib.pyplot as plt"
      ],
      "execution_count": 1,
      "outputs": []
    },
    {
      "cell_type": "code",
      "metadata": {
        "id": "w0ns1giZzqgf",
        "colab_type": "code",
        "colab": {
          "base_uri": "https://localhost:8080/",
          "height": 1000
        },
        "outputId": "2083cb84-4908-45f4-c033-e75cbf18dad9"
      },
      "source": [
        "# scaling all images to 80 * 80 using OpenCV resize function\n",
        "i = 0\n",
        "for imgfolder in os.listdir('drive/My Drive/Data_No_Aug/ML/'):\n",
        "    for filename in os.listdir('drive/My Drive/Data_No_Aug/ML/' + imgfolder):\n",
        "        filename = 'drive/My Drive/Data_No_Aug/ML/' + imgfolder+ '/'+ filename\n",
        "        img=cv2.imread(filename,0)\n",
        "        img = cv2.resize(img, (80,80), interpolation = cv2.INTER_AREA)\n",
        "        print(i)\n",
        "        i+=1"
      ],
      "execution_count": 8,
      "outputs": [
        {
          "output_type": "stream",
          "text": [
            "0\n",
            "1\n",
            "2\n",
            "3\n",
            "4\n",
            "5\n",
            "6\n",
            "7\n",
            "8\n",
            "9\n",
            "10\n",
            "11\n",
            "12\n",
            "13\n",
            "14\n",
            "15\n",
            "16\n",
            "17\n",
            "18\n",
            "19\n",
            "20\n",
            "21\n",
            "22\n",
            "23\n",
            "24\n",
            "25\n",
            "26\n",
            "27\n",
            "28\n",
            "29\n",
            "30\n",
            "31\n",
            "32\n",
            "33\n",
            "34\n",
            "35\n",
            "36\n",
            "37\n",
            "38\n",
            "39\n",
            "40\n",
            "41\n",
            "42\n",
            "43\n",
            "44\n",
            "45\n",
            "46\n",
            "47\n",
            "48\n",
            "49\n",
            "50\n",
            "51\n",
            "52\n",
            "53\n",
            "54\n",
            "55\n",
            "56\n",
            "57\n",
            "58\n",
            "59\n",
            "60\n",
            "61\n",
            "62\n",
            "63\n",
            "64\n",
            "65\n",
            "66\n",
            "67\n",
            "68\n",
            "69\n",
            "70\n",
            "71\n",
            "72\n",
            "73\n",
            "74\n",
            "75\n",
            "76\n",
            "77\n",
            "78\n",
            "79\n",
            "80\n",
            "81\n",
            "82\n",
            "83\n",
            "84\n",
            "85\n",
            "86\n",
            "87\n",
            "88\n",
            "89\n",
            "90\n",
            "91\n",
            "92\n",
            "93\n",
            "94\n",
            "95\n",
            "96\n",
            "97\n",
            "98\n",
            "99\n",
            "100\n",
            "101\n",
            "102\n",
            "103\n",
            "104\n",
            "105\n",
            "106\n",
            "107\n",
            "108\n",
            "109\n",
            "110\n",
            "111\n",
            "112\n",
            "113\n",
            "114\n",
            "115\n",
            "116\n",
            "117\n",
            "118\n",
            "119\n",
            "120\n",
            "121\n",
            "122\n",
            "123\n",
            "124\n",
            "125\n",
            "126\n",
            "127\n",
            "128\n",
            "129\n",
            "130\n",
            "131\n",
            "132\n",
            "133\n",
            "134\n",
            "135\n",
            "136\n",
            "137\n",
            "138\n",
            "139\n",
            "140\n",
            "141\n",
            "142\n",
            "143\n",
            "144\n",
            "145\n",
            "146\n",
            "147\n",
            "148\n",
            "149\n",
            "150\n",
            "151\n",
            "152\n",
            "153\n",
            "154\n",
            "155\n",
            "156\n",
            "157\n",
            "158\n",
            "159\n",
            "160\n",
            "161\n",
            "162\n",
            "163\n",
            "164\n",
            "165\n",
            "166\n",
            "167\n",
            "168\n",
            "169\n",
            "170\n",
            "171\n",
            "172\n",
            "173\n",
            "174\n",
            "175\n",
            "176\n",
            "177\n",
            "178\n",
            "179\n",
            "180\n",
            "181\n",
            "182\n",
            "183\n",
            "184\n",
            "185\n",
            "186\n",
            "187\n",
            "188\n",
            "189\n",
            "190\n",
            "191\n",
            "192\n",
            "193\n",
            "194\n",
            "195\n",
            "196\n",
            "197\n",
            "198\n",
            "199\n",
            "200\n",
            "201\n",
            "202\n",
            "203\n",
            "204\n",
            "205\n",
            "206\n",
            "207\n",
            "208\n",
            "209\n",
            "210\n",
            "211\n",
            "212\n",
            "213\n",
            "214\n",
            "215\n",
            "216\n",
            "217\n",
            "218\n",
            "219\n",
            "220\n",
            "221\n",
            "222\n",
            "223\n",
            "224\n",
            "225\n",
            "226\n",
            "227\n",
            "228\n",
            "229\n",
            "230\n",
            "231\n",
            "232\n",
            "233\n",
            "234\n",
            "235\n",
            "236\n",
            "237\n",
            "238\n",
            "239\n",
            "240\n",
            "241\n",
            "242\n",
            "243\n",
            "244\n",
            "245\n",
            "246\n",
            "247\n",
            "248\n",
            "249\n",
            "250\n",
            "251\n",
            "252\n",
            "253\n",
            "254\n",
            "255\n",
            "256\n",
            "257\n",
            "258\n",
            "259\n",
            "260\n",
            "261\n",
            "262\n",
            "263\n",
            "264\n",
            "265\n",
            "266\n",
            "267\n",
            "268\n",
            "269\n",
            "270\n",
            "271\n",
            "272\n",
            "273\n",
            "274\n",
            "275\n",
            "276\n",
            "277\n",
            "278\n",
            "279\n",
            "280\n",
            "281\n",
            "282\n",
            "283\n",
            "284\n",
            "285\n",
            "286\n",
            "287\n",
            "288\n",
            "289\n",
            "290\n",
            "291\n",
            "292\n",
            "293\n",
            "294\n",
            "295\n",
            "296\n",
            "297\n",
            "298\n",
            "299\n",
            "300\n",
            "301\n",
            "302\n",
            "303\n",
            "304\n",
            "305\n",
            "306\n",
            "307\n",
            "308\n",
            "309\n",
            "310\n",
            "311\n",
            "312\n",
            "313\n",
            "314\n",
            "315\n",
            "316\n",
            "317\n",
            "318\n",
            "319\n",
            "320\n",
            "321\n",
            "322\n",
            "323\n",
            "324\n",
            "325\n",
            "326\n",
            "327\n",
            "328\n",
            "329\n",
            "330\n",
            "331\n",
            "332\n",
            "333\n",
            "334\n",
            "335\n",
            "336\n",
            "337\n",
            "338\n",
            "339\n",
            "340\n",
            "341\n",
            "342\n",
            "343\n",
            "344\n",
            "345\n",
            "346\n",
            "347\n",
            "348\n",
            "349\n",
            "350\n",
            "351\n",
            "352\n",
            "353\n",
            "354\n",
            "355\n",
            "356\n",
            "357\n",
            "358\n",
            "359\n",
            "360\n",
            "361\n",
            "362\n",
            "363\n",
            "364\n",
            "365\n",
            "366\n",
            "367\n",
            "368\n",
            "369\n",
            "370\n",
            "371\n",
            "372\n",
            "373\n",
            "374\n",
            "375\n",
            "376\n",
            "377\n",
            "378\n",
            "379\n",
            "380\n",
            "381\n",
            "382\n",
            "383\n",
            "384\n",
            "385\n",
            "386\n",
            "387\n",
            "388\n",
            "389\n",
            "390\n",
            "391\n",
            "392\n",
            "393\n",
            "394\n",
            "395\n",
            "396\n",
            "397\n",
            "398\n",
            "399\n",
            "400\n",
            "401\n",
            "402\n",
            "403\n",
            "404\n",
            "405\n",
            "406\n",
            "407\n",
            "408\n",
            "409\n",
            "410\n",
            "411\n",
            "412\n",
            "413\n",
            "414\n",
            "415\n",
            "416\n",
            "417\n",
            "418\n",
            "419\n",
            "420\n",
            "421\n",
            "422\n",
            "423\n",
            "424\n",
            "425\n",
            "426\n",
            "427\n",
            "428\n",
            "429\n",
            "430\n",
            "431\n",
            "432\n",
            "433\n",
            "434\n",
            "435\n",
            "436\n",
            "437\n",
            "438\n",
            "439\n",
            "440\n",
            "441\n",
            "442\n",
            "443\n",
            "444\n",
            "445\n",
            "446\n",
            "447\n",
            "448\n",
            "449\n",
            "450\n",
            "451\n",
            "452\n",
            "453\n",
            "454\n",
            "455\n",
            "456\n",
            "457\n",
            "458\n",
            "459\n",
            "460\n",
            "461\n",
            "462\n",
            "463\n",
            "464\n",
            "465\n",
            "466\n",
            "467\n",
            "468\n",
            "469\n",
            "470\n",
            "471\n",
            "472\n",
            "473\n",
            "474\n",
            "475\n",
            "476\n",
            "477\n",
            "478\n",
            "479\n",
            "480\n",
            "481\n",
            "482\n",
            "483\n",
            "484\n",
            "485\n",
            "486\n",
            "487\n",
            "488\n",
            "489\n",
            "490\n",
            "491\n",
            "492\n",
            "493\n",
            "494\n",
            "495\n",
            "496\n",
            "497\n",
            "498\n",
            "499\n"
          ],
          "name": "stdout"
        }
      ]
    },
    {
      "cell_type": "markdown",
      "metadata": {
        "id": "dzcgqT4BF360",
        "colab_type": "text"
      },
      "source": [
        "# Load dữ liệu và gán label cho dữ liệu"
      ]
    },
    {
      "cell_type": "code",
      "metadata": {
        "id": "9KsVFudQ0Jer",
        "colab_type": "code",
        "colab": {
          "base_uri": "https://localhost:8080/",
          "height": 33
        },
        "outputId": "63036ecd-624f-4d1e-8c5c-ae64413bf407"
      },
      "source": [
        "# building an array of images and finding its shape.\n",
        "Images = []\n",
        "for imgfolder in os.listdir('drive/My Drive/Data_No_Aug/ML/'):\n",
        "    for filename in os.listdir('drive/My Drive/Data_No_Aug/ML/' + imgfolder):\n",
        "        filename = 'drive/My Drive/Data_No_Aug/ML/' + imgfolder + '/' + filename\n",
        "        #print(filename)\n",
        "        img = cv2.imread(filename,0)\n",
        "        img = cv2.resize(img, (80,80), interpolation = cv2.INTER_AREA)\n",
        "        Images.append(img)\n",
        "Images = np.asarray(Images)\n",
        "Images.shape"
      ],
      "execution_count": 9,
      "outputs": [
        {
          "output_type": "execute_result",
          "data": {
            "text/plain": [
              "(500, 80, 80)"
            ]
          },
          "metadata": {
            "tags": []
          },
          "execution_count": 9
        }
      ]
    },
    {
      "cell_type": "code",
      "metadata": {
        "id": "qRXtPmTS1TXg",
        "colab_type": "code",
        "colab": {
          "base_uri": "https://localhost:8080/",
          "height": 252
        },
        "outputId": "b1cc2deb-a452-4755-eab0-0e68e3024205"
      },
      "source": [
        "plt.imshow(Images[10], cmap = 'gray', interpolation = 'bicubic')\n",
        "plt.xticks([]), plt.yticks([])  # to hide tick values on X and Y axis\n",
        "plt.show()"
      ],
      "execution_count": 11,
      "outputs": [
        {
          "output_type": "display_data",
          "data": {
            "image/png": "[encoded data removed]",
            "text/plain": [
              "<Figure size 432x288 with 1 Axes>"
            ]
          },
          "metadata": {
            "tags": []
          }
        }
      ]
    },
    {
      "cell_type": "code",
      "metadata": {
        "id": "LgYGL00H1Wq5",
        "colab_type": "code",
        "colab": {
          "base_uri": "https://localhost:8080/",
          "height": 33
        },
        "outputId": "ef9aada5-2dfb-4ce0-b77d-ccb242de0ca2"
      },
      "source": [
        "label = []\n",
        "for imgfolder in os.listdir('drive/My Drive/Data_No_Aug/ML/'):\n",
        "    for filename in os.listdir('drive/My Drive/Data_No_Aug/ML/' + imgfolder):\n",
        "        label.append(imgfolder)\n",
        "label = np.asarray(label)\n",
        "label.shape"
      ],
      "execution_count": 12,
      "outputs": [
        {
          "output_type": "execute_result",
          "data": {
            "text/plain": [
              "(500,)"
            ]
          },
          "metadata": {
            "tags": []
          },
          "execution_count": 12
        }
      ]
    },
    {
      "cell_type": "markdown",
      "metadata": {
        "id": "Ne6VWZCJa_8u",
        "colab_type": "text"
      },
      "source": [
        "## Chia thành 2 tập train và test theo tỉ lệ 8:2"
      ]
    },
    {
      "cell_type": "code",
      "metadata": {
        "id": "zHn86AXtbDhl",
        "colab_type": "code",
        "colab": {}
      },
      "source": [
        "from sklearn.model_selection import train_test_split"
      ],
      "execution_count": 13,
      "outputs": []
    },
    {
      "cell_type": "code",
      "metadata": {
        "id": "LAeK7VXrcDTC",
        "colab_type": "code",
        "colab": {}
      },
      "source": [
        "x_train, x_test, y_train, y_test = train_test_split(Images, label, test_size = 0.2, random_state = 42)"
      ],
      "execution_count": 14,
      "outputs": []
    },
    {
      "cell_type": "markdown",
      "metadata": {
        "id": "9EEp_jLkMbaj",
        "colab_type": "text"
      },
      "source": [
        "### Khác"
      ]
    },
    {
      "cell_type": "code",
      "metadata": {
        "id": "dfapcpuOkqXI",
        "colab_type": "code",
        "colab": {
          "base_uri": "https://localhost:8080/",
          "height": 33
        },
        "outputId": "bffe89ad-857f-413b-9054-10eb3ca322b7"
      },
      "source": [
        "x_test.shape"
      ],
      "execution_count": 18,
      "outputs": [
        {
          "output_type": "execute_result",
          "data": {
            "text/plain": [
              "(100, 80, 80)"
            ]
          },
          "metadata": {
            "tags": []
          },
          "execution_count": 18
        }
      ]
    },
    {
      "cell_type": "markdown",
      "metadata": {
        "id": "9vn0FlCxGSPW",
        "colab_type": "text"
      },
      "source": [
        "## Model\n"
      ]
    },
    {
      "cell_type": "code",
      "metadata": {
        "id": "XVvyRMsr1ryU",
        "colab_type": "code",
        "colab": {}
      },
      "source": [
        "from sklearn.decomposition import PCA as RandomizedPCA\n",
        "from sklearn.svm import SVC\n",
        "from sklearn.pipeline import make_pipeline"
      ],
      "execution_count": 19,
      "outputs": []
    },
    {
      "cell_type": "markdown",
      "metadata": {
        "id": "sCc0jzZXMKGz",
        "colab_type": "text"
      },
      "source": [
        "Thêm các thư viện cần thiết"
      ]
    },
    {
      "cell_type": "code",
      "metadata": {
        "id": "fTg4Avvv19oq",
        "colab_type": "code",
        "colab": {}
      },
      "source": [
        "pca = RandomizedPCA(n_components=150, whiten=True, random_state=42)\n",
        "svc = SVC(kernel='rbf', class_weight='balanced')\n",
        "model = make_pipeline(pca, svc)"
      ],
      "execution_count": 20,
      "outputs": []
    },
    {
      "cell_type": "code",
      "metadata": {
        "id": "R76TlHLV2JPx",
        "colab_type": "code",
        "colab": {}
      },
      "source": [
        "#flatten images.\n",
        "x_train = x_train.reshape(x_train.shape[0], x_train.shape[1] * x_train.shape[2])\n",
        "x_test = x_test.reshape(x_test.shape[0], x_test.shape[1] * x_test.shape[2])"
      ],
      "execution_count": 21,
      "outputs": []
    },
    {
      "cell_type": "code",
      "metadata": {
        "id": "3A1eU6Lc2-Uz",
        "colab_type": "code",
        "colab": {}
      },
      "source": [
        "from sklearn.model_selection import learning_curve, GridSearchCV"
      ],
      "execution_count": 22,
      "outputs": []
    },
    {
      "cell_type": "code",
      "metadata": {
        "id": "2Y3hBtW22d29",
        "colab_type": "code",
        "colab": {
          "base_uri": "https://localhost:8080/",
          "height": 67
        },
        "outputId": "7f4ab978-9eaf-4bab-f92a-ea8e262500e3"
      },
      "source": [
        "# doing cross validation to tune the params of SVC\n",
        "\n",
        "param_grid = {'svc__C': [1, 5, 10, 50],\n",
        "              'svc__gamma': [0.0001, 0.0005, 0.001, 0.005]}\n",
        "grid = GridSearchCV(model, param_grid)\n",
        "\n",
        "%time grid.fit(x_train, y_train)\n",
        "print(grid.best_params_)"
      ],
      "execution_count": 24,
      "outputs": [
        {
          "output_type": "stream",
          "text": [
            "CPU times: user 1min 15s, sys: 15.6 s, total: 1min 30s\n",
            "Wall time: 46.1 s\n",
            "{'svc__C': 10, 'svc__gamma': 0.0005}\n"
          ],
          "name": "stdout"
        }
      ]
    },
    {
      "cell_type": "code",
      "metadata": {
        "id": "5c4_1vif3Gwn",
        "colab_type": "code",
        "colab": {
          "base_uri": "https://localhost:8080/",
          "height": 33
        },
        "outputId": "3880d9b6-c3b2-4e8d-a4e9-e2cacac38e5d"
      },
      "source": [
        "grid.best_score_"
      ],
      "execution_count": 25,
      "outputs": [
        {
          "output_type": "execute_result",
          "data": {
            "text/plain": [
              "0.595"
            ]
          },
          "metadata": {
            "tags": []
          },
          "execution_count": 25
        }
      ]
    },
    {
      "cell_type": "code",
      "metadata": {
        "id": "Arf4TolJ3KMV",
        "colab_type": "code",
        "colab": {}
      },
      "source": [
        "# pick the best model from the grid search above and use it to classify the test dataset\n",
        "model = grid.best_estimator_\n",
        "pred = model.predict(x_test)"
      ],
      "execution_count": 27,
      "outputs": []
    },
    {
      "cell_type": "code",
      "metadata": {
        "id": "XxdZJ4rP3QT9",
        "colab_type": "code",
        "colab": {}
      },
      "source": [
        "from sklearn.metrics import  accuracy_score\n",
        "from sklearn.metrics import classification_report"
      ],
      "execution_count": 28,
      "outputs": []
    },
    {
      "cell_type": "code",
      "metadata": {
        "id": "PBTx_suK3SPw",
        "colab_type": "code",
        "colab": {
          "base_uri": "https://localhost:8080/",
          "height": 217
        },
        "outputId": "5dea8a2b-9f62-402b-fc5a-2048794a6deb"
      },
      "source": [
        "print(classification_report(pred,y_test))"
      ],
      "execution_count": 30,
      "outputs": [
        {
          "output_type": "stream",
          "text": [
            "              precision    recall  f1-score   support\n",
            "\n",
            "        Amee       0.71      0.65      0.68        26\n",
            "        Jack       0.80      0.53      0.64        15\n",
            "         MTP       0.43      0.43      0.43        14\n",
            "       MyTam       0.54      0.65      0.59        20\n",
            "        NDLN       0.50      0.56      0.53        25\n",
            "\n",
            "    accuracy                           0.58       100\n",
            "   macro avg       0.60      0.57      0.57       100\n",
            "weighted avg       0.60      0.58      0.58       100\n",
            "\n"
          ],
          "name": "stdout"
        }
      ]
    },
    {
      "cell_type": "code",
      "metadata": {
        "id": "SAYLy_uP3fPX",
        "colab_type": "code",
        "colab": {
          "base_uri": "https://localhost:8080/",
          "height": 100
        },
        "outputId": "954a05bb-ebe6-4cab-bda0-9af8d78e3654"
      },
      "source": [
        "from sklearn.metrics import confusion_matrix\n",
        "print(confusion_matrix(pred, y_test))"
      ],
      "execution_count": 32,
      "outputs": [
        {
          "output_type": "stream",
          "text": [
            "[[17  0  3  1  5]\n",
            " [ 0  8  3  2  2]\n",
            " [ 2  1  6  1  4]\n",
            " [ 1  1  2 13  3]\n",
            " [ 4  0  0  7 14]]\n"
          ],
          "name": "stdout"
        }
      ]
    },
    {
      "cell_type": "code",
      "metadata": {
        "id": "3afXW42u30nx",
        "colab_type": "code",
        "colab": {
          "base_uri": "https://localhost:8080/",
          "height": 33
        },
        "outputId": "4a617c4d-d6a6-463b-c06b-43b5ee6a3bd4"
      },
      "source": [
        "accuracy_score(pred, y_test)"
      ],
      "execution_count": 34,
      "outputs": [
        {
          "output_type": "execute_result",
          "data": {
            "text/plain": [
              "0.58"
            ]
          },
          "metadata": {
            "tags": []
          },
          "execution_count": 34
        }
      ]
    },
    {
      "cell_type": "markdown",
      "metadata": {
        "id": "zuYbqJlkPjjR",
        "colab_type": "text"
      },
      "source": [
        "### Nhận xét:\n",
        "model cho kết quả dự đoán khá thấp do chỉ sử dụng PCA để trích chọn đặc trưng."
      ]
    },
    {
      "cell_type": "markdown",
      "metadata": {
        "id": "6mBgDQv85xk1",
        "colab_type": "text"
      },
      "source": [
        "# Thử nghiệm bộ dữ liệu với CNN\n",
        "\n"
      ]
    },
    {
      "cell_type": "code",
      "metadata": {
        "id": "g5s_IOki50Ek",
        "colab_type": "code",
        "colab": {}
      },
      "source": [
        "from sklearn.preprocessing import LabelBinarizer\n",
        "from sklearn.model_selection import train_test_split\n",
        "from sklearn.metrics import classification_report\n",
        "from keras.models import Sequential\n",
        "from keras.layers.core import Dense, Dropout\n",
        "from keras.layers.convolutional import Conv2D\n",
        "from keras.layers.convolutional import MaxPooling2D\n",
        "from keras.layers import Flatten\n",
        "from keras.layers import BatchNormalization\n",
        "from keras.optimizers import SGD\n",
        "import keras\n",
        "from keras.utils import np_utils\n",
        "from imutils import paths\n",
        "import matplotlib.pyplot as plt\n",
        "import numpy as np\n",
        "import argparse\n",
        "import random\n",
        "import pickle\n",
        "import cv2\n",
        "import os"
      ],
      "execution_count": 101,
      "outputs": []
    },
    {
      "cell_type": "code",
      "metadata": {
        "id": "N0CXeQFknvKv",
        "colab_type": "code",
        "colab": {}
      },
      "source": [
        "image_size = 80\n",
        "def read_date(path):\n",
        "  img = []\n",
        "  label = []\n",
        "  folders = os.listdir(path)\n",
        "  for folder in os.listdir(path):\n",
        "    i = 1\n",
        "    for files in os.listdir(path+'/'+folder):\n",
        "      files_name = path + '/'+folder+'/' + files\n",
        "      \n",
        "      print(files_name)\n",
        "      print('STT: {}'.format(i))\n",
        "      i += 1\n",
        "      image = cv2.imread(files_name,0)\n",
        "      \n",
        "      image = cv2.resize(image, (image_size, image_size))\n",
        "      images=np.reshape(image, image_size*image_size)\n",
        "      img.append(images)\n",
        "      label.append(folder)\n",
        "\n",
        "  return np.asarray(img),np.asarray(label)\n",
        "\n",
        "train_path = 'drive/My Drive/data_cnn/Train'\n",
        "x_train, y_train = read_date(train_path)\n",
        "\n",
        "test_path = 'drive/My Drive/data_cnn/Test'\n",
        "x_test, y_test = read_date(test_path)\n",
        "\n",
        "val_path = 'drive/My Drive/data_cnn/Validation'\n",
        "x_val, y_val = read_date(val_path)"
      ],
      "execution_count": null,
      "outputs": []
    },
    {
      "cell_type": "code",
      "metadata": {
        "id": "_vEEl-rxxjk0",
        "colab_type": "code",
        "colab": {}
      },
      "source": [
        "test_path = 'drive/My Drive/data_cnn/Test'\n",
        "x_test, y_test = read_date(test_path)"
      ],
      "execution_count": null,
      "outputs": []
    },
    {
      "cell_type": "code",
      "metadata": {
        "id": "2sJQ-yu9oGGa",
        "colab_type": "code",
        "colab": {
          "base_uri": "https://localhost:8080/",
          "height": 33
        },
        "outputId": "92284470-2e22-4fd5-a9b3-6f5988164740"
      },
      "source": [
        "x_train.shape"
      ],
      "execution_count": 89,
      "outputs": [
        {
          "output_type": "execute_result",
          "data": {
            "text/plain": [
              "(3280, 6400)"
            ]
          },
          "metadata": {
            "tags": []
          },
          "execution_count": 89
        }
      ]
    },
    {
      "cell_type": "code",
      "metadata": {
        "id": "q66VE9GUoKy4",
        "colab_type": "code",
        "colab": {
          "base_uri": "https://localhost:8080/",
          "height": 33
        },
        "outputId": "18b09a8b-4d8b-40f3-ec25-1c788b4013a1"
      },
      "source": [
        "y_train.shape"
      ],
      "execution_count": 90,
      "outputs": [
        {
          "output_type": "execute_result",
          "data": {
            "text/plain": [
              "(3280,)"
            ]
          },
          "metadata": {
            "tags": []
          },
          "execution_count": 90
        }
      ]
    },
    {
      "cell_type": "code",
      "metadata": {
        "id": "vNUjjCcbuyPs",
        "colab_type": "code",
        "colab": {
          "base_uri": "https://localhost:8080/",
          "height": 33
        },
        "outputId": "0cc131a8-ac69-4347-94bb-0daf815606f1"
      },
      "source": [
        "y_val.shape"
      ],
      "execution_count": 91,
      "outputs": [
        {
          "output_type": "execute_result",
          "data": {
            "text/plain": [
              "(720,)"
            ]
          },
          "metadata": {
            "tags": []
          },
          "execution_count": 91
        }
      ]
    },
    {
      "cell_type": "markdown",
      "metadata": {
        "id": "XlplgJsNgmLV",
        "colab_type": "text"
      },
      "source": [
        "## Data Augmentation"
      ]
    },
    {
      "cell_type": "code",
      "metadata": {
        "id": "QNZSqN28oOco",
        "colab_type": "code",
        "colab": {}
      },
      "source": [
        "from sklearn.preprocessing import LabelEncoder\n",
        "labelencoder_X=LabelEncoder()\n",
        "y_train = labelencoder_X.fit_transform(y_train)\n",
        "y_test = labelencoder_X.transform(y_test)\n",
        "y_val = labelencoder_X.transform(y_val)\n"
      ],
      "execution_count": 92,
      "outputs": []
    },
    {
      "cell_type": "code",
      "metadata": {
        "id": "XKb5MGNkkYIR",
        "colab_type": "code",
        "colab": {}
      },
      "source": [
        "x_train = x_train.reshape(x_train.shape[0], 80, 80, 1)\n",
        "x_val = x_val.reshape(x_val.shape[0], 80, 80, 1)\n",
        "x_test = x_test.reshape(x_test.shape[0], 80, 80, 1)"
      ],
      "execution_count": 93,
      "outputs": []
    },
    {
      "cell_type": "code",
      "metadata": {
        "id": "7iFC_K0DmHi1",
        "colab_type": "code",
        "colab": {
          "base_uri": "https://localhost:8080/",
          "height": 50
        },
        "outputId": "80c0fe66-847e-4da0-fd39-8a9a2dd1cac8"
      },
      "source": [
        "y_train = np_utils.to_categorical(y_train, 5)\n",
        "y_val = np_utils.to_categorical(y_val, 5)\n",
        "y_test = np_utils.to_categorical(y_test, 5)\n",
        "print('Dữ liệu y ban đầu ', y_train[0])\n",
        "print('Dữ liệu y sau one-hot encoding ',y_train[0])"
      ],
      "execution_count": 94,
      "outputs": [
        {
          "output_type": "stream",
          "text": [
            "Dữ liệu y ban đầu  [1. 0. 0. 0. 0.]\n",
            "Dữ liệu y sau one-hot encoding  [1. 0. 0. 0. 0.]\n"
          ],
          "name": "stdout"
        }
      ]
    },
    {
      "cell_type": "code",
      "metadata": {
        "id": "d6O-kmryr7zh",
        "colab_type": "code",
        "colab": {}
      },
      "source": [
        "Y_test = y_test_cnn"
      ],
      "execution_count": null,
      "outputs": []
    },
    {
      "cell_type": "markdown",
      "metadata": {
        "id": "jOzd_LYAOo-n",
        "colab_type": "text"
      },
      "source": [
        "## Xây dựng model"
      ]
    },
    {
      "cell_type": "code",
      "metadata": {
        "id": "BaDda5_Hgzz7",
        "colab_type": "code",
        "colab": {}
      },
      "source": [
        "num_classes = 5"
      ],
      "execution_count": 95,
      "outputs": []
    },
    {
      "cell_type": "code",
      "metadata": {
        "id": "gx8gVIkM573F",
        "colab_type": "code",
        "colab": {}
      },
      "source": [
        "model = Sequential()\n",
        "\n",
        "model.add(Conv2D(32, (3, 3), padding='same', input_shape = (80,80,1), activation = 'relu'))\n",
        "model.add(BatchNormalization(axis=-1))\n",
        "model.add(MaxPooling2D(pool_size = (2, 2)))\n",
        "model.add(Dropout(0.25))\n",
        "\n",
        "model.add(Conv2D(64, (3, 3), padding='same', activation = 'relu'))\n",
        "model.add(BatchNormalization(axis=-1))\n",
        "model.add(MaxPooling2D(pool_size = (2, 2)))\n",
        "model.add(Dropout(0.25))\n",
        "\n",
        "model.add(Conv2D(128, (3, 3), padding='same', activation='relu'))\n",
        "model.add(BatchNormalization())\n",
        "model.add(MaxPooling2D(pool_size=(2, 2)))\n",
        "model.add(Dropout(0.25))\n",
        "\n",
        "model.add(Flatten())\n",
        "model.add(Dense(units = 512, activation = 'relu'))\n",
        "model.add(BatchNormalization())\n",
        "model.add(Dropout(0.5))\n",
        "model.add(Dense(units = num_classes, activation = 'softmax'))"
      ],
      "execution_count": 107,
      "outputs": []
    },
    {
      "cell_type": "code",
      "metadata": {
        "id": "Lba_Jf3JgaWS",
        "colab_type": "code",
        "colab": {}
      },
      "source": [
        "INIT_LR = 0.0001\n",
        "EPOCHS = 50"
      ],
      "execution_count": null,
      "outputs": []
    },
    {
      "cell_type": "code",
      "metadata": {
        "id": "WhrvtMDEgbPU",
        "colab_type": "code",
        "colab": {}
      },
      "source": [
        "model.compile(loss='categorical_crossentropy',\n",
        "              optimizer='adam',\n",
        "              metrics=['accuracy'])"
      ],
      "execution_count": 109,
      "outputs": []
    },
    {
      "cell_type": "code",
      "metadata": {
        "id": "lP_rWueoghwT",
        "colab_type": "code",
        "colab": {
          "base_uri": "https://localhost:8080/",
          "height": 1000
        },
        "outputId": "b5d471d1-9f5c-4122-ba5f-53ed5d9d6ef6"
      },
      "source": [
        "H = model.fit(x_train, y_train, validation_data=(x_val, y_val),\n",
        "          batch_size=328, epochs=50, verbose=1)"
      ],
      "execution_count": 110,
      "outputs": [
        {
          "output_type": "stream",
          "text": [
            "Train on 3280 samples, validate on 720 samples\n",
            "Epoch 1/50\n",
            "3280/3280 [==============================] - 63s 19ms/step - loss: 2.0656 - accuracy: 0.3966 - val_loss: 12.1101 - val_accuracy: 0.2111\n",
            "Epoch 2/50\n",
            "3280/3280 [==============================] - 65s 20ms/step - loss: 1.2016 - accuracy: 0.5631 - val_loss: 18.2065 - val_accuracy: 0.2014\n",
            "Epoch 3/50\n",
            "3280/3280 [==============================] - 62s 19ms/step - loss: 0.9932 - accuracy: 0.6457 - val_loss: 10.1214 - val_accuracy: 0.2292\n",
            "Epoch 4/50\n",
            "3280/3280 [==============================] - 62s 19ms/step - loss: 0.7659 - accuracy: 0.7186 - val_loss: 9.8685 - val_accuracy: 0.2097\n",
            "Epoch 5/50\n",
            "3280/3280 [==============================] - 62s 19ms/step - loss: 0.6287 - accuracy: 0.7732 - val_loss: 8.2416 - val_accuracy: 0.2125\n",
            "Epoch 6/50\n",
            "3280/3280 [==============================] - 62s 19ms/step - loss: 0.4925 - accuracy: 0.8216 - val_loss: 6.6535 - val_accuracy: 0.2278\n",
            "Epoch 7/50\n",
            "3280/3280 [==============================] - 62s 19ms/step - loss: 0.4117 - accuracy: 0.8582 - val_loss: 6.7877 - val_accuracy: 0.2167\n",
            "Epoch 8/50\n",
            "3280/3280 [==============================] - 62s 19ms/step - loss: 0.3100 - accuracy: 0.8948 - val_loss: 4.9810 - val_accuracy: 0.2278\n",
            "Epoch 9/50\n",
            "3280/3280 [==============================] - 62s 19ms/step - loss: 0.2653 - accuracy: 0.9085 - val_loss: 3.8449 - val_accuracy: 0.2556\n",
            "Epoch 10/50\n",
            "3280/3280 [==============================] - 62s 19ms/step - loss: 0.2188 - accuracy: 0.9287 - val_loss: 2.4336 - val_accuracy: 0.3250\n",
            "Epoch 11/50\n",
            "3280/3280 [==============================] - 62s 19ms/step - loss: 0.1876 - accuracy: 0.9360 - val_loss: 2.2913 - val_accuracy: 0.3611\n",
            "Epoch 12/50\n",
            "3280/3280 [==============================] - 65s 20ms/step - loss: 0.1575 - accuracy: 0.9506 - val_loss: 1.8812 - val_accuracy: 0.4736\n",
            "Epoch 13/50\n",
            "3280/3280 [==============================] - 63s 19ms/step - loss: 0.1224 - accuracy: 0.9655 - val_loss: 1.5470 - val_accuracy: 0.5236\n",
            "Epoch 14/50\n",
            "3280/3280 [==============================] - 63s 19ms/step - loss: 0.1020 - accuracy: 0.9701 - val_loss: 1.3462 - val_accuracy: 0.5847\n",
            "Epoch 15/50\n",
            "3280/3280 [==============================] - 63s 19ms/step - loss: 0.0996 - accuracy: 0.9683 - val_loss: 1.0679 - val_accuracy: 0.6417\n",
            "Epoch 16/50\n",
            "3280/3280 [==============================] - 63s 19ms/step - loss: 0.0817 - accuracy: 0.9762 - val_loss: 1.3949 - val_accuracy: 0.5986\n",
            "Epoch 17/50\n",
            "3280/3280 [==============================] - 63s 19ms/step - loss: 0.0693 - accuracy: 0.9829 - val_loss: 1.0428 - val_accuracy: 0.6653\n",
            "Epoch 18/50\n",
            "3280/3280 [==============================] - 63s 19ms/step - loss: 0.0657 - accuracy: 0.9817 - val_loss: 1.1065 - val_accuracy: 0.6528\n",
            "Epoch 19/50\n",
            "3280/3280 [==============================] - 63s 19ms/step - loss: 0.0595 - accuracy: 0.9823 - val_loss: 1.0479 - val_accuracy: 0.6556\n",
            "Epoch 20/50\n",
            "3280/3280 [==============================] - 63s 19ms/step - loss: 0.0456 - accuracy: 0.9899 - val_loss: 1.0847 - val_accuracy: 0.6542\n",
            "Epoch 21/50\n",
            "3280/3280 [==============================] - 63s 19ms/step - loss: 0.0466 - accuracy: 0.9866 - val_loss: 1.0932 - val_accuracy: 0.6917\n",
            "Epoch 22/50\n",
            "3280/3280 [==============================] - 66s 20ms/step - loss: 0.0443 - accuracy: 0.9863 - val_loss: 1.1196 - val_accuracy: 0.6972\n",
            "Epoch 23/50\n",
            "3280/3280 [==============================] - 63s 19ms/step - loss: 0.0355 - accuracy: 0.9915 - val_loss: 1.2512 - val_accuracy: 0.6681\n",
            "Epoch 24/50\n",
            "3280/3280 [==============================] - 63s 19ms/step - loss: 0.0328 - accuracy: 0.9927 - val_loss: 1.2131 - val_accuracy: 0.6833\n",
            "Epoch 25/50\n",
            "3280/3280 [==============================] - 63s 19ms/step - loss: 0.0247 - accuracy: 0.9948 - val_loss: 1.1470 - val_accuracy: 0.6861\n",
            "Epoch 26/50\n",
            "3280/3280 [==============================] - 63s 19ms/step - loss: 0.0228 - accuracy: 0.9963 - val_loss: 1.2049 - val_accuracy: 0.6819\n",
            "Epoch 27/50\n",
            "3280/3280 [==============================] - 63s 19ms/step - loss: 0.0274 - accuracy: 0.9924 - val_loss: 1.2217 - val_accuracy: 0.6639\n",
            "Epoch 28/50\n",
            "3280/3280 [==============================] - 63s 19ms/step - loss: 0.0282 - accuracy: 0.9942 - val_loss: 1.1921 - val_accuracy: 0.6806\n",
            "Epoch 29/50\n",
            "3280/3280 [==============================] - 63s 19ms/step - loss: 0.0212 - accuracy: 0.9948 - val_loss: 1.1811 - val_accuracy: 0.6847\n",
            "Epoch 30/50\n",
            "3280/3280 [==============================] - 63s 19ms/step - loss: 0.0199 - accuracy: 0.9963 - val_loss: 1.2192 - val_accuracy: 0.6931\n",
            "Epoch 31/50\n",
            "3280/3280 [==============================] - 66s 20ms/step - loss: 0.0200 - accuracy: 0.9960 - val_loss: 1.2188 - val_accuracy: 0.6819\n",
            "Epoch 32/50\n",
            "3280/3280 [==============================] - 63s 19ms/step - loss: 0.0216 - accuracy: 0.9945 - val_loss: 1.3130 - val_accuracy: 0.6917\n",
            "Epoch 33/50\n",
            "3280/3280 [==============================] - 64s 19ms/step - loss: 0.0181 - accuracy: 0.9957 - val_loss: 1.4185 - val_accuracy: 0.6986\n",
            "Epoch 34/50\n",
            "3280/3280 [==============================] - 63s 19ms/step - loss: 0.0178 - accuracy: 0.9960 - val_loss: 1.3517 - val_accuracy: 0.6806\n",
            "Epoch 35/50\n",
            "3280/3280 [==============================] - 63s 19ms/step - loss: 0.0164 - accuracy: 0.9976 - val_loss: 1.2787 - val_accuracy: 0.6806\n",
            "Epoch 36/50\n",
            "3280/3280 [==============================] - 63s 19ms/step - loss: 0.0167 - accuracy: 0.9957 - val_loss: 1.2554 - val_accuracy: 0.7083\n",
            "Epoch 37/50\n",
            "3280/3280 [==============================] - 63s 19ms/step - loss: 0.0188 - accuracy: 0.9951 - val_loss: 1.2499 - val_accuracy: 0.6972\n",
            "Epoch 38/50\n",
            "3280/3280 [==============================] - 63s 19ms/step - loss: 0.0152 - accuracy: 0.9976 - val_loss: 1.2290 - val_accuracy: 0.6722\n",
            "Epoch 39/50\n",
            "3280/3280 [==============================] - 63s 19ms/step - loss: 0.0154 - accuracy: 0.9963 - val_loss: 1.3573 - val_accuracy: 0.6875\n",
            "Epoch 40/50\n",
            "3280/3280 [==============================] - 63s 19ms/step - loss: 0.0163 - accuracy: 0.9966 - val_loss: 1.3815 - val_accuracy: 0.7000\n",
            "Epoch 41/50\n",
            "3280/3280 [==============================] - 66s 20ms/step - loss: 0.0127 - accuracy: 0.9966 - val_loss: 1.3905 - val_accuracy: 0.7097\n",
            "Epoch 42/50\n",
            "3280/3280 [==============================] - 63s 19ms/step - loss: 0.0108 - accuracy: 0.9985 - val_loss: 1.3242 - val_accuracy: 0.7042\n",
            "Epoch 43/50\n",
            "3280/3280 [==============================] - 64s 19ms/step - loss: 0.0113 - accuracy: 0.9976 - val_loss: 1.2791 - val_accuracy: 0.7125\n",
            "Epoch 44/50\n",
            "3280/3280 [==============================] - 63s 19ms/step - loss: 0.0095 - accuracy: 0.9988 - val_loss: 1.2827 - val_accuracy: 0.6958\n",
            "Epoch 45/50\n",
            "3280/3280 [==============================] - 63s 19ms/step - loss: 0.0092 - accuracy: 0.9988 - val_loss: 1.2866 - val_accuracy: 0.6861\n",
            "Epoch 46/50\n",
            "3280/3280 [==============================] - 64s 19ms/step - loss: 0.0103 - accuracy: 0.9970 - val_loss: 1.2701 - val_accuracy: 0.7028\n",
            "Epoch 47/50\n",
            "3280/3280 [==============================] - 63s 19ms/step - loss: 0.0095 - accuracy: 0.9979 - val_loss: 1.3879 - val_accuracy: 0.6972\n",
            "Epoch 48/50\n",
            "3280/3280 [==============================] - 63s 19ms/step - loss: 0.0135 - accuracy: 0.9951 - val_loss: 1.3225 - val_accuracy: 0.7097\n",
            "Epoch 49/50\n",
            "3280/3280 [==============================] - 64s 19ms/step - loss: 0.0078 - accuracy: 0.9991 - val_loss: 1.3377 - val_accuracy: 0.6986\n",
            "Epoch 50/50\n",
            "3280/3280 [==============================] - 66s 20ms/step - loss: 0.0088 - accuracy: 0.9991 - val_loss: 1.3538 - val_accuracy: 0.7056\n"
          ],
          "name": "stdout"
        }
      ]
    },
    {
      "cell_type": "code",
      "metadata": {
        "id": "G3ooWiFQr3jP",
        "colab_type": "code",
        "colab": {
          "base_uri": "https://localhost:8080/",
          "height": 50
        },
        "outputId": "251e2068-9b52-4321-ece6-11e2a514de1e"
      },
      "source": [
        "# 9. Đánh giá model với dữ liệu test set\n",
        "score = model.evaluate(x_test, y_test)\n",
        "print(score)"
      ],
      "execution_count": 111,
      "outputs": [
        {
          "output_type": "stream",
          "text": [
            "800/800 [==============================] - 5s 6ms/step\n",
            "[1.5522848081588745, 0.6887500286102295]\n"
          ],
          "name": "stdout"
        }
      ]
    },
    {
      "cell_type": "markdown",
      "metadata": {
        "id": "0AHFAZf3uALM",
        "colab_type": "text"
      },
      "source": [
        "### Dự đoán ảnh"
      ]
    },
    {
      "cell_type": "code",
      "metadata": {
        "id": "rG1zbL7ut_vk",
        "colab_type": "code",
        "colab": {
          "resources": {
            "http://localhost:8080/nbextensions/google.colab/files.js": {
              "data": "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",
              "ok": true,
              "headers": [
                [
                  "content-type",
                  "application/javascript"
                ]
              ],
              "status": 200,
              "status_text": ""
            }
          },
          "base_uri": "https://localhost:8080/",
          "height": 109
        },
        "outputId": "7e104e75-8af3-443c-a8d1-22f5895dd0bc"
      },
      "source": [
        "from google.colab import files\n",
        "uploaded = files.upload()"
      ],
      "execution_count": null,
      "outputs": [
        {
          "output_type": "display_data",
          "data": {
            "text/html": [
              "\n",
              "     <input type=\"file\" id=\"files-89c148ae-53bb-4ffa-8c62-321e53458f7f\" name=\"files[]\" multiple disabled\n",
              "        style=\"border:none\" />\n",
              "     <output id=\"result-89c148ae-53bb-4ffa-8c62-321e53458f7f\">\n",
              "      Upload widget is only available when the cell has been executed in the\n",
              "      current browser session. Please rerun this cell to enable.\n",
              "      </output>\n",
              "      <script src=\"/nbextensions/google.colab/files.js\"></script> "
            ],
            "text/plain": [
              "<IPython.core.display.HTML object>"
            ]
          },
          "metadata": {
            "tags": []
          }
        },
        {
          "output_type": "stream",
          "text": [
            "Saving ninh-duong-lan-ngoc-bat-trend-len-ca-cay-do-hoa-tiet-sau-gian-cach-ly-22a84cb6.jpg to ninh-duong-lan-ngoc-bat-trend-len-ca-cay-do-hoa-tiet-sau-gian-cach-ly-22a84cb6 (1).jpg\n"
          ],
          "name": "stdout"
        }
      ]
    },
    {
      "cell_type": "code",
      "metadata": {
        "id": "m3wPUw3xvVVw",
        "colab_type": "code",
        "colab": {}
      },
      "source": [
        "from PIL import Image\n",
        "from google.colab.patches import cv2_imshow"
      ],
      "execution_count": null,
      "outputs": []
    },
    {
      "cell_type": "code",
      "metadata": {
        "id": "duQExvo9u4Fc",
        "colab_type": "code",
        "colab": {
          "base_uri": "https://localhost:8080/",
          "height": 70
        },
        "outputId": "fe92b68d-07b4-42fc-8f82-4c129a9dfc00"
      },
      "source": [
        "Images_pred = []\n",
        "for fn in uploaded.keys():\n",
        "  print('User uploaded file \"{name}\" with length {length} bytes'.format(name=fn, length=len(uploaded[fn])))\n",
        "  filename = fn\n",
        "  img = cv2.imread(filename,0)\n",
        "  img = cv2.resize(img, (80,80), interpolation = cv2.INTER_AREA)\n",
        "  Images_pred.append(img)\n",
        "Images_pred = np.asarray(Images_pred)\n",
        "Images_pred.shape"
      ],
      "execution_count": null,
      "outputs": [
        {
          "output_type": "stream",
          "text": [
            "User uploaded file \"ninh-duong-lan-ngoc-bat-trend-len-ca-cay-do-hoa-tiet-sau-gian-cach-ly-22a84cb6.jpg\" with length 43279 bytes\n"
          ],
          "name": "stdout"
        },
        {
          "output_type": "execute_result",
          "data": {
            "text/plain": [
              "(1, 80, 80)"
            ]
          },
          "metadata": {
            "tags": []
          },
          "execution_count": 301
        }
      ]
    },
    {
      "cell_type": "code",
      "metadata": {
        "id": "3_q6Ly7wvw6I",
        "colab_type": "code",
        "colab": {
          "base_uri": "https://localhost:8080/",
          "height": 286
        },
        "outputId": "f4e1d95d-446f-41fd-e72f-98e203fb3e87"
      },
      "source": [
        "plt.imshow(Images_pred[0].reshape(80,80), cmap='gray')\n",
        "\n",
        "Predict = model.predict(Images_pred.reshape(1,80,80,1))\n",
        "print('Giá trị dự đoán: ', np.argmax(Predict))"
      ],
      "execution_count": null,
      "outputs": [
        {
          "output_type": "stream",
          "text": [
            "Giá trị dự đoán:  2\n"
          ],
          "name": "stdout"
        },
        {
          "output_type": "display_data",
          "data": {
            "image/png": "[encoded data removed]",
            "text/plain": [
              "<Figure size 432x288 with 1 Axes>"
            ]
          },
          "metadata": {
            "tags": []
          }
        }
      ]
    }
  ]
}