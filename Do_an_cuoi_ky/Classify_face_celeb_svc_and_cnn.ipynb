{
  "nbformat": 4,
  "nbformat_minor": 0,
  "metadata": {
    "colab": {
      "name": "Classify_face_celeb_svc.ipynb",
      "provenance": [],
      "mount_file_id": "https://github.com/kangdoung/CS114.K21/blob/master/Do_an_cuoi_ky/Classify_face_celeb_svc_and_cnn.ipynb",
      "authorship_tag": "ABX9TyP2TZHnBuQTOtoJmwuGYdpT",
      "include_colab_link": true
    },
    "kernelspec": {
      "name": "python3",
      "display_name": "Python 3"
    },
    "accelerator": "GPU"
  },
  "cells": [
    {
      "cell_type": "markdown",
      "metadata": {
        "id": "view-in-github",
        "colab_type": "text"
      },
      "source": [
        "<a href=\"https://colab.research.google.com/github/kangdoung/CS114.K21/blob/master/Do_an_cuoi_ky/Classify_face_celeb_svc_and_cnn.ipynb\" target=\"_parent\"><img src=\"https://colab.research.google.com/assets/colab-badge.svg\" alt=\"Open In Colab\"/></a>"
      ]
    },
    {
      "cell_type": "markdown",
      "metadata": {
        "id": "2F2N2t03If-3",
        "colab_type": "text"
      },
      "source": [
        "# **Bài toán nhận dạng người nổi tiếng**\n",
        "* Input: ảnh của 1 trong 5 người  \n",
        "* Output: tên người nổi tiếng của ảnh đó  \n",
        "* Dataset gồm ảnh của 5 người: Amee, My Tam,Son Tung MTP, Jack và NDLN.  \n",
        "Dữ liệu được thu thập từ google image sau đó được cắt và lấy khuôn mặt của mỗi người trên. Thu thập 100 tấm ảnh của mỗi người.  \n",
        "Dataset được lưu trên google drive ( [*link*](/https://drive.google.com/drive/folders/1YjNGdPb_3equCM7M4tBaXYQpUN8AFIMd?usp=sharing)).\n"
      ]
    },
    {
      "cell_type": "code",
      "metadata": {
        "id": "j0Z5dWEvzbL_",
        "colab_type": "code",
        "colab": {}
      },
      "source": [
        "import numpy as np\n",
        "import pandas as pd\n",
        "import cv2 #open cv\n",
        "import os\n",
        "import matplotlib.pyplot as plt\n",
        "import os \n",
        "import numpy as np\n",
        "import matplotlib.pyplot as plt\n",
        "import cv2\n",
        "from sklearn.model_selection import train_test_split\n",
        "from sklearn.svm import SVC\n",
        "from skimage.color import rgb2gray\n",
        "from skimage.feature import canny\n",
        "from skimage import io\n",
        "from skimage.feature import hog\n",
        "from skimage import exposure"
      ],
      "execution_count": 10,
      "outputs": []
    },
    {
      "cell_type": "markdown",
      "metadata": {
        "id": "dzcgqT4BF360",
        "colab_type": "text"
      },
      "source": [
        "# Load dữ liệu và gán label cho dữ liệu"
      ]
    },
    {
      "cell_type": "markdown",
      "metadata": {
        "id": "HTSUKB5heuQi",
        "colab_type": "text"
      },
      "source": [
        "## Tập TRAIN\n"
      ]
    },
    {
      "cell_type": "code",
      "metadata": {
        "id": "EBAH4kseLV8C",
        "colab_type": "code",
        "colab": {}
      },
      "source": [
        "def read_img(path):\n",
        "  image = []\n",
        "  label = []\n",
        "  for folder in os.listdir(path):\n",
        "    for files in os.listdir(path+'/'+folder):\n",
        "      file_name = path + '/' + folder + '/'+files\n",
        "      img = io.imread(file_name)\n",
        "      \n",
        "      #img = cv2.resize(img,(216,216))\n",
        "      img = rgb2gray(img)\n",
        "      # Chuyen hinh anh ve dang cac dang object\n",
        "      fd_perer, imgs_per = hog(img, orientations=8, pixels_per_cell=(8, 8),\n",
        "                   cells_per_block=(3, 3), visualize=True)\n",
        "      imgs_per = exposure.rescale_intensity(imgs_per,in_range = (0,0.04))\n",
        "      #img_canny = canny(img, sigma=2)\n",
        "      #hog()\n",
        "\n",
        "      #imgss = np.round(img.flatten(), 2)\n",
        "      #print(imgss)\n",
        "      imgs = np.reshape(imgs_per,216*216)\n",
        "      #image.append(img)\n",
        "      image.append(imgs)\n",
        "      label.append(folder)\n",
        "  return np.round(np.asarray(image),2),np.asarray(label,dtype='object')"
      ],
      "execution_count": 8,
      "outputs": []
    },
    {
      "cell_type": "markdown",
      "metadata": {
        "id": "W-49903b9S0g",
        "colab_type": "text"
      },
      "source": [
        "cv2.imread(filename, 0) :\n",
        "\n",
        "0 = cv2.IMREAD_GRAYSCALE  \n",
        "tương tụ 1 cho IMREAD_COLOR và -1 cho IMREAD_UNCHANGED"
      ]
    },
    {
      "cell_type": "markdown",
      "metadata": {
        "id": "NE2F1xWVexAS",
        "colab_type": "text"
      },
      "source": [
        "## Tập TEST"
      ]
    },
    {
      "cell_type": "markdown",
      "metadata": {
        "id": "9EEp_jLkMbaj",
        "colab_type": "text"
      },
      "source": [
        "### Khác"
      ]
    },
    {
      "cell_type": "code",
      "metadata": {
        "id": "MIsmsBaxLeDB",
        "colab_type": "code",
        "colab": {}
      },
      "source": [
        "\n",
        "path_train = 'drive/My Drive/Data_No_Aug/ML/Train'\n",
        "path_test = 'drive/My Drive/Data_No_Aug/ML/Test'\n",
        "x_train,y_train = read_img(path_train)\n",
        "x_test,y_test = read_img(path_test)"
      ],
      "execution_count": 11,
      "outputs": []
    },
    {
      "cell_type": "markdown",
      "metadata": {
        "id": "9vn0FlCxGSPW",
        "colab_type": "text"
      },
      "source": [
        "## Model\n"
      ]
    },
    {
      "cell_type": "code",
      "metadata": {
        "id": "XVvyRMsr1ryU",
        "colab_type": "code",
        "colab": {}
      },
      "source": [
        "from sklearn.decomposition import PCA as RandomizedPCA\n",
        "from sklearn.svm import SVC\n",
        "from sklearn.pipeline import make_pipeline\n",
        "from sklearn.preprocessing import Normalizer"
      ],
      "execution_count": null,
      "outputs": []
    },
    {
      "cell_type": "markdown",
      "metadata": {
        "id": "sCc0jzZXMKGz",
        "colab_type": "text"
      },
      "source": [
        "Thêm các thư viện cần thiết"
      ]
    },
    {
      "cell_type": "code",
      "metadata": {
        "id": "w76gqflg_HZT",
        "colab_type": "code",
        "colab": {
          "base_uri": "https://localhost:8080/",
          "height": 84
        },
        "outputId": "209ba6fd-bb56-435e-a353-13ba71e8fef4"
      },
      "source": [
        "model = SVC(kernel='linear', probability=True)\n",
        "model.fit(x_train, y_train)"
      ],
      "execution_count": 12,
      "outputs": [
        {
          "output_type": "execute_result",
          "data": {
            "text/plain": [
              "SVC(C=1.0, break_ties=False, cache_size=200, class_weight=None, coef0=0.0,\n",
              "    decision_function_shape='ovr', degree=3, gamma='scale', kernel='linear',\n",
              "    max_iter=-1, probability=True, random_state=None, shrinking=True, tol=0.001,\n",
              "    verbose=False)"
            ]
          },
          "metadata": {
            "tags": []
          },
          "execution_count": 12
        }
      ]
    },
    {
      "cell_type": "code",
      "metadata": {
        "id": "3A1eU6Lc2-Uz",
        "colab_type": "code",
        "colab": {}
      },
      "source": [
        "from sklearn.model_selection import learning_curve, GridSearchCV"
      ],
      "execution_count": null,
      "outputs": []
    },
    {
      "cell_type": "code",
      "metadata": {
        "id": "Arf4TolJ3KMV",
        "colab_type": "code",
        "colab": {}
      },
      "source": [
        "pred = model.predict(x_test)"
      ],
      "execution_count": 13,
      "outputs": []
    },
    {
      "cell_type": "code",
      "metadata": {
        "id": "XxdZJ4rP3QT9",
        "colab_type": "code",
        "colab": {}
      },
      "source": [
        "from sklearn.metrics import  accuracy_score\n",
        "from sklearn.metrics import classification_report"
      ],
      "execution_count": 15,
      "outputs": []
    },
    {
      "cell_type": "code",
      "metadata": {
        "id": "PBTx_suK3SPw",
        "colab_type": "code",
        "colab": {
          "base_uri": "https://localhost:8080/",
          "height": 217
        },
        "outputId": "e7d66623-1512-4ed5-bedb-0b2af895347a"
      },
      "source": [
        "print(classification_report(pred,y_test))"
      ],
      "execution_count": 16,
      "outputs": [
        {
          "output_type": "stream",
          "text": [
            "              precision    recall  f1-score   support\n",
            "\n",
            "        Amee       0.55      0.69      0.61        16\n",
            "         MTP       0.90      0.78      0.84        23\n",
            "       MyTam       0.55      0.73      0.63        15\n",
            "        NDLN       0.80      0.55      0.65        29\n",
            "   TranThanh       0.75      0.88      0.81        17\n",
            "\n",
            "    accuracy                           0.71       100\n",
            "   macro avg       0.71      0.73      0.71       100\n",
            "weighted avg       0.74      0.71      0.71       100\n",
            "\n"
          ],
          "name": "stdout"
        }
      ]
    },
    {
      "cell_type": "code",
      "metadata": {
        "id": "3afXW42u30nx",
        "colab_type": "code",
        "colab": {
          "base_uri": "https://localhost:8080/",
          "height": 33
        },
        "outputId": "755f312d-b696-42f4-d28a-521f1b81c177"
      },
      "source": [
        "accuracy_score(pred, y_test)"
      ],
      "execution_count": 18,
      "outputs": [
        {
          "output_type": "execute_result",
          "data": {
            "text/plain": [
              "0.71"
            ]
          },
          "metadata": {
            "tags": []
          },
          "execution_count": 18
        }
      ]
    },
    {
      "cell_type": "markdown",
      "metadata": {
        "id": "zuYbqJlkPjjR",
        "colab_type": "text"
      },
      "source": [
        "### Nhận xét:\n",
        "Overfiting\n",
        "\n",
        "model cho kết quả dự đoán khá thấp do chỉ sử dụng PCA để trích chọn đặc trưng."
      ]
    },
    {
      "cell_type": "markdown",
      "metadata": {
        "id": "1O-8uoutlpVG",
        "colab_type": "text"
      },
      "source": [
        "### Logistic Regression\n"
      ]
    },
    {
      "cell_type": "code",
      "metadata": {
        "id": "xmQx1LdRlrej",
        "colab_type": "code",
        "colab": {}
      },
      "source": [
        ""
      ],
      "execution_count": null,
      "outputs": []
    },
    {
      "cell_type": "markdown",
      "metadata": {
        "id": "6mBgDQv85xk1",
        "colab_type": "text"
      },
      "source": [
        "# Thử nghiệm bộ dữ liệu với CNN\n",
        "\n"
      ]
    },
    {
      "cell_type": "code",
      "metadata": {
        "id": "g5s_IOki50Ek",
        "colab_type": "code",
        "colab": {}
      },
      "source": [
        "from sklearn.preprocessing import LabelBinarizer\n",
        "from sklearn.model_selection import train_test_split\n",
        "from sklearn.metrics import classification_report\n",
        "from keras.models import Sequential\n",
        "from keras.layers.core import Dense, Dropout\n",
        "from keras.layers.convolutional import Conv2D\n",
        "from keras.layers.convolutional import MaxPooling2D\n",
        "from keras.layers import Flatten\n",
        "from keras.layers import BatchNormalization\n",
        "from keras.layers import Dense, Dropout, Activation, Flatten\n",
        "from keras.optimizers import SGD\n",
        "import keras\n",
        "from keras.utils import np_utils\n",
        "from imutils import paths\n",
        "import matplotlib.pyplot as plt\n",
        "import numpy as np\n",
        "import argparse\n",
        "import random\n",
        "import pickle\n",
        "import cv2\n",
        "import os"
      ],
      "execution_count": 109,
      "outputs": []
    },
    {
      "cell_type": "code",
      "metadata": {
        "id": "N0CXeQFknvKv",
        "colab_type": "code",
        "colab": {}
      },
      "source": [
        "image_size = 50\n",
        "def read_img(path):\n",
        "  image = []\n",
        "  label = []\n",
        "  for folder in os.listdir(path):\n",
        "    for files in os.listdir(path+'/'+folder):\n",
        "      file_name = path + '/' + folder + '/'+files\n",
        "      img = io.imread(file_name,0)\n",
        "      \n",
        "      img = cv2.resize(img,(100,100))\n",
        "      img = rgb2gray(img)\n",
        "      # Chuyen hinh anh ve dang cac dang object\n",
        "      fd_perer, imgs_per = hog(img, orientations=8, pixels_per_cell=(8, 8),\n",
        "                   cells_per_block=(3, 3), visualize=True)\n",
        "      imgs_per = exposure.rescale_intensity(imgs_per,in_range = (0,0.04))\n",
        "      #img_canny = canny(img, sigma=2)\n",
        "      #hog()\n",
        "\n",
        "      #imgss = np.round(img.flatten(), 2)\n",
        "      #print(imgss)\n",
        "      imgs = np.reshape(imgs_per,100*100)\n",
        "      #image.append(img)\n",
        "      image.append(imgs)\n",
        "      label.append(folder)\n",
        "  return np.round(np.asarray(image),2),np.asarray(label,dtype='object')\n",
        "def read_date(path):\n",
        "  img = []\n",
        "  label = []\n",
        "  folders = os.listdir(path)\n",
        "  for folder in os.listdir(path):\n",
        "    i = 1\n",
        "    for files in os.listdir(path+'/'+folder):\n",
        "      files_name = path + '/'+folder+'/' + files\n",
        "      \n",
        "      print(files_name)\n",
        "      print('STT: {}'.format(i))\n",
        "      i += 1\n",
        "      image = cv2.imread(files_name,0)\n",
        "      \n",
        "      image = cv2.resize(image, (image_size, image_size))\n",
        "      images=np.reshape(image, image_size*image_size)\n",
        "      img.append(images)\n",
        "      label.append(folder)\n",
        "\n",
        "  return np.asarray(img),np.asarray(label)\n",
        "\n",
        "train_path = 'drive/My Drive/data_cnn/Train'\n",
        "x_train, y_train = read_img(train_path)\n",
        "\n",
        "test_path = 'drive/My Drive/data_cnn/Test'\n",
        "x_test, y_test = read_img(test_path)\n",
        "\n",
        "val_path = 'drive/My Drive/data_cnn/Val'\n",
        "x_val, y_val = read_img(val_path)"
      ],
      "execution_count": 46,
      "outputs": []
    },
    {
      "cell_type": "code",
      "metadata": {
        "id": "2sJQ-yu9oGGa",
        "colab_type": "code",
        "colab": {
          "base_uri": "https://localhost:8080/",
          "height": 33
        },
        "outputId": "803f7717-f53c-4bc1-9dd5-b7290dc4b8f2"
      },
      "source": [
        "x_train.shape"
      ],
      "execution_count": 47,
      "outputs": [
        {
          "output_type": "execute_result",
          "data": {
            "text/plain": [
              "(3370, 10000)"
            ]
          },
          "metadata": {
            "tags": []
          },
          "execution_count": 47
        }
      ]
    },
    {
      "cell_type": "code",
      "metadata": {
        "id": "PKxCezHeH0Ce",
        "colab_type": "code",
        "colab": {
          "base_uri": "https://localhost:8080/",
          "height": 33
        },
        "outputId": "13590ad3-7434-471c-8a98-9914cf4ab3bf"
      },
      "source": [
        "y_train.shape"
      ],
      "execution_count": 48,
      "outputs": [
        {
          "output_type": "execute_result",
          "data": {
            "text/plain": [
              "(3370,)"
            ]
          },
          "metadata": {
            "tags": []
          },
          "execution_count": 48
        }
      ]
    },
    {
      "cell_type": "code",
      "metadata": {
        "id": "q66VE9GUoKy4",
        "colab_type": "code",
        "colab": {
          "base_uri": "https://localhost:8080/",
          "height": 33
        },
        "outputId": "d46b8cc0-2986-4508-a5e5-b6ab42ef4535"
      },
      "source": [
        "x_test.shape"
      ],
      "execution_count": 49,
      "outputs": [
        {
          "output_type": "execute_result",
          "data": {
            "text/plain": [
              "(720, 10000)"
            ]
          },
          "metadata": {
            "tags": []
          },
          "execution_count": 49
        }
      ]
    },
    {
      "cell_type": "code",
      "metadata": {
        "id": "_lFjFY4JH26Y",
        "colab_type": "code",
        "colab": {
          "base_uri": "https://localhost:8080/",
          "height": 33
        },
        "outputId": "3480f903-27e3-426c-d8c0-fa916628d241"
      },
      "source": [
        "y_test.shape"
      ],
      "execution_count": 50,
      "outputs": [
        {
          "output_type": "execute_result",
          "data": {
            "text/plain": [
              "(720,)"
            ]
          },
          "metadata": {
            "tags": []
          },
          "execution_count": 50
        }
      ]
    },
    {
      "cell_type": "code",
      "metadata": {
        "id": "vNUjjCcbuyPs",
        "colab_type": "code",
        "colab": {
          "base_uri": "https://localhost:8080/",
          "height": 33
        },
        "outputId": "594f632b-efcd-4e64-b981-d41bbe9b6f9b"
      },
      "source": [
        "x_val.shape"
      ],
      "execution_count": 51,
      "outputs": [
        {
          "output_type": "execute_result",
          "data": {
            "text/plain": [
              "(720, 10000)"
            ]
          },
          "metadata": {
            "tags": []
          },
          "execution_count": 51
        }
      ]
    },
    {
      "cell_type": "code",
      "metadata": {
        "id": "sgGud2GRcX26",
        "colab_type": "code",
        "colab": {
          "base_uri": "https://localhost:8080/",
          "height": 1000
        },
        "outputId": "cd47dbe0-a0ee-41fe-a0d4-31f76b52b0c1"
      },
      "source": [
        "print(y_val)"
      ],
      "execution_count": 52,
      "outputs": [
        {
          "output_type": "stream",
          "text": [
            "['NDLN' 'NDLN' 'NDLN' 'NDLN' 'NDLN' 'NDLN' 'NDLN' 'NDLN' 'NDLN' 'NDLN'\n",
            " 'NDLN' 'NDLN' 'NDLN' 'NDLN' 'NDLN' 'NDLN' 'NDLN' 'NDLN' 'NDLN' 'NDLN'\n",
            " 'NDLN' 'NDLN' 'NDLN' 'NDLN' 'NDLN' 'NDLN' 'NDLN' 'NDLN' 'NDLN' 'NDLN'\n",
            " 'NDLN' 'NDLN' 'NDLN' 'NDLN' 'NDLN' 'NDLN' 'NDLN' 'NDLN' 'NDLN' 'NDLN'\n",
            " 'NDLN' 'NDLN' 'NDLN' 'NDLN' 'NDLN' 'NDLN' 'NDLN' 'NDLN' 'NDLN' 'NDLN'\n",
            " 'NDLN' 'NDLN' 'NDLN' 'NDLN' 'NDLN' 'NDLN' 'NDLN' 'NDLN' 'NDLN' 'NDLN'\n",
            " 'NDLN' 'NDLN' 'NDLN' 'NDLN' 'NDLN' 'NDLN' 'NDLN' 'NDLN' 'NDLN' 'NDLN'\n",
            " 'NDLN' 'NDLN' 'NDLN' 'NDLN' 'NDLN' 'NDLN' 'NDLN' 'NDLN' 'NDLN' 'NDLN'\n",
            " 'NDLN' 'NDLN' 'NDLN' 'NDLN' 'NDLN' 'NDLN' 'NDLN' 'NDLN' 'NDLN' 'NDLN'\n",
            " 'NDLN' 'NDLN' 'NDLN' 'NDLN' 'NDLN' 'NDLN' 'NDLN' 'NDLN' 'NDLN' 'NDLN'\n",
            " 'NDLN' 'NDLN' 'NDLN' 'NDLN' 'NDLN' 'NDLN' 'NDLN' 'NDLN' 'NDLN' 'NDLN'\n",
            " 'NDLN' 'NDLN' 'NDLN' 'NDLN' 'NDLN' 'NDLN' 'NDLN' 'NDLN' 'NDLN' 'NDLN'\n",
            " 'NDLN' 'NDLN' 'NDLN' 'NDLN' 'NDLN' 'NDLN' 'NDLN' 'NDLN' 'NDLN' 'NDLN'\n",
            " 'NDLN' 'NDLN' 'NDLN' 'NDLN' 'NDLN' 'NDLN' 'NDLN' 'NDLN' 'NDLN' 'NDLN'\n",
            " 'NDLN' 'NDLN' 'NDLN' 'NDLN' 'TranThanh' 'TranThanh' 'TranThanh'\n",
            " 'TranThanh' 'TranThanh' 'TranThanh' 'TranThanh' 'TranThanh' 'TranThanh'\n",
            " 'TranThanh' 'TranThanh' 'TranThanh' 'TranThanh' 'TranThanh' 'TranThanh'\n",
            " 'TranThanh' 'TranThanh' 'TranThanh' 'TranThanh' 'TranThanh' 'TranThanh'\n",
            " 'TranThanh' 'TranThanh' 'TranThanh' 'TranThanh' 'TranThanh' 'TranThanh'\n",
            " 'TranThanh' 'TranThanh' 'TranThanh' 'TranThanh' 'TranThanh' 'TranThanh'\n",
            " 'TranThanh' 'TranThanh' 'TranThanh' 'TranThanh' 'TranThanh' 'TranThanh'\n",
            " 'TranThanh' 'TranThanh' 'TranThanh' 'TranThanh' 'TranThanh' 'TranThanh'\n",
            " 'TranThanh' 'TranThanh' 'TranThanh' 'TranThanh' 'TranThanh' 'TranThanh'\n",
            " 'TranThanh' 'TranThanh' 'TranThanh' 'TranThanh' 'TranThanh' 'TranThanh'\n",
            " 'TranThanh' 'TranThanh' 'TranThanh' 'TranThanh' 'TranThanh' 'TranThanh'\n",
            " 'TranThanh' 'TranThanh' 'TranThanh' 'TranThanh' 'TranThanh' 'TranThanh'\n",
            " 'TranThanh' 'TranThanh' 'TranThanh' 'TranThanh' 'TranThanh' 'TranThanh'\n",
            " 'TranThanh' 'TranThanh' 'TranThanh' 'TranThanh' 'TranThanh' 'TranThanh'\n",
            " 'TranThanh' 'TranThanh' 'TranThanh' 'TranThanh' 'TranThanh' 'TranThanh'\n",
            " 'TranThanh' 'TranThanh' 'TranThanh' 'TranThanh' 'TranThanh' 'TranThanh'\n",
            " 'TranThanh' 'TranThanh' 'TranThanh' 'TranThanh' 'TranThanh' 'TranThanh'\n",
            " 'TranThanh' 'TranThanh' 'TranThanh' 'TranThanh' 'TranThanh' 'TranThanh'\n",
            " 'TranThanh' 'TranThanh' 'TranThanh' 'TranThanh' 'TranThanh' 'TranThanh'\n",
            " 'TranThanh' 'TranThanh' 'TranThanh' 'TranThanh' 'TranThanh' 'TranThanh'\n",
            " 'TranThanh' 'TranThanh' 'TranThanh' 'TranThanh' 'TranThanh' 'TranThanh'\n",
            " 'TranThanh' 'TranThanh' 'TranThanh' 'TranThanh' 'TranThanh' 'TranThanh'\n",
            " 'TranThanh' 'TranThanh' 'TranThanh' 'TranThanh' 'TranThanh' 'TranThanh'\n",
            " 'TranThanh' 'TranThanh' 'TranThanh' 'TranThanh' 'TranThanh' 'TranThanh'\n",
            " 'TranThanh' 'TranThanh' 'TranThanh' 'Amee' 'Amee' 'Amee' 'Amee' 'Amee'\n",
            " 'Amee' 'Amee' 'Amee' 'Amee' 'Amee' 'Amee' 'Amee' 'Amee' 'Amee' 'Amee'\n",
            " 'Amee' 'Amee' 'Amee' 'Amee' 'Amee' 'Amee' 'Amee' 'Amee' 'Amee' 'Amee'\n",
            " 'Amee' 'Amee' 'Amee' 'Amee' 'Amee' 'Amee' 'Amee' 'Amee' 'Amee' 'Amee'\n",
            " 'Amee' 'Amee' 'Amee' 'Amee' 'Amee' 'Amee' 'Amee' 'Amee' 'Amee' 'Amee'\n",
            " 'Amee' 'Amee' 'Amee' 'Amee' 'Amee' 'Amee' 'Amee' 'Amee' 'Amee' 'Amee'\n",
            " 'Amee' 'Amee' 'Amee' 'Amee' 'Amee' 'Amee' 'Amee' 'Amee' 'Amee' 'Amee'\n",
            " 'Amee' 'Amee' 'Amee' 'Amee' 'Amee' 'Amee' 'Amee' 'Amee' 'Amee' 'Amee'\n",
            " 'Amee' 'Amee' 'Amee' 'Amee' 'Amee' 'Amee' 'Amee' 'Amee' 'Amee' 'Amee'\n",
            " 'Amee' 'Amee' 'Amee' 'Amee' 'Amee' 'Amee' 'Amee' 'Amee' 'Amee' 'Amee'\n",
            " 'Amee' 'Amee' 'Amee' 'Amee' 'Amee' 'Amee' 'Amee' 'Amee' 'Amee' 'Amee'\n",
            " 'Amee' 'Amee' 'Amee' 'Amee' 'Amee' 'Amee' 'Amee' 'Amee' 'Amee' 'Amee'\n",
            " 'Amee' 'Amee' 'Amee' 'Amee' 'Amee' 'Amee' 'Amee' 'Amee' 'Amee' 'Amee'\n",
            " 'Amee' 'Amee' 'Amee' 'Amee' 'Amee' 'Amee' 'Amee' 'Amee' 'Amee' 'Amee'\n",
            " 'Amee' 'Amee' 'Amee' 'Amee' 'Amee' 'Amee' 'Amee' 'Amee' 'Amee' 'MTP'\n",
            " 'MTP' 'MTP' 'MTP' 'MTP' 'MTP' 'MTP' 'MTP' 'MTP' 'MTP' 'MTP' 'MTP' 'MTP'\n",
            " 'MTP' 'MTP' 'MTP' 'MTP' 'MTP' 'MTP' 'MTP' 'MTP' 'MTP' 'MTP' 'MTP' 'MTP'\n",
            " 'MTP' 'MTP' 'MTP' 'MTP' 'MTP' 'MTP' 'MTP' 'MTP' 'MTP' 'MTP' 'MTP' 'MTP'\n",
            " 'MTP' 'MTP' 'MTP' 'MTP' 'MTP' 'MTP' 'MTP' 'MTP' 'MTP' 'MTP' 'MTP' 'MTP'\n",
            " 'MTP' 'MTP' 'MTP' 'MTP' 'MTP' 'MTP' 'MTP' 'MTP' 'MTP' 'MTP' 'MTP' 'MTP'\n",
            " 'MTP' 'MTP' 'MTP' 'MTP' 'MTP' 'MTP' 'MTP' 'MTP' 'MTP' 'MTP' 'MTP' 'MTP'\n",
            " 'MTP' 'MTP' 'MTP' 'MTP' 'MTP' 'MTP' 'MTP' 'MTP' 'MTP' 'MTP' 'MTP' 'MTP'\n",
            " 'MTP' 'MTP' 'MTP' 'MTP' 'MTP' 'MTP' 'MTP' 'MTP' 'MTP' 'MTP' 'MTP' 'MTP'\n",
            " 'MTP' 'MTP' 'MTP' 'MTP' 'MTP' 'MTP' 'MTP' 'MTP' 'MTP' 'MTP' 'MTP' 'MTP'\n",
            " 'MTP' 'MTP' 'MTP' 'MTP' 'MTP' 'MTP' 'MTP' 'MTP' 'MTP' 'MTP' 'MTP' 'MTP'\n",
            " 'MTP' 'MTP' 'MTP' 'MTP' 'MTP' 'MTP' 'MTP' 'MTP' 'MTP' 'MTP' 'MTP' 'MTP'\n",
            " 'MTP' 'MTP' 'MTP' 'MTP' 'MTP' 'MTP' 'MTP' 'MTP' 'MTP' 'MTP' 'MTP' 'MyTam'\n",
            " 'MyTam' 'MyTam' 'MyTam' 'MyTam' 'MyTam' 'MyTam' 'MyTam' 'MyTam' 'MyTam'\n",
            " 'MyTam' 'MyTam' 'MyTam' 'MyTam' 'MyTam' 'MyTam' 'MyTam' 'MyTam' 'MyTam'\n",
            " 'MyTam' 'MyTam' 'MyTam' 'MyTam' 'MyTam' 'MyTam' 'MyTam' 'MyTam' 'MyTam'\n",
            " 'MyTam' 'MyTam' 'MyTam' 'MyTam' 'MyTam' 'MyTam' 'MyTam' 'MyTam' 'MyTam'\n",
            " 'MyTam' 'MyTam' 'MyTam' 'MyTam' 'MyTam' 'MyTam' 'MyTam' 'MyTam' 'MyTam'\n",
            " 'MyTam' 'MyTam' 'MyTam' 'MyTam' 'MyTam' 'MyTam' 'MyTam' 'MyTam' 'MyTam'\n",
            " 'MyTam' 'MyTam' 'MyTam' 'MyTam' 'MyTam' 'MyTam' 'MyTam' 'MyTam' 'MyTam'\n",
            " 'MyTam' 'MyTam' 'MyTam' 'MyTam' 'MyTam' 'MyTam' 'MyTam' 'MyTam' 'MyTam'\n",
            " 'MyTam' 'MyTam' 'MyTam' 'MyTam' 'MyTam' 'MyTam' 'MyTam' 'MyTam' 'MyTam'\n",
            " 'MyTam' 'MyTam' 'MyTam' 'MyTam' 'MyTam' 'MyTam' 'MyTam' 'MyTam' 'MyTam'\n",
            " 'MyTam' 'MyTam' 'MyTam' 'MyTam' 'MyTam' 'MyTam' 'MyTam' 'MyTam' 'MyTam'\n",
            " 'MyTam' 'MyTam' 'MyTam' 'MyTam' 'MyTam' 'MyTam' 'MyTam' 'MyTam' 'MyTam'\n",
            " 'MyTam' 'MyTam' 'MyTam' 'MyTam' 'MyTam' 'MyTam' 'MyTam' 'MyTam' 'MyTam'\n",
            " 'MyTam' 'MyTam' 'MyTam' 'MyTam' 'MyTam' 'MyTam' 'MyTam' 'MyTam' 'MyTam'\n",
            " 'MyTam' 'MyTam' 'MyTam' 'MyTam' 'MyTam' 'MyTam' 'MyTam' 'MyTam' 'MyTam'\n",
            " 'MyTam' 'MyTam' 'MyTam' 'MyTam' 'MyTam' 'MyTam' 'MyTam' 'MyTam']\n"
          ],
          "name": "stdout"
        }
      ]
    },
    {
      "cell_type": "markdown",
      "metadata": {
        "id": "XlplgJsNgmLV",
        "colab_type": "text"
      },
      "source": [
        "## Chỉnh sửa các biến đầu vào đề phù hợp với yêu cầu đầu vào của cnn"
      ]
    },
    {
      "cell_type": "code",
      "metadata": {
        "id": "QNZSqN28oOco",
        "colab_type": "code",
        "colab": {}
      },
      "source": [
        "from sklearn.preprocessing import LabelEncoder\n",
        "labelencoder_X=LabelEncoder()\n",
        "y_train = labelencoder_X.fit_transform(y_train)\n",
        "y_test = labelencoder_X.transform(y_test)\n",
        "y_val = labelencoder_X.transform(y_val)\n"
      ],
      "execution_count": 53,
      "outputs": []
    },
    {
      "cell_type": "code",
      "metadata": {
        "id": "XKb5MGNkkYIR",
        "colab_type": "code",
        "colab": {}
      },
      "source": [
        "x_train = x_train.reshape(x_train.shape[0], 100, 100, 1)\n",
        "x_val = x_val.reshape(x_val.shape[0], 100, 100, 1)\n",
        "x_test = x_test.reshape(x_test.shape[0], 100, 100, 1)"
      ],
      "execution_count": 54,
      "outputs": []
    },
    {
      "cell_type": "code",
      "metadata": {
        "id": "7iFC_K0DmHi1",
        "colab_type": "code",
        "colab": {
          "base_uri": "https://localhost:8080/",
          "height": 50
        },
        "outputId": "e957a202-1461-4f9d-e73d-748b39128eb5"
      },
      "source": [
        "y_train = np_utils.to_categorical(y_train, 5)\n",
        "y_val = np_utils.to_categorical(y_val, 5)\n",
        "y_test = np_utils.to_categorical(y_test, 5)\n",
        "print('Dữ liệu y ban đầu ', y_train[0])\n",
        "print('Dữ liệu y sau one-hot encoding ',y_train[0])"
      ],
      "execution_count": 56,
      "outputs": [
        {
          "output_type": "stream",
          "text": [
            "Dữ liệu y ban đầu  [0. 0. 0. 1. 0.]\n",
            "Dữ liệu y sau one-hot encoding  [0. 0. 0. 1. 0.]\n"
          ],
          "name": "stdout"
        }
      ]
    },
    {
      "cell_type": "markdown",
      "metadata": {
        "id": "jOzd_LYAOo-n",
        "colab_type": "text"
      },
      "source": [
        "## Xây dựng model"
      ]
    },
    {
      "cell_type": "code",
      "metadata": {
        "id": "gx8gVIkM573F",
        "colab_type": "code",
        "colab": {}
      },
      "source": [
        "num_classes = 5\n",
        "model = Sequential()\n",
        "\n",
        "model.add(Conv2D(32, (3, 3), input_shape = (100,100,1), activation = 'relu'))\n",
        "model.add(BatchNormalization())\n",
        "model.add(MaxPooling2D(pool_size = (2, 2)))\n",
        "model.add(Dropout(0.25))\n",
        "\n",
        "model.add(Conv2D(64, (3, 3), activation = 'relu'))\n",
        "model.add(BatchNormalization())\n",
        "model.add(MaxPooling2D(pool_size=(2, 2)))\n",
        "model.add(Dropout(0.25))\n",
        "\n",
        "model.add(Conv2D(128, (3, 3), activation = 'relu'))\n",
        "model.add(BatchNormalization())\n",
        "model.add(MaxPooling2D(pool_size=(2, 2)))\n",
        "model.add(Dropout(0.25))\n",
        "\n",
        "model.add(Flatten())\n",
        "model.add(Dense(units = 512, activation = 'relu'))\n",
        "model.add(BatchNormalization())\n",
        "model.add(Dropout(0.5))\n",
        "model.add(Dense(units = num_classes, activation = 'softmax'))"
      ],
      "execution_count": 110,
      "outputs": []
    },
    {
      "cell_type": "code",
      "metadata": {
        "id": "0WZpk2V9W1Ci",
        "colab_type": "code",
        "colab": {}
      },
      "source": [
        "model = Sequential()\n",
        "model.add(Conv2D(32, (3, 3), input_shape = (100,100,1), activation = 'relu'))\n",
        "model.add(MaxPooling2D(pool_size = (2, 2)))\n",
        "model.add(Conv2D(64, (3, 3), activation = 'relu'))\n",
        "model.add(MaxPooling2D(pool_size = (2, 2)))\n",
        "model.add(Conv2D(128, (3, 3), activation = 'relu'))\n",
        "model.add(MaxPooling2D(pool_size = (2, 2)))\n",
        "model.add(Conv2D(128, (3, 3), activation = 'relu'))\n",
        "model.add(MaxPooling2D(pool_size = (2, 2)))\n",
        "model.add(Flatten())\n",
        "\n",
        "model.add(Dense(units = 1024, activation = 'relu'))\n",
        "model.add(BatchNormalization())\n",
        "model.add(Dropout(0.5))\n",
        "model.add(Dense(5, activation = 'softmax'))\n"
      ],
      "execution_count": 111,
      "outputs": []
    },
    {
      "cell_type": "code",
      "metadata": {
        "id": "Uwx_RUzGcxcv",
        "colab_type": "code",
        "colab": {
          "base_uri": "https://localhost:8080/",
          "height": 70
        },
        "outputId": "5378b7ae-94fa-4e79-efb0-622872d5b7ba"
      },
      "source": [
        "model = Sequential()\n",
        "model.add(Conv2D(64, (3, 3), border_mode='valid', input_shape =( 100,100,1))) \n",
        "model.add(Dropout(0.25)) \n",
        "model.add(Conv2D(64, (3, 3))) \n",
        "model.add(Dropout(0.25)) \n",
        "model.add(Activation('relu')) \n",
        "model.add(MaxPooling2D(pool_size=(2, 2)))\n",
        "\n",
        "model.add(Conv2D(64, (3, 3)))\n",
        "model.add(Dropout(0.25)) \n",
        "model.add(Activation('relu')) \n",
        "model.add(MaxPooling2D(pool_size = (2, 2)))\n",
        "\n",
        "model.add(Conv2D(128, (3, 3)))\n",
        "model.add(Dropout(0.25)) \n",
        "model.add(Activation('relu')) \n",
        "model.add(MaxPooling2D(pool_size = (2, 2)))\n",
        "\n",
        "model.add(Flatten())\n",
        "\n",
        "model.add(Dense(units = 1024, activation = 'relu'))\n",
        "model.add(BatchNormalization())\n",
        "model.add(Dropout(0.5))\n",
        "model.add(Dense(5, activation = 'softmax'))"
      ],
      "execution_count": 112,
      "outputs": [
        {
          "output_type": "stream",
          "text": [
            "/usr/local/lib/python3.6/dist-packages/ipykernel_launcher.py:2: UserWarning: Update your `Conv2D` call to the Keras 2 API: `Conv2D(64, (3, 3), input_shape=(100, 100,..., padding=\"valid\")`\n",
            "  \n"
          ],
          "name": "stderr"
        }
      ]
    },
    {
      "cell_type": "code",
      "metadata": {
        "id": "DOIuuYyyHwCM",
        "colab_type": "code",
        "colab": {}
      },
      "source": [
        "#opt = keras.optimizers.Adam(learning_rate=0.0005)"
      ],
      "execution_count": null,
      "outputs": []
    },
    {
      "cell_type": "code",
      "metadata": {
        "id": "WhrvtMDEgbPU",
        "colab_type": "code",
        "colab": {
          "base_uri": "https://localhost:8080/",
          "height": 1000
        },
        "outputId": "b3c79c16-b46a-41d0-e31b-b6306859a9e5"
      },
      "source": [
        "model.compile(loss='categorical_crossentropy',\n",
        "              optimizer = 'adam',\n",
        "              metrics=['accuracy'])\n",
        "H = model.fit(x_train, y_train, validation_data=(x_val, y_val),\n",
        "          batch_size=64, epochs=100, verbose=1)"
      ],
      "execution_count": 113,
      "outputs": [
        {
          "output_type": "stream",
          "text": [
            "Train on 3370 samples, validate on 720 samples\n",
            "Epoch 1/100\n",
            "3370/3370 [==============================] - 13s 4ms/step - loss: 1.4732 - accuracy: 0.4694 - val_loss: 1.7346 - val_accuracy: 0.2875\n",
            "Epoch 2/100\n",
            "3370/3370 [==============================] - 11s 3ms/step - loss: 1.0467 - accuracy: 0.6326 - val_loss: 1.1996 - val_accuracy: 0.5444\n",
            "Epoch 3/100\n",
            "3370/3370 [==============================] - 11s 3ms/step - loss: 0.8483 - accuracy: 0.7080 - val_loss: 1.0416 - val_accuracy: 0.6347\n",
            "Epoch 4/100\n",
            "3370/3370 [==============================] - 11s 3ms/step - loss: 0.6638 - accuracy: 0.7656 - val_loss: 1.3765 - val_accuracy: 0.5111\n",
            "Epoch 5/100\n",
            "3370/3370 [==============================] - 11s 3ms/step - loss: 0.5103 - accuracy: 0.8193 - val_loss: 1.8147 - val_accuracy: 0.4542\n",
            "Epoch 6/100\n",
            "3370/3370 [==============================] - 11s 3ms/step - loss: 0.4055 - accuracy: 0.8555 - val_loss: 1.3365 - val_accuracy: 0.5486\n",
            "Epoch 7/100\n",
            "3370/3370 [==============================] - 11s 3ms/step - loss: 0.3508 - accuracy: 0.8816 - val_loss: 1.3620 - val_accuracy: 0.5458\n",
            "Epoch 8/100\n",
            "3370/3370 [==============================] - 11s 3ms/step - loss: 0.2872 - accuracy: 0.9000 - val_loss: 1.2625 - val_accuracy: 0.5792\n",
            "Epoch 9/100\n",
            "3370/3370 [==============================] - 11s 3ms/step - loss: 0.2391 - accuracy: 0.9169 - val_loss: 1.3974 - val_accuracy: 0.5847\n",
            "Epoch 10/100\n",
            "3370/3370 [==============================] - 11s 3ms/step - loss: 0.2097 - accuracy: 0.9237 - val_loss: 1.2754 - val_accuracy: 0.5917\n",
            "Epoch 11/100\n",
            "3370/3370 [==============================] - 11s 3ms/step - loss: 0.1767 - accuracy: 0.9380 - val_loss: 1.4622 - val_accuracy: 0.5944\n",
            "Epoch 12/100\n",
            "3370/3370 [==============================] - 11s 3ms/step - loss: 0.1521 - accuracy: 0.9451 - val_loss: 1.2130 - val_accuracy: 0.6361\n",
            "Epoch 13/100\n",
            "3370/3370 [==============================] - 11s 3ms/step - loss: 0.1276 - accuracy: 0.9567 - val_loss: 1.1853 - val_accuracy: 0.6264\n",
            "Epoch 14/100\n",
            "3370/3370 [==============================] - 11s 3ms/step - loss: 0.1096 - accuracy: 0.9602 - val_loss: 1.2780 - val_accuracy: 0.6333\n",
            "Epoch 15/100\n",
            "3370/3370 [==============================] - 11s 3ms/step - loss: 0.0985 - accuracy: 0.9662 - val_loss: 1.1896 - val_accuracy: 0.6472\n",
            "Epoch 16/100\n",
            "3370/3370 [==============================] - 11s 3ms/step - loss: 0.0861 - accuracy: 0.9703 - val_loss: 1.1536 - val_accuracy: 0.6625\n",
            "Epoch 17/100\n",
            "3370/3370 [==============================] - 11s 3ms/step - loss: 0.0817 - accuracy: 0.9709 - val_loss: 1.1930 - val_accuracy: 0.6597\n",
            "Epoch 18/100\n",
            "3370/3370 [==============================] - 11s 3ms/step - loss: 0.0837 - accuracy: 0.9712 - val_loss: 1.3107 - val_accuracy: 0.6556\n",
            "Epoch 19/100\n",
            "3370/3370 [==============================] - 11s 3ms/step - loss: 0.0858 - accuracy: 0.9703 - val_loss: 1.1495 - val_accuracy: 0.6708\n",
            "Epoch 20/100\n",
            "3370/3370 [==============================] - 11s 3ms/step - loss: 0.0609 - accuracy: 0.9801 - val_loss: 1.2063 - val_accuracy: 0.6722\n",
            "Epoch 21/100\n",
            "3370/3370 [==============================] - 11s 3ms/step - loss: 0.0557 - accuracy: 0.9810 - val_loss: 1.2191 - val_accuracy: 0.6611\n",
            "Epoch 22/100\n",
            "3370/3370 [==============================] - 11s 3ms/step - loss: 0.0484 - accuracy: 0.9846 - val_loss: 1.1892 - val_accuracy: 0.6847\n",
            "Epoch 23/100\n",
            "3370/3370 [==============================] - 11s 3ms/step - loss: 0.0412 - accuracy: 0.9875 - val_loss: 1.1879 - val_accuracy: 0.6750\n",
            "Epoch 24/100\n",
            "3370/3370 [==============================] - 11s 3ms/step - loss: 0.0356 - accuracy: 0.9899 - val_loss: 1.1222 - val_accuracy: 0.6778\n",
            "Epoch 25/100\n",
            "3370/3370 [==============================] - 11s 3ms/step - loss: 0.0460 - accuracy: 0.9846 - val_loss: 1.4398 - val_accuracy: 0.6708\n",
            "Epoch 26/100\n",
            "3370/3370 [==============================] - 11s 3ms/step - loss: 0.0404 - accuracy: 0.9881 - val_loss: 1.3656 - val_accuracy: 0.6583\n",
            "Epoch 27/100\n",
            "3370/3370 [==============================] - 11s 3ms/step - loss: 0.0344 - accuracy: 0.9890 - val_loss: 1.1519 - val_accuracy: 0.6764\n",
            "Epoch 28/100\n",
            "3370/3370 [==============================] - 11s 3ms/step - loss: 0.0321 - accuracy: 0.9893 - val_loss: 1.3183 - val_accuracy: 0.6792\n",
            "Epoch 29/100\n",
            "3370/3370 [==============================] - 11s 3ms/step - loss: 0.0414 - accuracy: 0.9864 - val_loss: 1.4479 - val_accuracy: 0.6625\n",
            "Epoch 30/100\n",
            "3370/3370 [==============================] - 11s 3ms/step - loss: 0.0370 - accuracy: 0.9852 - val_loss: 1.4235 - val_accuracy: 0.6569\n",
            "Epoch 31/100\n",
            "3370/3370 [==============================] - 11s 3ms/step - loss: 0.0395 - accuracy: 0.9861 - val_loss: 1.3240 - val_accuracy: 0.6653\n",
            "Epoch 32/100\n",
            "3370/3370 [==============================] - 11s 3ms/step - loss: 0.0258 - accuracy: 0.9932 - val_loss: 1.3416 - val_accuracy: 0.6542\n",
            "Epoch 33/100\n",
            "3370/3370 [==============================] - 11s 3ms/step - loss: 0.0380 - accuracy: 0.9866 - val_loss: 1.4352 - val_accuracy: 0.6486\n",
            "Epoch 34/100\n",
            "3370/3370 [==============================] - 11s 3ms/step - loss: 0.0364 - accuracy: 0.9858 - val_loss: 1.3879 - val_accuracy: 0.6708\n",
            "Epoch 35/100\n",
            "3370/3370 [==============================] - 11s 3ms/step - loss: 0.0340 - accuracy: 0.9884 - val_loss: 1.4133 - val_accuracy: 0.6431\n",
            "Epoch 36/100\n",
            "3370/3370 [==============================] - 11s 3ms/step - loss: 0.0263 - accuracy: 0.9926 - val_loss: 1.4007 - val_accuracy: 0.6583\n",
            "Epoch 37/100\n",
            "3370/3370 [==============================] - 11s 3ms/step - loss: 0.0227 - accuracy: 0.9908 - val_loss: 1.3015 - val_accuracy: 0.6569\n",
            "Epoch 38/100\n",
            "3370/3370 [==============================] - 11s 3ms/step - loss: 0.0313 - accuracy: 0.9908 - val_loss: 1.3228 - val_accuracy: 0.6639\n",
            "Epoch 39/100\n",
            "3370/3370 [==============================] - 11s 3ms/step - loss: 0.0278 - accuracy: 0.9896 - val_loss: 1.4299 - val_accuracy: 0.6292\n",
            "Epoch 40/100\n",
            "3328/3370 [============================>.] - ETA: 0s - loss: 0.0221 - accuracy: 0.9940"
          ],
          "name": "stdout"
        },
        {
          "output_type": "error",
          "ename": "KeyboardInterrupt",
          "evalue": "ignored",
          "traceback": [
            "\u001b[0;31m---------------------------------------------------------------------------\u001b[0m",
            "\u001b[0;31mKeyboardInterrupt\u001b[0m                         Traceback (most recent call last)",
            "\u001b[0;32m<ipython-input-113-3493dea0dfa0>\u001b[0m in \u001b[0;36m<module>\u001b[0;34m()\u001b[0m\n\u001b[1;32m      3\u001b[0m               metrics=['accuracy'])\n\u001b[1;32m      4\u001b[0m H = model.fit(x_train, y_train, validation_data=(x_val, y_val),\n\u001b[0;32m----> 5\u001b[0;31m           batch_size=64, epochs=100, verbose=1)\n\u001b[0m",
            "\u001b[0;32m/usr/local/lib/python3.6/dist-packages/keras/engine/training.py\u001b[0m in \u001b[0;36mfit\u001b[0;34m(self, x, y, batch_size, epochs, verbose, callbacks, validation_split, validation_data, shuffle, class_weight, sample_weight, initial_epoch, steps_per_epoch, validation_steps, validation_freq, max_queue_size, workers, use_multiprocessing, **kwargs)\u001b[0m\n\u001b[1;32m   1237\u001b[0m                                         \u001b[0msteps_per_epoch\u001b[0m\u001b[0;34m=\u001b[0m\u001b[0msteps_per_epoch\u001b[0m\u001b[0;34m,\u001b[0m\u001b[0;34m\u001b[0m\u001b[0;34m\u001b[0m\u001b[0m\n\u001b[1;32m   1238\u001b[0m                                         \u001b[0mvalidation_steps\u001b[0m\u001b[0;34m=\u001b[0m\u001b[0mvalidation_steps\u001b[0m\u001b[0;34m,\u001b[0m\u001b[0;34m\u001b[0m\u001b[0;34m\u001b[0m\u001b[0m\n\u001b[0;32m-> 1239\u001b[0;31m                                         validation_freq=validation_freq)\n\u001b[0m\u001b[1;32m   1240\u001b[0m \u001b[0;34m\u001b[0m\u001b[0m\n\u001b[1;32m   1241\u001b[0m     def evaluate(self,\n",
            "\u001b[0;32m/usr/local/lib/python3.6/dist-packages/keras/engine/training_arrays.py\u001b[0m in \u001b[0;36mfit_loop\u001b[0;34m(model, fit_function, fit_inputs, out_labels, batch_size, epochs, verbose, callbacks, val_function, val_inputs, shuffle, initial_epoch, steps_per_epoch, validation_steps, validation_freq)\u001b[0m\n\u001b[1;32m    208\u001b[0m                                          \u001b[0mbatch_size\u001b[0m\u001b[0;34m=\u001b[0m\u001b[0mbatch_size\u001b[0m\u001b[0;34m,\u001b[0m\u001b[0;34m\u001b[0m\u001b[0;34m\u001b[0m\u001b[0m\n\u001b[1;32m    209\u001b[0m                                          \u001b[0mcallbacks\u001b[0m\u001b[0;34m=\u001b[0m\u001b[0mcallbacks\u001b[0m\u001b[0;34m,\u001b[0m\u001b[0;34m\u001b[0m\u001b[0;34m\u001b[0m\u001b[0m\n\u001b[0;32m--> 210\u001b[0;31m                                          verbose=0)\n\u001b[0m\u001b[1;32m    211\u001b[0m                     \u001b[0mval_outs\u001b[0m \u001b[0;34m=\u001b[0m \u001b[0mto_list\u001b[0m\u001b[0;34m(\u001b[0m\u001b[0mval_outs\u001b[0m\u001b[0;34m)\u001b[0m\u001b[0;34m\u001b[0m\u001b[0;34m\u001b[0m\u001b[0m\n\u001b[1;32m    212\u001b[0m                     \u001b[0;31m# Same labels assumed.\u001b[0m\u001b[0;34m\u001b[0m\u001b[0;34m\u001b[0m\u001b[0;34m\u001b[0m\u001b[0m\n",
            "\u001b[0;32m/usr/local/lib/python3.6/dist-packages/keras/engine/training_arrays.py\u001b[0m in \u001b[0;36mtest_loop\u001b[0;34m(model, f, ins, batch_size, verbose, steps, callbacks)\u001b[0m\n\u001b[1;32m    447\u001b[0m             \u001b[0mbatch_logs\u001b[0m \u001b[0;34m=\u001b[0m \u001b[0;34m{\u001b[0m\u001b[0;34m'batch'\u001b[0m\u001b[0;34m:\u001b[0m \u001b[0mbatch_index\u001b[0m\u001b[0;34m,\u001b[0m \u001b[0;34m'size'\u001b[0m\u001b[0;34m:\u001b[0m \u001b[0mlen\u001b[0m\u001b[0;34m(\u001b[0m\u001b[0mbatch_ids\u001b[0m\u001b[0;34m)\u001b[0m\u001b[0;34m}\u001b[0m\u001b[0;34m\u001b[0m\u001b[0;34m\u001b[0m\u001b[0m\n\u001b[1;32m    448\u001b[0m             \u001b[0mcallbacks\u001b[0m\u001b[0;34m.\u001b[0m\u001b[0m_call_batch_hook\u001b[0m\u001b[0;34m(\u001b[0m\u001b[0;34m'test'\u001b[0m\u001b[0;34m,\u001b[0m \u001b[0;34m'begin'\u001b[0m\u001b[0;34m,\u001b[0m \u001b[0mbatch_index\u001b[0m\u001b[0;34m,\u001b[0m \u001b[0mbatch_logs\u001b[0m\u001b[0;34m)\u001b[0m\u001b[0;34m\u001b[0m\u001b[0;34m\u001b[0m\u001b[0m\n\u001b[0;32m--> 449\u001b[0;31m             \u001b[0mbatch_outs\u001b[0m \u001b[0;34m=\u001b[0m \u001b[0mf\u001b[0m\u001b[0;34m(\u001b[0m\u001b[0mins_batch\u001b[0m\u001b[0;34m)\u001b[0m\u001b[0;34m\u001b[0m\u001b[0;34m\u001b[0m\u001b[0m\n\u001b[0m\u001b[1;32m    450\u001b[0m             \u001b[0;32mif\u001b[0m \u001b[0misinstance\u001b[0m\u001b[0;34m(\u001b[0m\u001b[0mbatch_outs\u001b[0m\u001b[0;34m,\u001b[0m \u001b[0mlist\u001b[0m\u001b[0;34m)\u001b[0m\u001b[0;34m:\u001b[0m\u001b[0;34m\u001b[0m\u001b[0;34m\u001b[0m\u001b[0m\n\u001b[1;32m    451\u001b[0m                 \u001b[0;32mif\u001b[0m \u001b[0mbatch_index\u001b[0m \u001b[0;34m==\u001b[0m \u001b[0;36m0\u001b[0m\u001b[0;34m:\u001b[0m\u001b[0;34m\u001b[0m\u001b[0;34m\u001b[0m\u001b[0m\n",
            "\u001b[0;32m/usr/local/lib/python3.6/dist-packages/tensorflow/python/keras/backend.py\u001b[0m in \u001b[0;36m__call__\u001b[0;34m(self, inputs)\u001b[0m\n\u001b[1;32m   3790\u001b[0m         \u001b[0mvalue\u001b[0m \u001b[0;34m=\u001b[0m \u001b[0mmath_ops\u001b[0m\u001b[0;34m.\u001b[0m\u001b[0mcast\u001b[0m\u001b[0;34m(\u001b[0m\u001b[0mvalue\u001b[0m\u001b[0;34m,\u001b[0m \u001b[0mtensor\u001b[0m\u001b[0;34m.\u001b[0m\u001b[0mdtype\u001b[0m\u001b[0;34m)\u001b[0m\u001b[0;34m\u001b[0m\u001b[0;34m\u001b[0m\u001b[0m\n\u001b[1;32m   3791\u001b[0m       \u001b[0mconverted_inputs\u001b[0m\u001b[0;34m.\u001b[0m\u001b[0mappend\u001b[0m\u001b[0;34m(\u001b[0m\u001b[0mvalue\u001b[0m\u001b[0;34m)\u001b[0m\u001b[0;34m\u001b[0m\u001b[0;34m\u001b[0m\u001b[0m\n\u001b[0;32m-> 3792\u001b[0;31m     \u001b[0moutputs\u001b[0m \u001b[0;34m=\u001b[0m \u001b[0mself\u001b[0m\u001b[0;34m.\u001b[0m\u001b[0m_graph_fn\u001b[0m\u001b[0;34m(\u001b[0m\u001b[0;34m*\u001b[0m\u001b[0mconverted_inputs\u001b[0m\u001b[0;34m)\u001b[0m\u001b[0;34m\u001b[0m\u001b[0;34m\u001b[0m\u001b[0m\n\u001b[0m\u001b[1;32m   3793\u001b[0m \u001b[0;34m\u001b[0m\u001b[0m\n\u001b[1;32m   3794\u001b[0m     \u001b[0;31m# EagerTensor.numpy() will often make a copy to ensure memory safety.\u001b[0m\u001b[0;34m\u001b[0m\u001b[0;34m\u001b[0m\u001b[0;34m\u001b[0m\u001b[0m\n",
            "\u001b[0;32m/usr/local/lib/python3.6/dist-packages/tensorflow/python/eager/function.py\u001b[0m in \u001b[0;36m__call__\u001b[0;34m(self, *args, **kwargs)\u001b[0m\n\u001b[1;32m   1603\u001b[0m       \u001b[0mTypeError\u001b[0m\u001b[0;34m:\u001b[0m \u001b[0mFor\u001b[0m \u001b[0minvalid\u001b[0m \u001b[0mpositional\u001b[0m\u001b[0;34m/\u001b[0m\u001b[0mkeyword\u001b[0m \u001b[0margument\u001b[0m \u001b[0mcombinations\u001b[0m\u001b[0;34m.\u001b[0m\u001b[0;34m\u001b[0m\u001b[0;34m\u001b[0m\u001b[0m\n\u001b[1;32m   1604\u001b[0m     \"\"\"\n\u001b[0;32m-> 1605\u001b[0;31m     \u001b[0;32mreturn\u001b[0m \u001b[0mself\u001b[0m\u001b[0;34m.\u001b[0m\u001b[0m_call_impl\u001b[0m\u001b[0;34m(\u001b[0m\u001b[0margs\u001b[0m\u001b[0;34m,\u001b[0m \u001b[0mkwargs\u001b[0m\u001b[0;34m)\u001b[0m\u001b[0;34m\u001b[0m\u001b[0;34m\u001b[0m\u001b[0m\n\u001b[0m\u001b[1;32m   1606\u001b[0m \u001b[0;34m\u001b[0m\u001b[0m\n\u001b[1;32m   1607\u001b[0m   \u001b[0;32mdef\u001b[0m \u001b[0m_call_impl\u001b[0m\u001b[0;34m(\u001b[0m\u001b[0mself\u001b[0m\u001b[0;34m,\u001b[0m \u001b[0margs\u001b[0m\u001b[0;34m,\u001b[0m \u001b[0mkwargs\u001b[0m\u001b[0;34m,\u001b[0m \u001b[0mcancellation_manager\u001b[0m\u001b[0;34m=\u001b[0m\u001b[0;32mNone\u001b[0m\u001b[0;34m)\u001b[0m\u001b[0;34m:\u001b[0m\u001b[0;34m\u001b[0m\u001b[0;34m\u001b[0m\u001b[0m\n",
            "\u001b[0;32m/usr/local/lib/python3.6/dist-packages/tensorflow/python/eager/function.py\u001b[0m in \u001b[0;36m_call_impl\u001b[0;34m(self, args, kwargs, cancellation_manager)\u001b[0m\n\u001b[1;32m   1643\u001b[0m       raise TypeError(\"Keyword arguments {} unknown. Expected {}.\".format(\n\u001b[1;32m   1644\u001b[0m           list(kwargs.keys()), list(self._arg_keywords)))\n\u001b[0;32m-> 1645\u001b[0;31m     \u001b[0;32mreturn\u001b[0m \u001b[0mself\u001b[0m\u001b[0;34m.\u001b[0m\u001b[0m_call_flat\u001b[0m\u001b[0;34m(\u001b[0m\u001b[0margs\u001b[0m\u001b[0;34m,\u001b[0m \u001b[0mself\u001b[0m\u001b[0;34m.\u001b[0m\u001b[0mcaptured_inputs\u001b[0m\u001b[0;34m,\u001b[0m \u001b[0mcancellation_manager\u001b[0m\u001b[0;34m)\u001b[0m\u001b[0;34m\u001b[0m\u001b[0;34m\u001b[0m\u001b[0m\n\u001b[0m\u001b[1;32m   1646\u001b[0m \u001b[0;34m\u001b[0m\u001b[0m\n\u001b[1;32m   1647\u001b[0m   \u001b[0;32mdef\u001b[0m \u001b[0m_filtered_call\u001b[0m\u001b[0;34m(\u001b[0m\u001b[0mself\u001b[0m\u001b[0;34m,\u001b[0m \u001b[0margs\u001b[0m\u001b[0;34m,\u001b[0m \u001b[0mkwargs\u001b[0m\u001b[0;34m)\u001b[0m\u001b[0;34m:\u001b[0m\u001b[0;34m\u001b[0m\u001b[0;34m\u001b[0m\u001b[0m\n",
            "\u001b[0;32m/usr/local/lib/python3.6/dist-packages/tensorflow/python/eager/function.py\u001b[0m in \u001b[0;36m_call_flat\u001b[0;34m(self, args, captured_inputs, cancellation_manager)\u001b[0m\n\u001b[1;32m   1744\u001b[0m       \u001b[0;31m# No tape is watching; skip to running the function.\u001b[0m\u001b[0;34m\u001b[0m\u001b[0;34m\u001b[0m\u001b[0;34m\u001b[0m\u001b[0m\n\u001b[1;32m   1745\u001b[0m       return self._build_call_outputs(self._inference_function.call(\n\u001b[0;32m-> 1746\u001b[0;31m           ctx, args, cancellation_manager=cancellation_manager))\n\u001b[0m\u001b[1;32m   1747\u001b[0m     forward_backward = self._select_forward_and_backward_functions(\n\u001b[1;32m   1748\u001b[0m         \u001b[0margs\u001b[0m\u001b[0;34m,\u001b[0m\u001b[0;34m\u001b[0m\u001b[0;34m\u001b[0m\u001b[0m\n",
            "\u001b[0;32m/usr/local/lib/python3.6/dist-packages/tensorflow/python/eager/function.py\u001b[0m in \u001b[0;36mcall\u001b[0;34m(self, ctx, args, cancellation_manager)\u001b[0m\n\u001b[1;32m    596\u001b[0m               \u001b[0minputs\u001b[0m\u001b[0;34m=\u001b[0m\u001b[0margs\u001b[0m\u001b[0;34m,\u001b[0m\u001b[0;34m\u001b[0m\u001b[0;34m\u001b[0m\u001b[0m\n\u001b[1;32m    597\u001b[0m               \u001b[0mattrs\u001b[0m\u001b[0;34m=\u001b[0m\u001b[0mattrs\u001b[0m\u001b[0;34m,\u001b[0m\u001b[0;34m\u001b[0m\u001b[0;34m\u001b[0m\u001b[0m\n\u001b[0;32m--> 598\u001b[0;31m               ctx=ctx)\n\u001b[0m\u001b[1;32m    599\u001b[0m         \u001b[0;32melse\u001b[0m\u001b[0;34m:\u001b[0m\u001b[0;34m\u001b[0m\u001b[0;34m\u001b[0m\u001b[0m\n\u001b[1;32m    600\u001b[0m           outputs = execute.execute_with_cancellation(\n",
            "\u001b[0;32m/usr/local/lib/python3.6/dist-packages/tensorflow/python/eager/execute.py\u001b[0m in \u001b[0;36mquick_execute\u001b[0;34m(op_name, num_outputs, inputs, attrs, ctx, name)\u001b[0m\n\u001b[1;32m     58\u001b[0m     \u001b[0mctx\u001b[0m\u001b[0;34m.\u001b[0m\u001b[0mensure_initialized\u001b[0m\u001b[0;34m(\u001b[0m\u001b[0;34m)\u001b[0m\u001b[0;34m\u001b[0m\u001b[0;34m\u001b[0m\u001b[0m\n\u001b[1;32m     59\u001b[0m     tensors = pywrap_tfe.TFE_Py_Execute(ctx._handle, device_name, op_name,\n\u001b[0;32m---> 60\u001b[0;31m                                         inputs, attrs, num_outputs)\n\u001b[0m\u001b[1;32m     61\u001b[0m   \u001b[0;32mexcept\u001b[0m \u001b[0mcore\u001b[0m\u001b[0;34m.\u001b[0m\u001b[0m_NotOkStatusException\u001b[0m \u001b[0;32mas\u001b[0m \u001b[0me\u001b[0m\u001b[0;34m:\u001b[0m\u001b[0;34m\u001b[0m\u001b[0;34m\u001b[0m\u001b[0m\n\u001b[1;32m     62\u001b[0m     \u001b[0;32mif\u001b[0m \u001b[0mname\u001b[0m \u001b[0;32mis\u001b[0m \u001b[0;32mnot\u001b[0m \u001b[0;32mNone\u001b[0m\u001b[0;34m:\u001b[0m\u001b[0;34m\u001b[0m\u001b[0;34m\u001b[0m\u001b[0m\n",
            "\u001b[0;31mKeyboardInterrupt\u001b[0m: "
          ]
        }
      ]
    },
    {
      "cell_type": "code",
      "metadata": {
        "id": "tz53DZtCmC5Z",
        "colab_type": "code",
        "colab": {
          "base_uri": "https://localhost:8080/",
          "height": 279
        },
        "outputId": "861a0196-1660-419c-e576-9d556096f5a4"
      },
      "source": [
        "# Get training and test loss histories\n",
        "training_loss = H.history['loss']\n",
        "training_acc = H.history['accuracy']\n",
        "\n",
        "# Create count of the number of epochs\n",
        "epoch_count = range(1, len(training_loss) + 1)\n",
        "\n",
        "fig=plt.figure(figsize=(12, 4))\n",
        "# Visualize loss history\n",
        "fig.add_subplot(121)\n",
        "plt.plot(epoch_count, training_loss, 'r--')\n",
        "plt.plot(epoch_count, training_acc, 'b-')\n",
        "plt.legend(['Training Loss', 'Training Accuracy'])\n",
        "plt.xlabel('Epoch')\n",
        "plt.ylabel('Training Loss/Acc')\n",
        "\n",
        "# Get training and test loss histories\n",
        "val_acc = H.history['val_accuracy']\n",
        "training_acc = H.history['accuracy']\n",
        "\n",
        "# Create count of the number of epochs\n",
        "epoch_count = range(1, len(val_acc) + 1)\n",
        "\n",
        "# Visualize loss history\n",
        "fig.add_subplot(122)\n",
        "plt.plot(epoch_count, val_acc, 'r--')\n",
        "plt.plot(epoch_count, training_acc, 'b-')\n",
        "plt.legend(['Validation Accuracy', 'Training Accuracy'])\n",
        "plt.xlabel('Epoch')\n",
        "plt.ylabel('Accuracy')\n",
        "\n",
        "plt.show();"
      ],
      "execution_count": 98,
      "outputs": [
        {
          "output_type": "display_data",
          "data": {
            "image/png": "[encoded data removed]",
            "text/plain": [
              "<Figure size 864x288 with 2 Axes>"
            ]
          },
          "metadata": {
            "tags": [],
            "needs_background": "light"
          }
        }
      ]
    },
    {
      "cell_type": "code",
      "metadata": {
        "id": "G3ooWiFQr3jP",
        "colab_type": "code",
        "colab": {
          "base_uri": "https://localhost:8080/",
          "height": 50
        },
        "outputId": "6f015de3-99e1-48ee-ced1-2ed7a8cf3505"
      },
      "source": [
        "# 9. Đánh giá model với dữ liệu test set\n",
        "score = model.evaluate(x_test, y_test)\n",
        "print(score)"
      ],
      "execution_count": 99,
      "outputs": [
        {
          "output_type": "stream",
          "text": [
            "720/720 [==============================] - 0s 456us/step\n",
            "[2.459409761428833, 0.625]\n"
          ],
          "name": "stdout"
        }
      ]
    },
    {
      "cell_type": "code",
      "metadata": {
        "id": "7-Rr9snzk-An",
        "colab_type": "code",
        "colab": {}
      },
      "source": [
        "model.save('drive/My Drive/data_cnn/model_at_12_12am')"
      ],
      "execution_count": null,
      "outputs": []
    },
    {
      "cell_type": "markdown",
      "metadata": {
        "id": "0AHFAZf3uALM",
        "colab_type": "text"
      },
      "source": [
        "### Dự đoán ảnh"
      ]
    },
    {
      "cell_type": "code",
      "metadata": {
        "id": "JugIqY1v2KKR",
        "colab_type": "code",
        "colab": {}
      },
      "source": [
        "from google.colab.patches import cv2_imshow"
      ],
      "execution_count": null,
      "outputs": []
    },
    {
      "cell_type": "code",
      "metadata": {
        "id": "rG1zbL7ut_vk",
        "colab_type": "code",
        "colab": {
          "resources": {
            "http://localhost:8080/nbextensions/google.colab/files.js": {
              "data": "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",
              "ok": true,
              "headers": [
                [
                  "content-type",
                  "application/javascript"
                ]
              ],
              "status": 200,
              "status_text": ""
            }
          },
          "base_uri": "https://localhost:8080/",
          "height": 73
        },
        "outputId": "1507c512-1468-4a56-b9ef-461d3353eb03"
      },
      "source": [
        "from google.colab import files\n",
        "uploaded = files.upload()"
      ],
      "execution_count": null,
      "outputs": [
        {
          "output_type": "display_data",
          "data": {
            "text/html": [
              "\n",
              "     <input type=\"file\" id=\"files-405fabc7-7621-4fe9-ab9f-1221cb5762ef\" name=\"files[]\" multiple disabled\n",
              "        style=\"border:none\" />\n",
              "     <output id=\"result-405fabc7-7621-4fe9-ab9f-1221cb5762ef\">\n",
              "      Upload widget is only available when the cell has been executed in the\n",
              "      current browser session. Please rerun this cell to enable.\n",
              "      </output>\n",
              "      <script src=\"/nbextensions/google.colab/files.js\"></script> "
            ],
            "text/plain": [
              "<IPython.core.display.HTML object>"
            ]
          },
          "metadata": {
            "tags": []
          }
        },
        {
          "output_type": "stream",
          "text": [
            "Saving M63.jpg to M63.jpg\n"
          ],
          "name": "stdout"
        }
      ]
    },
    {
      "cell_type": "code",
      "metadata": {
        "id": "duQExvo9u4Fc",
        "colab_type": "code",
        "colab": {}
      },
      "source": [
        "img = cv2.imread('M63.jpg', 0)\n",
        "img_show = cv2.imread('M63.jpg', 0)"
      ],
      "execution_count": null,
      "outputs": []
    },
    {
      "cell_type": "code",
      "metadata": {
        "id": "UNvxp7ajQms_",
        "colab_type": "code",
        "colab": {}
      },
      "source": [
        "model = keras.models.load_model('drive/My Drive/data_cnn/model_at_12_12am')"
      ],
      "execution_count": null,
      "outputs": []
    },
    {
      "cell_type": "code",
      "metadata": {
        "id": "7vw6Bnm-a_Bk",
        "colab_type": "code",
        "colab": {}
      },
      "source": [
        "img = cv2.resize(img, (50,50), interpolation = cv2.INTER_AREA)\n",
        "img_pre = []\n",
        "img_pre.append(img)\n",
        "img_pre = np.asarray(img_pre)\n",
        "img_pre = img_pre.reshape(img_pre.shape[0], 50, 50, 1)"
      ],
      "execution_count": null,
      "outputs": []
    },
    {
      "cell_type": "code",
      "metadata": {
        "id": "KnD-R4dTaxYg",
        "colab_type": "code",
        "colab": {
          "base_uri": "https://localhost:8080/",
          "height": 249
        },
        "outputId": "5901f037-85da-4a62-c415-67b1e610b8a1"
      },
      "source": [
        "cv2_imshow(img_show)\n",
        "if (model.predict_classes(img_pre) == 0):\n",
        "  print(\"Dự đoán là: Amee\")\n",
        "elif (model.predict_classes(img_pre) == 1):\n",
        "  print(\"Dự đoán là: MTP\")\n",
        "elif (model.predict_classes(img_pre) == 3):\n",
        "  print(\"Dự đoán là: Ninh Dương Lan Ngọc\")\n",
        "elif (model.predict_classes(img_pre) == 2):\n",
        "  print(\"Dự đoán là: Mỹ Tâm\")\n",
        "else:\n",
        "  print(\"Dự đoán là: Trấn Thành\")"
      ],
      "execution_count": null,
      "outputs": [
        {
          "output_type": "display_data",
          "data": {
            "image/png": "[encoded data removed]",
            "text/plain": [
              "<PIL.Image.Image image mode=L size=216x216 at 0x7F66EA3F8A90>"
            ]
          },
          "metadata": {
            "tags": []
          }
        },
        {
          "output_type": "stream",
          "text": [
            "Dự đoán là: Ninh Dương Lan Ngọc\n"
          ],
          "name": "stdout"
        }
      ]
    }
  ]
}