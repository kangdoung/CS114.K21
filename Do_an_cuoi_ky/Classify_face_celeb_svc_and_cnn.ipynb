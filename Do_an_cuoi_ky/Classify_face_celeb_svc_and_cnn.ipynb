{
  "nbformat": 4,
  "nbformat_minor": 0,
  "metadata": {
    "colab": {
      "name": "Classify_face_celeb_svc.ipynb",
      "provenance": [],
      "mount_file_id": "https://github.com/kangdoung/CS114.K21/blob/master/Do_an_cuoi_ky/Classify_face_celeb_svc_and_cnn.ipynb",
      "authorship_tag": "ABX9TyMbidnLXvbLbj6gJINpU6dj",
      "include_colab_link": true
    },
    "kernelspec": {
      "name": "python3",
      "display_name": "Python 3"
    },
    "accelerator": "GPU"
  },
  "cells": [
    {
      "cell_type": "markdown",
      "metadata": {
        "id": "view-in-github",
        "colab_type": "text"
      },
      "source": [
        "<a href=\"https://colab.research.google.com/github/kangdoung/CS114.K21/blob/master/Do_an_cuoi_ky/Classify_face_celeb_svc_and_cnn.ipynb\" target=\"_parent\"><img src=\"https://colab.research.google.com/assets/colab-badge.svg\" alt=\"Open In Colab\"/></a>"
      ]
    },
    {
      "cell_type": "markdown",
      "metadata": {
        "id": "2F2N2t03If-3",
        "colab_type": "text"
      },
      "source": [
        "# **Bài toán nhận dạng người nổi tiếng**\n",
        "* Input: ảnh của 1 trong 5 người  \n",
        "* Output: tên người nổi tiếng của ảnh đó  \n",
        "* Dataset gồm ảnh của 5 người: Amee, My Tam,Son Tung MTP, Jack và NDLN.  \n",
        "Dữ liệu được thu thập từ google image sau đó được cắt và lấy khuôn mặt của mỗi người trên. Thu thập 100 tấm ảnh của mỗi người.  \n",
        "Dataset được lưu trên google drive ( [*link*](/https://drive.google.com/drive/folders/1YjNGdPb_3equCM7M4tBaXYQpUN8AFIMd?usp=sharing)).\n"
      ]
    },
    {
      "cell_type": "code",
      "metadata": {
        "id": "j0Z5dWEvzbL_",
        "colab_type": "code",
        "colab": {}
      },
      "source": [
        "import numpy as np\n",
        "import pandas as pd\n",
        "import cv2 #open cv\n",
        "import os\n",
        "import matplotlib.pyplot as plt"
      ],
      "execution_count": 61,
      "outputs": []
    },
    {
      "cell_type": "markdown",
      "metadata": {
        "id": "dzcgqT4BF360",
        "colab_type": "text"
      },
      "source": [
        "# Load dữ liệu và gán label cho dữ liệu"
      ]
    },
    {
      "cell_type": "markdown",
      "metadata": {
        "id": "HTSUKB5heuQi",
        "colab_type": "text"
      },
      "source": [
        "## Tập TRAIN\n"
      ]
    },
    {
      "cell_type": "code",
      "metadata": {
        "id": "9KsVFudQ0Jer",
        "colab_type": "code",
        "colab": {
          "base_uri": "https://localhost:8080/",
          "height": 33
        },
        "outputId": "0138a7a9-55f5-440b-edff-1d76e09e6de8"
      },
      "source": [
        "# building an array of images and finding its shape.\n",
        "Images_train = []\n",
        "for imgfolder in os.listdir('drive/My Drive/Data_No_Aug/ML/Train/'):\n",
        "    for filename in os.listdir('drive/My Drive/Data_No_Aug/ML/Train/' + imgfolder):\n",
        "        filename = 'drive/My Drive/Data_No_Aug/ML/Train/' + imgfolder + '/' + filename\n",
        "        #print(filename)\n",
        "        img = cv2.imread(filename,0)\n",
        "        img = cv2.resize(img, (32,32), interpolation = cv2.INTER_AREA)\n",
        "        Images_train.append(img)\n",
        "Images_train = np.asarray(Images_train)\n",
        "Images_train.shape"
      ],
      "execution_count": 349,
      "outputs": [
        {
          "output_type": "execute_result",
          "data": {
            "text/plain": [
              "(400, 32, 32)"
            ]
          },
          "metadata": {
            "tags": []
          },
          "execution_count": 349
        }
      ]
    },
    {
      "cell_type": "markdown",
      "metadata": {
        "id": "W-49903b9S0g",
        "colab_type": "text"
      },
      "source": [
        "cv2.imread(filename, 0) :\n",
        "\n",
        "0 = cv2.IMREAD_GRAYSCALE  \n",
        "tương tụ 1 cho IMREAD_COLOR và -1 cho IMREAD_UNCHANGED"
      ]
    },
    {
      "cell_type": "code",
      "metadata": {
        "id": "qRXtPmTS1TXg",
        "colab_type": "code",
        "colab": {
          "base_uri": "https://localhost:8080/",
          "height": 252
        },
        "outputId": "a69760b6-2fb4-49be-ffab-340126fb3a96"
      },
      "source": [
        "plt.imshow(Images_train[10], cmap = 'gray', interpolation = 'bicubic')\n",
        "plt.xticks([]), plt.yticks([]) \n",
        "plt.show()"
      ],
      "execution_count": 350,
      "outputs": [
        {
          "output_type": "display_data",
          "data": {
            "image/png": "[encoded data removed]",
            "text/plain": [
              "<Figure size 432x288 with 1 Axes>"
            ]
          },
          "metadata": {
            "tags": []
          }
        }
      ]
    },
    {
      "cell_type": "code",
      "metadata": {
        "id": "LgYGL00H1Wq5",
        "colab_type": "code",
        "colab": {
          "base_uri": "https://localhost:8080/",
          "height": 33
        },
        "outputId": "ef22fb8c-a3cd-4d11-9f2a-98e2f6933f97"
      },
      "source": [
        "label_train = []\n",
        "for imgfolder in os.listdir('drive/My Drive/Data_No_Aug/ML/Train/'):\n",
        "    for filename in os.listdir('drive/My Drive/Data_No_Aug/ML/Train/' + imgfolder):\n",
        "        label_train.append(imgfolder)\n",
        "label_train = np.asarray(label_train)\n",
        "label_train.shape"
      ],
      "execution_count": 351,
      "outputs": [
        {
          "output_type": "execute_result",
          "data": {
            "text/plain": [
              "(400,)"
            ]
          },
          "metadata": {
            "tags": []
          },
          "execution_count": 351
        }
      ]
    },
    {
      "cell_type": "markdown",
      "metadata": {
        "id": "NE2F1xWVexAS",
        "colab_type": "text"
      },
      "source": [
        "## Tập TEST"
      ]
    },
    {
      "cell_type": "code",
      "metadata": {
        "id": "2y6LzhrsfIac",
        "colab_type": "code",
        "colab": {
          "base_uri": "https://localhost:8080/",
          "height": 33
        },
        "outputId": "e22b1924-c6de-49b1-eab3-4fb958483c7e"
      },
      "source": [
        "# building an array of images and finding its shape.\n",
        "Images_test = []\n",
        "for imgfolder in os.listdir('drive/My Drive/Data_No_Aug/ML/Test/'):\n",
        "    for filename in os.listdir('drive/My Drive/Data_No_Aug/ML/Test/' + imgfolder):\n",
        "        filename = 'drive/My Drive/Data_No_Aug/ML/Test/' + imgfolder + '/' + filename\n",
        "        #print(filename)\n",
        "        img = cv2.imread(filename,0)\n",
        "        img = cv2.resize(img, (32,32), interpolation = cv2.INTER_AREA)\n",
        "        Images_test.append(img)\n",
        "Images_test = np.asarray(Images_test)\n",
        "Images_test.shape"
      ],
      "execution_count": 352,
      "outputs": [
        {
          "output_type": "execute_result",
          "data": {
            "text/plain": [
              "(100, 32, 32)"
            ]
          },
          "metadata": {
            "tags": []
          },
          "execution_count": 352
        }
      ]
    },
    {
      "cell_type": "code",
      "metadata": {
        "id": "ZIH44NrBfV0G",
        "colab_type": "code",
        "colab": {
          "base_uri": "https://localhost:8080/",
          "height": 33
        },
        "outputId": "1d2b5b75-59d6-4f0d-89e0-3d99df299605"
      },
      "source": [
        "label_test = []\n",
        "for imgfolder in os.listdir('drive/My Drive/Data_No_Aug/ML/Test/'):\n",
        "    for filename in os.listdir('drive/My Drive/Data_No_Aug/ML/Test/' + imgfolder):\n",
        "        label_test.append(imgfolder)\n",
        "label_test = np.asarray(label_test)\n",
        "label_test.shape"
      ],
      "execution_count": 353,
      "outputs": [
        {
          "output_type": "execute_result",
          "data": {
            "text/plain": [
              "(100,)"
            ]
          },
          "metadata": {
            "tags": []
          },
          "execution_count": 353
        }
      ]
    },
    {
      "cell_type": "markdown",
      "metadata": {
        "id": "9EEp_jLkMbaj",
        "colab_type": "text"
      },
      "source": [
        "### Khác"
      ]
    },
    {
      "cell_type": "code",
      "metadata": {
        "id": "dfapcpuOkqXI",
        "colab_type": "code",
        "colab": {}
      },
      "source": [
        "x_train = Images_train\n",
        "x_test = Images_test\n",
        "y_train = label_train\n",
        "y_test = label_test"
      ],
      "execution_count": 354,
      "outputs": []
    },
    {
      "cell_type": "markdown",
      "metadata": {
        "id": "9vn0FlCxGSPW",
        "colab_type": "text"
      },
      "source": [
        "## Model\n"
      ]
    },
    {
      "cell_type": "code",
      "metadata": {
        "id": "XVvyRMsr1ryU",
        "colab_type": "code",
        "colab": {}
      },
      "source": [
        "from sklearn.decomposition import PCA as RandomizedPCA\n",
        "from sklearn.svm import SVC\n",
        "from sklearn.pipeline import make_pipeline\n",
        "from sklearn.preprocessing import Normalizer"
      ],
      "execution_count": 355,
      "outputs": []
    },
    {
      "cell_type": "markdown",
      "metadata": {
        "id": "sCc0jzZXMKGz",
        "colab_type": "text"
      },
      "source": [
        "Thêm các thư viện cần thiết"
      ]
    },
    {
      "cell_type": "code",
      "metadata": {
        "id": "fTg4Avvv19oq",
        "colab_type": "code",
        "colab": {}
      },
      "source": [
        "pca = RandomizedPCA(n_components=150, whiten=True, random_state=42)\n",
        "svc = SVC(kernel='rbf', class_weight='balanced')\n",
        "model = make_pipeline(pca, svc)"
      ],
      "execution_count": 356,
      "outputs": []
    },
    {
      "cell_type": "code",
      "metadata": {
        "id": "R76TlHLV2JPx",
        "colab_type": "code",
        "colab": {}
      },
      "source": [
        "#flatten images.\n",
        "x_train = x_train.reshape(x_train.shape[0], x_train.shape[1] * x_train.shape[2])\n",
        "x_test = x_test.reshape(x_test.shape[0], x_test.shape[1] * x_test.shape[2])"
      ],
      "execution_count": 357,
      "outputs": []
    },
    {
      "cell_type": "code",
      "metadata": {
        "id": "3A1eU6Lc2-Uz",
        "colab_type": "code",
        "colab": {}
      },
      "source": [
        "from sklearn.model_selection import learning_curve, GridSearchCV"
      ],
      "execution_count": 358,
      "outputs": []
    },
    {
      "cell_type": "code",
      "metadata": {
        "id": "2Y3hBtW22d29",
        "colab_type": "code",
        "colab": {
          "base_uri": "https://localhost:8080/",
          "height": 67
        },
        "outputId": "764a7282-1484-480f-c78d-7859b396c51e"
      },
      "source": [
        "# doing cross validation to tune the params of SVC\n",
        "\n",
        "param_grid = {'svc__C': [1, 5, 10, 50],\n",
        "              'svc__gamma': [0.0001, 0.0005, 0.001, 0.005]}\n",
        "grid = GridSearchCV(model, param_grid)\n",
        "\n",
        "%time grid.fit(x_train, y_train)\n",
        "print(grid.best_params_)"
      ],
      "execution_count": 359,
      "outputs": [
        {
          "output_type": "stream",
          "text": [
            "CPU times: user 18.3 s, sys: 7.07 s, total: 25.4 s\n",
            "Wall time: 13.1 s\n",
            "{'svc__C': 1, 'svc__gamma': 0.005}\n"
          ],
          "name": "stdout"
        }
      ]
    },
    {
      "cell_type": "code",
      "metadata": {
        "id": "5c4_1vif3Gwn",
        "colab_type": "code",
        "colab": {
          "base_uri": "https://localhost:8080/",
          "height": 33
        },
        "outputId": "efe75974-5d4b-4f52-f8a1-86130a0d7680"
      },
      "source": [
        "grid.best_score_"
      ],
      "execution_count": 360,
      "outputs": [
        {
          "output_type": "execute_result",
          "data": {
            "text/plain": [
              "0.5725"
            ]
          },
          "metadata": {
            "tags": []
          },
          "execution_count": 360
        }
      ]
    },
    {
      "cell_type": "code",
      "metadata": {
        "id": "Arf4TolJ3KMV",
        "colab_type": "code",
        "colab": {}
      },
      "source": [
        "model = grid.best_estimator_\n",
        "pred = model.predict(x_test)"
      ],
      "execution_count": 361,
      "outputs": []
    },
    {
      "cell_type": "code",
      "metadata": {
        "id": "XxdZJ4rP3QT9",
        "colab_type": "code",
        "colab": {}
      },
      "source": [
        "from sklearn.metrics import  accuracy_score\n",
        "from sklearn.metrics import classification_report"
      ],
      "execution_count": 362,
      "outputs": []
    },
    {
      "cell_type": "code",
      "metadata": {
        "id": "PBTx_suK3SPw",
        "colab_type": "code",
        "colab": {
          "base_uri": "https://localhost:8080/",
          "height": 217
        },
        "outputId": "1bc2b070-d02b-4197-b2c4-d21a88924a0c"
      },
      "source": [
        "print(classification_report(pred,y_test))"
      ],
      "execution_count": 363,
      "outputs": [
        {
          "output_type": "stream",
          "text": [
            "              precision    recall  f1-score   support\n",
            "\n",
            "        Amee       0.70      0.56      0.62        25\n",
            "        Jack       0.75      0.79      0.77        19\n",
            "         MTP       0.70      0.56      0.62        25\n",
            "       MyTam       0.55      0.73      0.63        15\n",
            "        NDLN       0.55      0.69      0.61        16\n",
            "\n",
            "    accuracy                           0.65       100\n",
            "   macro avg       0.65      0.67      0.65       100\n",
            "weighted avg       0.66      0.65      0.65       100\n",
            "\n"
          ],
          "name": "stdout"
        }
      ]
    },
    {
      "cell_type": "code",
      "metadata": {
        "id": "SAYLy_uP3fPX",
        "colab_type": "code",
        "colab": {
          "base_uri": "https://localhost:8080/",
          "height": 100
        },
        "outputId": "8f144805-42ec-4dc1-c891-0750703ead50"
      },
      "source": [
        "from sklearn.metrics import confusion_matrix\n",
        "print(confusion_matrix(pred, y_test))"
      ],
      "execution_count": 364,
      "outputs": [
        {
          "output_type": "stream",
          "text": [
            "[[14  2  1  5  3]\n",
            " [ 1 15  3  0  0]\n",
            " [ 1  2 14  3  5]\n",
            " [ 2  0  1 11  1]\n",
            " [ 2  1  1  1 11]]\n"
          ],
          "name": "stdout"
        }
      ]
    },
    {
      "cell_type": "code",
      "metadata": {
        "id": "3afXW42u30nx",
        "colab_type": "code",
        "colab": {
          "base_uri": "https://localhost:8080/",
          "height": 33
        },
        "outputId": "f261a767-1f5a-442c-c0cf-d0607dd03c48"
      },
      "source": [
        "accuracy_score(pred, y_test)"
      ],
      "execution_count": 365,
      "outputs": [
        {
          "output_type": "execute_result",
          "data": {
            "text/plain": [
              "0.65"
            ]
          },
          "metadata": {
            "tags": []
          },
          "execution_count": 365
        }
      ]
    },
    {
      "cell_type": "code",
      "metadata": {
        "id": "CQXieftM5Y8-",
        "colab_type": "code",
        "colab": {}
      },
      "source": [
        "test = model.predict(x_train)"
      ],
      "execution_count": 366,
      "outputs": []
    },
    {
      "cell_type": "code",
      "metadata": {
        "id": "GYf3Jxjx5NiI",
        "colab_type": "code",
        "colab": {
          "base_uri": "https://localhost:8080/",
          "height": 100
        },
        "outputId": "c1ea1681-4dd2-4e62-9848-2d4eb45249cd"
      },
      "source": [
        "confusion_matrix(test, y_train)"
      ],
      "execution_count": 367,
      "outputs": [
        {
          "output_type": "execute_result",
          "data": {
            "text/plain": [
              "array([[80,  0,  1,  0,  0],\n",
              "       [ 0, 80,  1,  0,  0],\n",
              "       [ 0,  0, 77,  0,  0],\n",
              "       [ 0,  0,  0, 79,  0],\n",
              "       [ 0,  0,  1,  1, 80]])"
            ]
          },
          "metadata": {
            "tags": []
          },
          "execution_count": 367
        }
      ]
    },
    {
      "cell_type": "code",
      "metadata": {
        "id": "0ONe0pHs5_eQ",
        "colab_type": "code",
        "colab": {
          "base_uri": "https://localhost:8080/",
          "height": 33
        },
        "outputId": "df88f19b-04eb-445b-8fb0-0791925c3ad1"
      },
      "source": [
        "accuracy_score(test, y_train)"
      ],
      "execution_count": 368,
      "outputs": [
        {
          "output_type": "execute_result",
          "data": {
            "text/plain": [
              "0.99"
            ]
          },
          "metadata": {
            "tags": []
          },
          "execution_count": 368
        }
      ]
    },
    {
      "cell_type": "markdown",
      "metadata": {
        "id": "zuYbqJlkPjjR",
        "colab_type": "text"
      },
      "source": [
        "### Nhận xét:\n",
        "Overfiting\n",
        "\n",
        "model cho kết quả dự đoán khá thấp do chỉ sử dụng PCA để trích chọn đặc trưng."
      ]
    },
    {
      "cell_type": "markdown",
      "metadata": {
        "id": "1O-8uoutlpVG",
        "colab_type": "text"
      },
      "source": [
        "### Logistic Regression\n"
      ]
    },
    {
      "cell_type": "code",
      "metadata": {
        "id": "xmQx1LdRlrej",
        "colab_type": "code",
        "colab": {}
      },
      "source": [
        ""
      ],
      "execution_count": null,
      "outputs": []
    },
    {
      "cell_type": "markdown",
      "metadata": {
        "id": "6mBgDQv85xk1",
        "colab_type": "text"
      },
      "source": [
        "# Thử nghiệm bộ dữ liệu với CNN\n",
        "\n"
      ]
    },
    {
      "cell_type": "code",
      "metadata": {
        "id": "g5s_IOki50Ek",
        "colab_type": "code",
        "colab": {
          "base_uri": "https://localhost:8080/",
          "height": 33
        },
        "outputId": "70c6b187-c90b-489b-bb53-c4a0435af3bc"
      },
      "source": [
        "from sklearn.preprocessing import LabelBinarizer\n",
        "from sklearn.model_selection import train_test_split\n",
        "from sklearn.metrics import classification_report\n",
        "from keras.models import Sequential\n",
        "from keras.layers.core import Dense, Dropout\n",
        "from keras.layers.convolutional import Conv2D\n",
        "from keras.layers.convolutional import MaxPooling2D\n",
        "from keras.layers import Flatten\n",
        "from keras.layers import BatchNormalization\n",
        "from keras.optimizers import SGD\n",
        "import keras\n",
        "from keras.utils import np_utils\n",
        "from imutils import paths\n",
        "import matplotlib.pyplot as plt\n",
        "import numpy as np\n",
        "import argparse\n",
        "import random\n",
        "import pickle\n",
        "import cv2\n",
        "import os"
      ],
      "execution_count": 2,
      "outputs": [
        {
          "output_type": "stream",
          "text": [
            "Using TensorFlow backend.\n"
          ],
          "name": "stderr"
        }
      ]
    },
    {
      "cell_type": "code",
      "metadata": {
        "id": "N0CXeQFknvKv",
        "colab_type": "code",
        "colab": {}
      },
      "source": [
        "image_size = 50\n",
        "def read_date(path):\n",
        "  img = []\n",
        "  label = []\n",
        "  folders = os.listdir(path)\n",
        "  for folder in os.listdir(path):\n",
        "    i = 1\n",
        "    for files in os.listdir(path+'/'+folder):\n",
        "      files_name = path + '/'+folder+'/' + files\n",
        "      \n",
        "      print(files_name)\n",
        "      print('STT: {}'.format(i))\n",
        "      i += 1\n",
        "      image = cv2.imread(files_name,0)\n",
        "      \n",
        "      image = cv2.resize(image, (image_size, image_size))\n",
        "      images=np.reshape(image, image_size*image_size)\n",
        "      img.append(images)\n",
        "      label.append(folder)\n",
        "\n",
        "  return np.asarray(img),np.asarray(label)\n",
        "\n",
        "train_path = 'drive/My Drive/data_cnn/Train'\n",
        "x_train, y_train = read_date(train_path)\n",
        "\n",
        "test_path = 'drive/My Drive/data_cnn/Test'\n",
        "x_test, y_test = read_date(test_path)\n",
        "\n",
        "val_path = 'drive/My Drive/data_cnn/Validation'\n",
        "x_val, y_val = read_date(val_path)"
      ],
      "execution_count": null,
      "outputs": []
    },
    {
      "cell_type": "code",
      "metadata": {
        "id": "2sJQ-yu9oGGa",
        "colab_type": "code",
        "colab": {
          "base_uri": "https://localhost:8080/",
          "height": 33
        },
        "outputId": "2bcabadc-8f66-4b16-9e2d-9bdb2274dd5a"
      },
      "source": [
        "x_train.shape"
      ],
      "execution_count": 371,
      "outputs": [
        {
          "output_type": "execute_result",
          "data": {
            "text/plain": [
              "(3280, 2500)"
            ]
          },
          "metadata": {
            "tags": []
          },
          "execution_count": 371
        }
      ]
    },
    {
      "cell_type": "code",
      "metadata": {
        "id": "q66VE9GUoKy4",
        "colab_type": "code",
        "colab": {
          "base_uri": "https://localhost:8080/",
          "height": 33
        },
        "outputId": "e839754f-6d2a-44a3-a730-cb3ce664b9ba"
      },
      "source": [
        "y_train.shape"
      ],
      "execution_count": 372,
      "outputs": [
        {
          "output_type": "execute_result",
          "data": {
            "text/plain": [
              "(3280,)"
            ]
          },
          "metadata": {
            "tags": []
          },
          "execution_count": 372
        }
      ]
    },
    {
      "cell_type": "code",
      "metadata": {
        "id": "vNUjjCcbuyPs",
        "colab_type": "code",
        "colab": {
          "base_uri": "https://localhost:8080/",
          "height": 33
        },
        "outputId": "02fa3f3b-1abc-4a20-a8f3-b02a48bbeaf3"
      },
      "source": [
        "y_val.shape"
      ],
      "execution_count": 373,
      "outputs": [
        {
          "output_type": "execute_result",
          "data": {
            "text/plain": [
              "(720,)"
            ]
          },
          "metadata": {
            "tags": []
          },
          "execution_count": 373
        }
      ]
    },
    {
      "cell_type": "markdown",
      "metadata": {
        "id": "XlplgJsNgmLV",
        "colab_type": "text"
      },
      "source": [
        "## Data Augmentation"
      ]
    },
    {
      "cell_type": "code",
      "metadata": {
        "id": "QNZSqN28oOco",
        "colab_type": "code",
        "colab": {}
      },
      "source": [
        "from sklearn.preprocessing import LabelEncoder\n",
        "labelencoder_X=LabelEncoder()\n",
        "y_train = labelencoder_X.fit_transform(y_train)\n",
        "y_test = labelencoder_X.transform(y_test)\n",
        "y_val = labelencoder_X.transform(y_val)\n"
      ],
      "execution_count": 374,
      "outputs": []
    },
    {
      "cell_type": "code",
      "metadata": {
        "id": "XKb5MGNkkYIR",
        "colab_type": "code",
        "colab": {}
      },
      "source": [
        "x_train = x_train.reshape(x_train.shape[0], 50, 50, 1)\n",
        "x_val = x_val.reshape(x_val.shape[0], 50, 50, 1)\n",
        "x_test = x_test.reshape(x_test.shape[0], 50, 50, 1)"
      ],
      "execution_count": 375,
      "outputs": []
    },
    {
      "cell_type": "code",
      "metadata": {
        "id": "7iFC_K0DmHi1",
        "colab_type": "code",
        "colab": {
          "base_uri": "https://localhost:8080/",
          "height": 50
        },
        "outputId": "71fe23b9-e7b0-4ead-e3b3-1a3970b96a2e"
      },
      "source": [
        "y_train = np_utils.to_categorical(y_train, 5)\n",
        "y_val = np_utils.to_categorical(y_val, 5)\n",
        "y_test = np_utils.to_categorical(y_test, 5)\n",
        "print('Dữ liệu y ban đầu ', y_train[0])\n",
        "print('Dữ liệu y sau one-hot encoding ',y_train[0])"
      ],
      "execution_count": 376,
      "outputs": [
        {
          "output_type": "stream",
          "text": [
            "Dữ liệu y ban đầu  [1. 0. 0. 0. 0.]\n",
            "Dữ liệu y sau one-hot encoding  [1. 0. 0. 0. 0.]\n"
          ],
          "name": "stdout"
        }
      ]
    },
    {
      "cell_type": "markdown",
      "metadata": {
        "id": "jOzd_LYAOo-n",
        "colab_type": "text"
      },
      "source": [
        "## Xây dựng model"
      ]
    },
    {
      "cell_type": "code",
      "metadata": {
        "id": "BaDda5_Hgzz7",
        "colab_type": "code",
        "colab": {}
      },
      "source": [
        "num_classes = 5"
      ],
      "execution_count": 377,
      "outputs": []
    },
    {
      "cell_type": "code",
      "metadata": {
        "id": "gx8gVIkM573F",
        "colab_type": "code",
        "colab": {}
      },
      "source": [
        "model = Sequential()\n",
        "\n",
        "model.add(Conv2D(32, (3, 3), padding='valid', input_shape = (50,50,1), activation = 'relu'))\n",
        "model.add(BatchNormalization())\n",
        "model.add(MaxPooling2D(pool_size = (2, 2)))\n",
        "model.add(Dropout(0.25))\n",
        "\n",
        "model.add(Conv2D(64, (3, 3), padding='valid', activation = 'relu'))\n",
        "model.add(BatchNormalization())\n",
        "model.add(MaxPooling2D(pool_size = (2, 2)))\n",
        "model.add(Dropout(0.25))\n",
        "\n",
        "model.add(Conv2D(64, (3, 3), padding='valid', activation='relu'))\n",
        "model.add(BatchNormalization())\n",
        "model.add(MaxPooling2D(pool_size=(2, 2)))\n",
        "model.add(Dropout(0.25))\n",
        "\n",
        "model.add(Flatten())\n",
        "model.add(Dense(units = 120, activation = 'relu'))\n",
        "#model.add(Dropout(0.5))\n",
        "model.add(Dense(84, activation='relu'))\n",
        "model.add(Dense(units = num_classes, activation = 'softmax'))"
      ],
      "execution_count": 378,
      "outputs": []
    },
    {
      "cell_type": "code",
      "metadata": {
        "id": "DOIuuYyyHwCM",
        "colab_type": "code",
        "colab": {}
      },
      "source": [
        "opt = keras.optimizers.Adam(learning_rate=0.0005)"
      ],
      "execution_count": 379,
      "outputs": []
    },
    {
      "cell_type": "code",
      "metadata": {
        "id": "WhrvtMDEgbPU",
        "colab_type": "code",
        "colab": {}
      },
      "source": [
        "model.compile(loss='categorical_crossentropy',\n",
        "              optimizer = opt,\n",
        "              metrics=['accuracy'])"
      ],
      "execution_count": 380,
      "outputs": []
    },
    {
      "cell_type": "code",
      "metadata": {
        "id": "4rR_LwOu3UWl",
        "colab_type": "code",
        "colab": {
          "base_uri": "https://localhost:8080/",
          "height": 686
        },
        "outputId": "26a206e9-cbb4-4256-9afd-21698c91a34a"
      },
      "source": [
        "model.summary()"
      ],
      "execution_count": 381,
      "outputs": [
        {
          "output_type": "stream",
          "text": [
            "Model: \"sequential_16\"\n",
            "_________________________________________________________________\n",
            "Layer (type)                 Output Shape              Param #   \n",
            "=================================================================\n",
            "conv2d_46 (Conv2D)           (None, 48, 48, 32)        320       \n",
            "_________________________________________________________________\n",
            "batch_normalization_49 (Batc (None, 48, 48, 32)        128       \n",
            "_________________________________________________________________\n",
            "max_pooling2d_46 (MaxPooling (None, 24, 24, 32)        0         \n",
            "_________________________________________________________________\n",
            "dropout_51 (Dropout)         (None, 24, 24, 32)        0         \n",
            "_________________________________________________________________\n",
            "conv2d_47 (Conv2D)           (None, 22, 22, 64)        18496     \n",
            "_________________________________________________________________\n",
            "batch_normalization_50 (Batc (None, 22, 22, 64)        256       \n",
            "_________________________________________________________________\n",
            "max_pooling2d_47 (MaxPooling (None, 11, 11, 64)        0         \n",
            "_________________________________________________________________\n",
            "dropout_52 (Dropout)         (None, 11, 11, 64)        0         \n",
            "_________________________________________________________________\n",
            "conv2d_48 (Conv2D)           (None, 9, 9, 64)          36928     \n",
            "_________________________________________________________________\n",
            "batch_normalization_51 (Batc (None, 9, 9, 64)          256       \n",
            "_________________________________________________________________\n",
            "max_pooling2d_48 (MaxPooling (None, 4, 4, 64)          0         \n",
            "_________________________________________________________________\n",
            "dropout_53 (Dropout)         (None, 4, 4, 64)          0         \n",
            "_________________________________________________________________\n",
            "flatten_16 (Flatten)         (None, 1024)              0         \n",
            "_________________________________________________________________\n",
            "dense_32 (Dense)             (None, 120)               123000    \n",
            "_________________________________________________________________\n",
            "dense_33 (Dense)             (None, 84)                10164     \n",
            "_________________________________________________________________\n",
            "dense_34 (Dense)             (None, 5)                 425       \n",
            "=================================================================\n",
            "Total params: 189,973\n",
            "Trainable params: 189,653\n",
            "Non-trainable params: 320\n",
            "_________________________________________________________________\n"
          ],
          "name": "stdout"
        }
      ]
    },
    {
      "cell_type": "code",
      "metadata": {
        "id": "lP_rWueoghwT",
        "colab_type": "code",
        "colab": {
          "base_uri": "https://localhost:8080/",
          "height": 1000
        },
        "outputId": "99922356-409a-431a-b21f-e59adbf6cbb9"
      },
      "source": [
        "H = model.fit(x_train, y_train, validation_data=(x_val, y_val),\n",
        "          batch_size=328, epochs=100, verbose=1)"
      ],
      "execution_count": 382,
      "outputs": [
        {
          "output_type": "stream",
          "text": [
            "Train on 3280 samples, validate on 720 samples\n",
            "Epoch 1/100\n",
            "3280/3280 [==============================] - 2s 711us/step - loss: 1.8862 - accuracy: 0.2579 - val_loss: 4.3764 - val_accuracy: 0.2000\n",
            "Epoch 2/100\n",
            "3280/3280 [==============================] - 1s 381us/step - loss: 1.5374 - accuracy: 0.3473 - val_loss: 2.1978 - val_accuracy: 0.2403\n",
            "Epoch 3/100\n",
            "3280/3280 [==============================] - 1s 382us/step - loss: 1.4325 - accuracy: 0.3909 - val_loss: 2.5384 - val_accuracy: 0.2028\n",
            "Epoch 4/100\n",
            "3280/3280 [==============================] - 1s 385us/step - loss: 1.3480 - accuracy: 0.4329 - val_loss: 2.0798 - val_accuracy: 0.2208\n",
            "Epoch 5/100\n",
            "3280/3280 [==============================] - 1s 384us/step - loss: 1.2766 - accuracy: 0.4841 - val_loss: 2.4397 - val_accuracy: 0.2139\n",
            "Epoch 6/100\n",
            "3280/3280 [==============================] - 1s 381us/step - loss: 1.2178 - accuracy: 0.5088 - val_loss: 2.4044 - val_accuracy: 0.2181\n",
            "Epoch 7/100\n",
            "3280/3280 [==============================] - 1s 381us/step - loss: 1.1451 - accuracy: 0.5399 - val_loss: 2.4103 - val_accuracy: 0.2181\n",
            "Epoch 8/100\n",
            "3280/3280 [==============================] - 1s 382us/step - loss: 1.1019 - accuracy: 0.5494 - val_loss: 2.1801 - val_accuracy: 0.2208\n",
            "Epoch 9/100\n",
            "3280/3280 [==============================] - 1s 380us/step - loss: 1.0496 - accuracy: 0.5924 - val_loss: 2.2212 - val_accuracy: 0.2319\n",
            "Epoch 10/100\n",
            "3280/3280 [==============================] - 1s 383us/step - loss: 0.9648 - accuracy: 0.6155 - val_loss: 2.1061 - val_accuracy: 0.2528\n",
            "Epoch 11/100\n",
            "3280/3280 [==============================] - 1s 383us/step - loss: 0.9118 - accuracy: 0.6494 - val_loss: 1.8569 - val_accuracy: 0.2917\n",
            "Epoch 12/100\n",
            "3280/3280 [==============================] - 1s 382us/step - loss: 0.8798 - accuracy: 0.6561 - val_loss: 1.8418 - val_accuracy: 0.3264\n",
            "Epoch 13/100\n",
            "3280/3280 [==============================] - 1s 384us/step - loss: 0.8016 - accuracy: 0.6845 - val_loss: 1.6564 - val_accuracy: 0.3750\n",
            "Epoch 14/100\n",
            "3280/3280 [==============================] - 1s 384us/step - loss: 0.7442 - accuracy: 0.7146 - val_loss: 1.5093 - val_accuracy: 0.4333\n",
            "Epoch 15/100\n",
            "3280/3280 [==============================] - 1s 383us/step - loss: 0.7155 - accuracy: 0.7290 - val_loss: 1.4167 - val_accuracy: 0.4611\n",
            "Epoch 16/100\n",
            "3280/3280 [==============================] - 1s 382us/step - loss: 0.6770 - accuracy: 0.7384 - val_loss: 1.3188 - val_accuracy: 0.4944\n",
            "Epoch 17/100\n",
            "3280/3280 [==============================] - 1s 381us/step - loss: 0.6176 - accuracy: 0.7683 - val_loss: 1.2514 - val_accuracy: 0.5167\n",
            "Epoch 18/100\n",
            "3280/3280 [==============================] - 1s 382us/step - loss: 0.5684 - accuracy: 0.7857 - val_loss: 1.1819 - val_accuracy: 0.5292\n",
            "Epoch 19/100\n",
            "3280/3280 [==============================] - 1s 381us/step - loss: 0.5575 - accuracy: 0.7982 - val_loss: 1.1943 - val_accuracy: 0.5472\n",
            "Epoch 20/100\n",
            "3280/3280 [==============================] - 1s 380us/step - loss: 0.5213 - accuracy: 0.8061 - val_loss: 1.0387 - val_accuracy: 0.5944\n",
            "Epoch 21/100\n",
            "3280/3280 [==============================] - 1s 382us/step - loss: 0.4832 - accuracy: 0.8265 - val_loss: 1.1606 - val_accuracy: 0.5708\n",
            "Epoch 22/100\n",
            "3280/3280 [==============================] - 1s 380us/step - loss: 0.4431 - accuracy: 0.8412 - val_loss: 1.1221 - val_accuracy: 0.5792\n",
            "Epoch 23/100\n",
            "3280/3280 [==============================] - 1s 385us/step - loss: 0.4403 - accuracy: 0.8387 - val_loss: 1.1181 - val_accuracy: 0.5931\n",
            "Epoch 24/100\n",
            "3280/3280 [==============================] - 1s 382us/step - loss: 0.3987 - accuracy: 0.8564 - val_loss: 1.0793 - val_accuracy: 0.6042\n",
            "Epoch 25/100\n",
            "3280/3280 [==============================] - 1s 384us/step - loss: 0.3719 - accuracy: 0.8698 - val_loss: 1.0727 - val_accuracy: 0.6111\n",
            "Epoch 26/100\n",
            "3280/3280 [==============================] - 1s 383us/step - loss: 0.3463 - accuracy: 0.8729 - val_loss: 1.1023 - val_accuracy: 0.6181\n",
            "Epoch 27/100\n",
            "3280/3280 [==============================] - 1s 383us/step - loss: 0.3326 - accuracy: 0.8808 - val_loss: 1.0902 - val_accuracy: 0.6250\n",
            "Epoch 28/100\n",
            "3280/3280 [==============================] - 1s 383us/step - loss: 0.3118 - accuracy: 0.8890 - val_loss: 1.0542 - val_accuracy: 0.6389\n",
            "Epoch 29/100\n",
            "3280/3280 [==============================] - 1s 383us/step - loss: 0.2993 - accuracy: 0.8915 - val_loss: 1.0552 - val_accuracy: 0.6486\n",
            "Epoch 30/100\n",
            "3280/3280 [==============================] - 1s 382us/step - loss: 0.2718 - accuracy: 0.9091 - val_loss: 1.0537 - val_accuracy: 0.6472\n",
            "Epoch 31/100\n",
            "3280/3280 [==============================] - 1s 385us/step - loss: 0.2668 - accuracy: 0.9079 - val_loss: 1.0875 - val_accuracy: 0.6458\n",
            "Epoch 32/100\n",
            "3280/3280 [==============================] - 1s 381us/step - loss: 0.2462 - accuracy: 0.9162 - val_loss: 1.0817 - val_accuracy: 0.6431\n",
            "Epoch 33/100\n",
            "3280/3280 [==============================] - 1s 384us/step - loss: 0.2454 - accuracy: 0.9088 - val_loss: 1.0821 - val_accuracy: 0.6569\n",
            "Epoch 34/100\n",
            "3280/3280 [==============================] - 1s 385us/step - loss: 0.2164 - accuracy: 0.9220 - val_loss: 1.0524 - val_accuracy: 0.6500\n",
            "Epoch 35/100\n",
            "3280/3280 [==============================] - 1s 387us/step - loss: 0.1895 - accuracy: 0.9396 - val_loss: 1.0525 - val_accuracy: 0.6542\n",
            "Epoch 36/100\n",
            "3280/3280 [==============================] - 1s 387us/step - loss: 0.2013 - accuracy: 0.9329 - val_loss: 1.0796 - val_accuracy: 0.6486\n",
            "Epoch 37/100\n",
            "3280/3280 [==============================] - 1s 383us/step - loss: 0.1885 - accuracy: 0.9305 - val_loss: 1.0887 - val_accuracy: 0.6514\n",
            "Epoch 38/100\n",
            "3280/3280 [==============================] - 1s 384us/step - loss: 0.1818 - accuracy: 0.9393 - val_loss: 1.0887 - val_accuracy: 0.6583\n",
            "Epoch 39/100\n",
            "3280/3280 [==============================] - 1s 387us/step - loss: 0.1667 - accuracy: 0.9476 - val_loss: 1.1114 - val_accuracy: 0.6569\n",
            "Epoch 40/100\n",
            "3280/3280 [==============================] - 1s 384us/step - loss: 0.1631 - accuracy: 0.9460 - val_loss: 1.0983 - val_accuracy: 0.6931\n",
            "Epoch 41/100\n",
            "3280/3280 [==============================] - 1s 382us/step - loss: 0.1469 - accuracy: 0.9549 - val_loss: 1.1024 - val_accuracy: 0.6764\n",
            "Epoch 42/100\n",
            "3280/3280 [==============================] - 1s 381us/step - loss: 0.1515 - accuracy: 0.9491 - val_loss: 1.0981 - val_accuracy: 0.6722\n",
            "Epoch 43/100\n",
            "3280/3280 [==============================] - 1s 384us/step - loss: 0.1356 - accuracy: 0.9494 - val_loss: 1.1427 - val_accuracy: 0.6694\n",
            "Epoch 44/100\n",
            "3280/3280 [==============================] - 1s 382us/step - loss: 0.1327 - accuracy: 0.9552 - val_loss: 1.1246 - val_accuracy: 0.6819\n",
            "Epoch 45/100\n",
            "3280/3280 [==============================] - 1s 384us/step - loss: 0.1267 - accuracy: 0.9576 - val_loss: 1.1677 - val_accuracy: 0.6917\n",
            "Epoch 46/100\n",
            "3280/3280 [==============================] - 1s 385us/step - loss: 0.1176 - accuracy: 0.9616 - val_loss: 1.1119 - val_accuracy: 0.6986\n",
            "Epoch 47/100\n",
            "3280/3280 [==============================] - 1s 382us/step - loss: 0.1139 - accuracy: 0.9659 - val_loss: 1.1338 - val_accuracy: 0.6889\n",
            "Epoch 48/100\n",
            "3280/3280 [==============================] - 1s 381us/step - loss: 0.1123 - accuracy: 0.9613 - val_loss: 1.1663 - val_accuracy: 0.6861\n",
            "Epoch 49/100\n",
            "3280/3280 [==============================] - 1s 382us/step - loss: 0.1049 - accuracy: 0.9668 - val_loss: 1.2508 - val_accuracy: 0.6750\n",
            "Epoch 50/100\n",
            "3280/3280 [==============================] - 1s 385us/step - loss: 0.1021 - accuracy: 0.9652 - val_loss: 1.2507 - val_accuracy: 0.6861\n",
            "Epoch 51/100\n",
            "3280/3280 [==============================] - 1s 383us/step - loss: 0.0885 - accuracy: 0.9744 - val_loss: 1.3085 - val_accuracy: 0.6806\n",
            "Epoch 52/100\n",
            "3280/3280 [==============================] - 1s 384us/step - loss: 0.0877 - accuracy: 0.9720 - val_loss: 1.1991 - val_accuracy: 0.6986\n",
            "Epoch 53/100\n",
            "3280/3280 [==============================] - 1s 384us/step - loss: 0.0884 - accuracy: 0.9726 - val_loss: 1.2841 - val_accuracy: 0.6806\n",
            "Epoch 54/100\n",
            "3280/3280 [==============================] - 1s 387us/step - loss: 0.0779 - accuracy: 0.9762 - val_loss: 1.3667 - val_accuracy: 0.6819\n",
            "Epoch 55/100\n",
            "3280/3280 [==============================] - 1s 390us/step - loss: 0.0767 - accuracy: 0.9744 - val_loss: 1.3105 - val_accuracy: 0.6708\n",
            "Epoch 56/100\n",
            "3280/3280 [==============================] - 1s 387us/step - loss: 0.0801 - accuracy: 0.9738 - val_loss: 1.2462 - val_accuracy: 0.6917\n",
            "Epoch 57/100\n",
            "3280/3280 [==============================] - 1s 386us/step - loss: 0.0730 - accuracy: 0.9774 - val_loss: 1.3175 - val_accuracy: 0.6917\n",
            "Epoch 58/100\n",
            "3280/3280 [==============================] - 1s 383us/step - loss: 0.0701 - accuracy: 0.9796 - val_loss: 1.2602 - val_accuracy: 0.6778\n",
            "Epoch 59/100\n",
            "3280/3280 [==============================] - 1s 381us/step - loss: 0.0689 - accuracy: 0.9796 - val_loss: 1.2918 - val_accuracy: 0.6819\n",
            "Epoch 60/100\n",
            "3280/3280 [==============================] - 1s 381us/step - loss: 0.0601 - accuracy: 0.9820 - val_loss: 1.2916 - val_accuracy: 0.6875\n",
            "Epoch 61/100\n",
            "3280/3280 [==============================] - 1s 380us/step - loss: 0.0643 - accuracy: 0.9799 - val_loss: 1.2310 - val_accuracy: 0.6917\n",
            "Epoch 62/100\n",
            "3280/3280 [==============================] - 1s 383us/step - loss: 0.0673 - accuracy: 0.9777 - val_loss: 1.2756 - val_accuracy: 0.6750\n",
            "Epoch 63/100\n",
            "3280/3280 [==============================] - 1s 383us/step - loss: 0.0556 - accuracy: 0.9823 - val_loss: 1.3954 - val_accuracy: 0.6833\n",
            "Epoch 64/100\n",
            "3280/3280 [==============================] - 1s 381us/step - loss: 0.0613 - accuracy: 0.9817 - val_loss: 1.2988 - val_accuracy: 0.7014\n",
            "Epoch 65/100\n",
            "3280/3280 [==============================] - 1s 383us/step - loss: 0.0534 - accuracy: 0.9863 - val_loss: 1.4270 - val_accuracy: 0.6903\n",
            "Epoch 66/100\n",
            "3280/3280 [==============================] - 1s 381us/step - loss: 0.0554 - accuracy: 0.9823 - val_loss: 1.2695 - val_accuracy: 0.6917\n",
            "Epoch 67/100\n",
            "3280/3280 [==============================] - 1s 384us/step - loss: 0.0550 - accuracy: 0.9835 - val_loss: 1.3524 - val_accuracy: 0.6931\n",
            "Epoch 68/100\n",
            "3280/3280 [==============================] - 1s 381us/step - loss: 0.0495 - accuracy: 0.9845 - val_loss: 1.3201 - val_accuracy: 0.7028\n",
            "Epoch 69/100\n",
            "3280/3280 [==============================] - 1s 380us/step - loss: 0.0456 - accuracy: 0.9884 - val_loss: 1.3265 - val_accuracy: 0.6889\n",
            "Epoch 70/100\n",
            "3280/3280 [==============================] - 1s 381us/step - loss: 0.0445 - accuracy: 0.9857 - val_loss: 1.4283 - val_accuracy: 0.6917\n",
            "Epoch 71/100\n",
            "3280/3280 [==============================] - 1s 380us/step - loss: 0.0524 - accuracy: 0.9851 - val_loss: 1.2501 - val_accuracy: 0.6889\n",
            "Epoch 72/100\n",
            "3280/3280 [==============================] - 1s 380us/step - loss: 0.0438 - accuracy: 0.9869 - val_loss: 1.2935 - val_accuracy: 0.6931\n",
            "Epoch 73/100\n",
            "3280/3280 [==============================] - 1s 382us/step - loss: 0.0384 - accuracy: 0.9921 - val_loss: 1.3356 - val_accuracy: 0.6931\n",
            "Epoch 74/100\n",
            "3280/3280 [==============================] - 1s 382us/step - loss: 0.0422 - accuracy: 0.9881 - val_loss: 1.2999 - val_accuracy: 0.6944\n",
            "Epoch 75/100\n",
            "3280/3280 [==============================] - 1s 380us/step - loss: 0.0403 - accuracy: 0.9884 - val_loss: 1.3145 - val_accuracy: 0.6931\n",
            "Epoch 76/100\n",
            "3280/3280 [==============================] - 1s 381us/step - loss: 0.0388 - accuracy: 0.9896 - val_loss: 1.3400 - val_accuracy: 0.6903\n",
            "Epoch 77/100\n",
            "3280/3280 [==============================] - 1s 383us/step - loss: 0.0404 - accuracy: 0.9878 - val_loss: 1.3525 - val_accuracy: 0.6764\n",
            "Epoch 78/100\n",
            "3280/3280 [==============================] - 1s 380us/step - loss: 0.0355 - accuracy: 0.9896 - val_loss: 1.4039 - val_accuracy: 0.7069\n",
            "Epoch 79/100\n",
            "3280/3280 [==============================] - 1s 380us/step - loss: 0.0383 - accuracy: 0.9899 - val_loss: 1.3264 - val_accuracy: 0.6986\n",
            "Epoch 80/100\n",
            "3280/3280 [==============================] - 1s 380us/step - loss: 0.0392 - accuracy: 0.9887 - val_loss: 1.3435 - val_accuracy: 0.6875\n",
            "Epoch 81/100\n",
            "3280/3280 [==============================] - 1s 383us/step - loss: 0.0328 - accuracy: 0.9912 - val_loss: 1.3332 - val_accuracy: 0.6917\n",
            "Epoch 82/100\n",
            "3280/3280 [==============================] - 1s 383us/step - loss: 0.0285 - accuracy: 0.9939 - val_loss: 1.3742 - val_accuracy: 0.6972\n",
            "Epoch 83/100\n",
            "3280/3280 [==============================] - 1s 385us/step - loss: 0.0334 - accuracy: 0.9890 - val_loss: 1.3870 - val_accuracy: 0.7000\n",
            "Epoch 84/100\n",
            "3280/3280 [==============================] - 1s 387us/step - loss: 0.0356 - accuracy: 0.9899 - val_loss: 1.4357 - val_accuracy: 0.6986\n",
            "Epoch 85/100\n",
            "3280/3280 [==============================] - 1s 390us/step - loss: 0.0321 - accuracy: 0.9924 - val_loss: 1.3255 - val_accuracy: 0.7028\n",
            "Epoch 86/100\n",
            "3280/3280 [==============================] - 1s 383us/step - loss: 0.0338 - accuracy: 0.9893 - val_loss: 1.3581 - val_accuracy: 0.7083\n",
            "Epoch 87/100\n",
            "3280/3280 [==============================] - 1s 387us/step - loss: 0.0284 - accuracy: 0.9912 - val_loss: 1.4223 - val_accuracy: 0.7097\n",
            "Epoch 88/100\n",
            "3280/3280 [==============================] - 1s 387us/step - loss: 0.0308 - accuracy: 0.9909 - val_loss: 1.3528 - val_accuracy: 0.6986\n",
            "Epoch 89/100\n",
            "3280/3280 [==============================] - 1s 388us/step - loss: 0.0297 - accuracy: 0.9893 - val_loss: 1.4274 - val_accuracy: 0.7153\n",
            "Epoch 90/100\n",
            "3280/3280 [==============================] - 1s 388us/step - loss: 0.0334 - accuracy: 0.9915 - val_loss: 1.5090 - val_accuracy: 0.7069\n",
            "Epoch 91/100\n",
            "3280/3280 [==============================] - 1s 387us/step - loss: 0.0284 - accuracy: 0.9933 - val_loss: 1.4681 - val_accuracy: 0.7014\n",
            "Epoch 92/100\n",
            "3280/3280 [==============================] - 1s 386us/step - loss: 0.0233 - accuracy: 0.9933 - val_loss: 1.5996 - val_accuracy: 0.6847\n",
            "Epoch 93/100\n",
            "3280/3280 [==============================] - 1s 386us/step - loss: 0.0298 - accuracy: 0.9930 - val_loss: 1.4632 - val_accuracy: 0.7014\n",
            "Epoch 94/100\n",
            "3280/3280 [==============================] - 1s 384us/step - loss: 0.0254 - accuracy: 0.9933 - val_loss: 1.6344 - val_accuracy: 0.6931\n",
            "Epoch 95/100\n",
            "3280/3280 [==============================] - 1s 385us/step - loss: 0.0217 - accuracy: 0.9945 - val_loss: 1.6262 - val_accuracy: 0.6875\n",
            "Epoch 96/100\n",
            "3280/3280 [==============================] - 1s 384us/step - loss: 0.0309 - accuracy: 0.9899 - val_loss: 1.5391 - val_accuracy: 0.6903\n",
            "Epoch 97/100\n",
            "3280/3280 [==============================] - 1s 383us/step - loss: 0.0252 - accuracy: 0.9939 - val_loss: 1.5084 - val_accuracy: 0.7014\n",
            "Epoch 98/100\n",
            "3280/3280 [==============================] - 1s 391us/step - loss: 0.0259 - accuracy: 0.9918 - val_loss: 1.5575 - val_accuracy: 0.7083\n",
            "Epoch 99/100\n",
            "3280/3280 [==============================] - 1s 383us/step - loss: 0.0218 - accuracy: 0.9939 - val_loss: 1.4714 - val_accuracy: 0.6972\n",
            "Epoch 100/100\n",
            "3280/3280 [==============================] - 1s 380us/step - loss: 0.0201 - accuracy: 0.9942 - val_loss: 1.5230 - val_accuracy: 0.6986\n"
          ],
          "name": "stdout"
        }
      ]
    },
    {
      "cell_type": "code",
      "metadata": {
        "id": "FsYyE4cPmJg4",
        "colab_type": "code",
        "colab": {}
      },
      "source": [
        "import matplotlib.pyplot as plt\n"
      ],
      "execution_count": 341,
      "outputs": []
    },
    {
      "cell_type": "code",
      "metadata": {
        "id": "tz53DZtCmC5Z",
        "colab_type": "code",
        "colab": {
          "base_uri": "https://localhost:8080/",
          "height": 279
        },
        "outputId": "7896b7fe-2954-4816-ee72-97216cdb01f3"
      },
      "source": [
        "# Get training and test loss histories\n",
        "training_loss = H.history['loss']\n",
        "training_acc = H.history['accuracy']\n",
        "\n",
        "# Create count of the number of epochs\n",
        "epoch_count = range(1, len(training_loss) + 1)\n",
        "\n",
        "fig=plt.figure(figsize=(12, 4))\n",
        "# Visualize loss history\n",
        "fig.add_subplot(121)\n",
        "plt.plot(epoch_count, training_loss, 'r--')\n",
        "plt.plot(epoch_count, training_acc, 'b-')\n",
        "plt.legend(['Training Loss', 'Training Accuracy'])\n",
        "plt.xlabel('Epoch')\n",
        "plt.ylabel('Training Loss/Acc')\n",
        "\n",
        "# Get training and test loss histories\n",
        "val_acc = H.history['val_accuracy']\n",
        "training_acc = H.history['accuracy']\n",
        "\n",
        "# Create count of the number of epochs\n",
        "epoch_count = range(1, len(val_acc) + 1)\n",
        "\n",
        "# Visualize loss history\n",
        "fig.add_subplot(122)\n",
        "plt.plot(epoch_count, val_acc, 'r--')\n",
        "plt.plot(epoch_count, training_acc, 'b-')\n",
        "plt.legend(['Validation Accuracy', 'Training Accuracy'])\n",
        "plt.xlabel('Epoch')\n",
        "plt.ylabel('Accuracy')\n",
        "\n",
        "plt.show();"
      ],
      "execution_count": 383,
      "outputs": [
        {
          "output_type": "display_data",
          "data": {
            "image/png": "[encoded data removed]",
            "text/plain": [
              "<Figure size 864x288 with 2 Axes>"
            ]
          },
          "metadata": {
            "tags": [],
            "needs_background": "light"
          }
        }
      ]
    },
    {
      "cell_type": "code",
      "metadata": {
        "id": "G3ooWiFQr3jP",
        "colab_type": "code",
        "colab": {
          "base_uri": "https://localhost:8080/",
          "height": 50
        },
        "outputId": "a1261781-6e29-4a6c-d5c2-b3c5902a7767"
      },
      "source": [
        "# 9. Đánh giá model với dữ liệu test set\n",
        "score = model.evaluate(x_test, y_test)\n",
        "print(score)"
      ],
      "execution_count": 384,
      "outputs": [
        {
          "output_type": "stream",
          "text": [
            "800/800 [==============================] - 0s 292us/step\n",
            "[1.7261362865567207, 0.6825000047683716]\n"
          ],
          "name": "stdout"
        }
      ]
    },
    {
      "cell_type": "code",
      "metadata": {
        "id": "7-Rr9snzk-An",
        "colab_type": "code",
        "colab": {}
      },
      "source": [
        "model.save('drive/My Drive/data_cnn/cnn_model')"
      ],
      "execution_count": 385,
      "outputs": []
    },
    {
      "cell_type": "code",
      "metadata": {
        "id": "K4hD63UUk4_T",
        "colab_type": "code",
        "colab": {}
      },
      "source": [
        ""
      ],
      "execution_count": null,
      "outputs": []
    },
    {
      "cell_type": "markdown",
      "metadata": {
        "id": "0AHFAZf3uALM",
        "colab_type": "text"
      },
      "source": [
        "### Dự đoán ảnh"
      ]
    },
    {
      "cell_type": "code",
      "metadata": {
        "id": "rG1zbL7ut_vk",
        "colab_type": "code",
        "colab": {
          "resources": {
            "http://localhost:8080/nbextensions/google.colab/files.js": {
              "data": "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",
              "ok": true,
              "headers": [
                [
                  "content-type",
                  "application/javascript"
                ]
              ],
              "status": 200,
              "status_text": ""
            }
          },
          "base_uri": "https://localhost:8080/",
          "height": 109
        },
        "outputId": "7e104e75-8af3-443c-a8d1-22f5895dd0bc"
      },
      "source": [
        "from google.colab import files\n",
        "uploaded = files.upload()"
      ],
      "execution_count": null,
      "outputs": [
        {
          "output_type": "display_data",
          "data": {
            "text/html": [
              "\n",
              "     <input type=\"file\" id=\"files-89c148ae-53bb-4ffa-8c62-321e53458f7f\" name=\"files[]\" multiple disabled\n",
              "        style=\"border:none\" />\n",
              "     <output id=\"result-89c148ae-53bb-4ffa-8c62-321e53458f7f\">\n",
              "      Upload widget is only available when the cell has been executed in the\n",
              "      current browser session. Please rerun this cell to enable.\n",
              "      </output>\n",
              "      <script src=\"/nbextensions/google.colab/files.js\"></script> "
            ],
            "text/plain": [
              "<IPython.core.display.HTML object>"
            ]
          },
          "metadata": {
            "tags": []
          }
        },
        {
          "output_type": "stream",
          "text": [
            "Saving ninh-duong-lan-ngoc-bat-trend-len-ca-cay-do-hoa-tiet-sau-gian-cach-ly-22a84cb6.jpg to ninh-duong-lan-ngoc-bat-trend-len-ca-cay-do-hoa-tiet-sau-gian-cach-ly-22a84cb6 (1).jpg\n"
          ],
          "name": "stdout"
        }
      ]
    },
    {
      "cell_type": "code",
      "metadata": {
        "id": "m3wPUw3xvVVw",
        "colab_type": "code",
        "colab": {}
      },
      "source": [
        "from PIL import Image\n",
        "from google.colab.patches import cv2_imshow"
      ],
      "execution_count": null,
      "outputs": []
    },
    {
      "cell_type": "code",
      "metadata": {
        "id": "duQExvo9u4Fc",
        "colab_type": "code",
        "colab": {
          "base_uri": "https://localhost:8080/",
          "height": 70
        },
        "outputId": "fe92b68d-07b4-42fc-8f82-4c129a9dfc00"
      },
      "source": [
        "Images_pred = []\n",
        "for fn in uploaded.keys():\n",
        "  print('User uploaded file \"{name}\" with length {length} bytes'.format(name=fn, length=len(uploaded[fn])))\n",
        "  filename = fn\n",
        "  img = cv2.imread(filename,0)\n",
        "  img = cv2.resize(img, (80,80), interpolation = cv2.INTER_AREA)\n",
        "  Images_pred.append(img)\n",
        "Images_pred = np.asarray(Images_pred)\n",
        "Images_pred.shape"
      ],
      "execution_count": null,
      "outputs": [
        {
          "output_type": "stream",
          "text": [
            "User uploaded file \"ninh-duong-lan-ngoc-bat-trend-len-ca-cay-do-hoa-tiet-sau-gian-cach-ly-22a84cb6.jpg\" with length 43279 bytes\n"
          ],
          "name": "stdout"
        },
        {
          "output_type": "execute_result",
          "data": {
            "text/plain": [
              "(1, 80, 80)"
            ]
          },
          "metadata": {
            "tags": []
          },
          "execution_count": 301
        }
      ]
    },
    {
      "cell_type": "code",
      "metadata": {
        "id": "3_q6Ly7wvw6I",
        "colab_type": "code",
        "colab": {
          "base_uri": "https://localhost:8080/",
          "height": 286
        },
        "outputId": "f4e1d95d-446f-41fd-e72f-98e203fb3e87"
      },
      "source": [
        "plt.imshow(Images_pred[0].reshape(80,80), cmap='gray')\n",
        "\n",
        "Predict = model.predict(Images_pred.reshape(1,80,80,1))\n",
        "print('Giá trị dự đoán: ', np.argmax(Predict))"
      ],
      "execution_count": null,
      "outputs": [
        {
          "output_type": "stream",
          "text": [
            "Giá trị dự đoán:  2\n"
          ],
          "name": "stdout"
        },
        {
          "output_type": "display_data",
          "data": {
            "image/png": "[encoded data removed]",
            "text/plain": [
              "<Figure size 432x288 with 1 Axes>"
            ]
          },
          "metadata": {
            "tags": []
          }
        }
      ]
    }
  ]
}