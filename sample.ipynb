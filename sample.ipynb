{
  "nbformat": 4,
  "nbformat_minor": 0,
  "metadata": {
    "colab": {
      "name": "Untitled0.ipynb",
      "provenance": [],
      "authorship_tag": "ABX9TyPbQWTAmtS4sSpRft7Ru2zW",
      "include_colab_link": true
    },
    "kernelspec": {
      "name": "python3",
      "display_name": "Python 3"
    }
  },
  "cells": [
    {
      "cell_type": "markdown",
      "metadata": {
        "id": "view-in-github",
        "colab_type": "text"
      },
      "source": [
        "<a href=\"https://colab.research.google.com/github/kangdoung/CS114.K21/blob/master/sample.ipynb\" target=\"_parent\"><img src=\"https://colab.research.google.com/assets/colab-badge.svg\" alt=\"Open In Colab\"/></a>"
      ]
    },
    {
      "cell_type": "code",
      "metadata": {
        "id": "aiYvsG0CZP8k",
        "colab_type": "code",
        "outputId": "b64b4a84-92b5-497b-a0cc-a5e98e89b8d6",
        "colab": {
          "base_uri": "https://localhost:8080/",
          "height": 138
        }
      },
      "source": [
        "!git clone https://github.com/kangdoung/CS114.K21\n",
        "%ls"
      ],
      "execution_count": 0,
      "outputs": [
        {
          "output_type": "stream",
          "text": [
            "Cloning into 'CS114.K21'...\n",
            "remote: Enumerating objects: 54, done.\u001b[K\n",
            "remote: Counting objects:   1% (1/54)\u001b[K\rremote: Counting objects:   3% (2/54)\u001b[K\rremote: Counting objects:   5% (3/54)\u001b[K\rremote: Counting objects:   7% (4/54)\u001b[K\rremote: Counting objects:   9% (5/54)\u001b[K\rremote: Counting objects:  11% (6/54)\u001b[K\rremote: Counting objects:  12% (7/54)\u001b[K\rremote: Counting objects:  14% (8/54)\u001b[K\rremote: Counting objects:  16% (9/54)\u001b[K\rremote: Counting objects:  18% (10/54)\u001b[K\rremote: Counting objects:  20% (11/54)\u001b[K\rremote: Counting objects:  22% (12/54)\u001b[K\rremote: Counting objects:  24% (13/54)\u001b[K\rremote: Counting objects:  25% (14/54)\u001b[K\rremote: Counting objects:  27% (15/54)\u001b[K\rremote: Counting objects:  29% (16/54)\u001b[K\rremote: Counting objects:  31% (17/54)\u001b[K\rremote: Counting objects:  33% (18/54)\u001b[K\rremote: Counting objects:  35% (19/54)\u001b[K\rremote: Counting objects:  37% (20/54)\u001b[K\rremote: Counting objects:  38% (21/54)\u001b[K\rremote: Counting objects:  40% (22/54)\u001b[K\rremote: Counting objects:  42% (23/54)\u001b[K\rremote: Counting objects:  44% (24/54)\u001b[K\rremote: Counting objects:  46% (25/54)\u001b[K\rremote: Counting objects:  48% (26/54)\u001b[K\rremote: Counting objects:  50% (27/54)\u001b[K\rremote: Counting objects:  51% (28/54)\u001b[K\rremote: Counting objects:  53% (29/54)\u001b[K\rremote: Counting objects:  55% (30/54)\u001b[K\rremote: Counting objects:  57% (31/54)\u001b[K\rremote: Counting objects:  59% (32/54)\u001b[K\rremote: Counting objects:  61% (33/54)\u001b[K\rremote: Counting objects:  62% (34/54)\u001b[K\rremote: Counting objects:  64% (35/54)\u001b[K\rremote: Counting objects:  66% (36/54)\u001b[K\rremote: Counting objects:  68% (37/54)\u001b[K\rremote: Counting objects:  70% (38/54)\u001b[K\rremote: Counting objects:  72% (39/54)\u001b[K\rremote: Counting objects:  74% (40/54)\u001b[K\rremote: Counting objects:  75% (41/54)\u001b[K\rremote: Counting objects:  77% (42/54)\u001b[K\rremote: Counting objects:  79% (43/54)\u001b[K\rremote: Counting objects:  81% (44/54)\u001b[K\rremote: Counting objects:  83% (45/54)\u001b[K\rremote: Counting objects:  85% (46/54)\u001b[K\rremote: Counting objects:  87% (47/54)\u001b[K\rremote: Counting objects:  88% (48/54)\u001b[K\rremote: Counting objects:  90% (49/54)\u001b[K\rremote: Counting objects:  92% (50/54)\u001b[K\rremote: Counting objects:  94% (51/54)\u001b[K\rremote: Counting objects:  96% (52/54)\u001b[K\rremote: Counting objects:  98% (53/54)\u001b[K\rremote: Counting objects: 100% (54/54)\u001b[K\rremote: Counting objects: 100% (54/54), done.\u001b[K\n",
            "remote: Compressing objects:   2% (1/42)\u001b[K\rremote: Compressing objects:   4% (2/42)\u001b[K\rremote: Compressing objects:   7% (3/42)\u001b[K\rremote: Compressing objects:   9% (4/42)\u001b[K\rremote: Compressing objects:  11% (5/42)\u001b[K\rremote: Compressing objects:  14% (6/42)\u001b[K\rremote: Compressing objects:  16% (7/42)\u001b[K\rremote: Compressing objects:  19% (8/42)\u001b[K\rremote: Compressing objects:  21% (9/42)\u001b[K\rremote: Compressing objects:  23% (10/42)\u001b[K\rremote: Compressing objects:  26% (11/42)\u001b[K\rremote: Compressing objects:  28% (12/42)\u001b[K\rremote: Compressing objects:  30% (13/42)\u001b[K\rremote: Compressing objects:  33% (14/42)\u001b[K\rremote: Compressing objects:  35% (15/42)\u001b[K\rremote: Compressing objects:  38% (16/42)\u001b[K\rremote: Compressing objects:  40% (17/42)\u001b[K\rremote: Compressing objects:  42% (18/42)\u001b[K\rremote: Compressing objects:  45% (19/42)\u001b[K\rremote: Compressing objects:  47% (20/42)\u001b[K\rremote: Compressing objects:  50% (21/42)\u001b[K\rremote: Compressing objects:  52% (22/42)\u001b[K\rremote: Compressing objects:  54% (23/42)\u001b[K\rremote: Compressing objects:  57% (24/42)\u001b[K\rremote: Compressing objects:  59% (25/42)\u001b[K\rremote: Compressing objects:  61% (26/42)\u001b[K\rremote: Compressing objects:  64% (27/42)\u001b[K\rremote: Compressing objects:  66% (28/42)\u001b[K\rremote: Compressing objects:  69% (29/42)\u001b[K\rremote: Compressing objects:  71% (30/42)\u001b[K\rremote: Compressing objects:  73% (31/42)\u001b[K\rremote: Compressing objects:  76% (32/42)\u001b[K\rremote: Compressing objects:  78% (33/42)\u001b[K\rremote: Compressing objects:  80% (34/42)\u001b[K\rremote: Compressing objects:  83% (35/42)\u001b[K\rremote: Compressing objects:  85% (36/42)\u001b[K\rremote: Compressing objects:  88% (37/42)\u001b[K\rremote: Compressing objects:  90% (38/42)\u001b[K\rremote: Compressing objects:  92% (39/42)\u001b[K\rremote: Compressing objects:  95% (40/42)\u001b[K\rremote: Compressing objects:  97% (41/42)\u001b[K\rremote: Compressing objects: 100% (42/42)\u001b[K\rremote: Compressing objects: 100% (42/42), done.\u001b[K\n",
            "remote: Total 54 (delta 12), reused 0 (delta 0), pack-reused 0\u001b[K\n",
            "Unpacking objects:   1% (1/54)   \rUnpacking objects:   3% (2/54)   \rUnpacking objects:   5% (3/54)   \rUnpacking objects:   7% (4/54)   \rUnpacking objects:   9% (5/54)   \rUnpacking objects:  11% (6/54)   \rUnpacking objects:  12% (7/54)   \rUnpacking objects:  14% (8/54)   \rUnpacking objects:  16% (9/54)   \rUnpacking objects:  18% (10/54)   \rUnpacking objects:  20% (11/54)   \rUnpacking objects:  22% (12/54)   \rUnpacking objects:  24% (13/54)   \rUnpacking objects:  25% (14/54)   \rUnpacking objects:  27% (15/54)   \rUnpacking objects:  29% (16/54)   \rUnpacking objects:  31% (17/54)   \rUnpacking objects:  33% (18/54)   \rUnpacking objects:  35% (19/54)   \rUnpacking objects:  37% (20/54)   \rUnpacking objects:  38% (21/54)   \rUnpacking objects:  40% (22/54)   \rUnpacking objects:  42% (23/54)   \rUnpacking objects:  44% (24/54)   \rUnpacking objects:  46% (25/54)   \rUnpacking objects:  48% (26/54)   \rUnpacking objects:  50% (27/54)   \rUnpacking objects:  51% (28/54)   \rUnpacking objects:  53% (29/54)   \rUnpacking objects:  55% (30/54)   \rUnpacking objects:  57% (31/54)   \rUnpacking objects:  59% (32/54)   \rUnpacking objects:  61% (33/54)   \rUnpacking objects:  62% (34/54)   \rUnpacking objects:  64% (35/54)   \rUnpacking objects:  66% (36/54)   \rUnpacking objects:  68% (37/54)   \rUnpacking objects:  70% (38/54)   \rUnpacking objects:  72% (39/54)   \rUnpacking objects:  74% (40/54)   \rUnpacking objects:  75% (41/54)   \rUnpacking objects:  77% (42/54)   \rUnpacking objects:  79% (43/54)   \rUnpacking objects:  81% (44/54)   \rUnpacking objects:  83% (45/54)   \rUnpacking objects:  85% (46/54)   \rUnpacking objects:  87% (47/54)   \rUnpacking objects:  88% (48/54)   \rUnpacking objects:  90% (49/54)   \rUnpacking objects:  92% (50/54)   \rUnpacking objects:  94% (51/54)   \rUnpacking objects:  96% (52/54)   \rUnpacking objects:  98% (53/54)   \rUnpacking objects: 100% (54/54)   \rUnpacking objects: 100% (54/54), done.\n",
            "\u001b[0m\u001b[01;34mCS114.K21\u001b[0m/  Demo_colab.ipynb  \u001b[01;34mKHMT\u001b[0m/  LAB01.ipynb  README.md  Test.ipynb\n"
          ],
          "name": "stdout"
        }
      ]
    },
    {
      "cell_type": "code",
      "metadata": {
        "id": "h_3yyG48ZalQ",
        "colab_type": "code",
        "outputId": "a5ba6192-ce1e-4a95-e0a5-9d71e57c87ab",
        "colab": {
          "base_uri": "https://localhost:8080/",
          "height": 34
        }
      },
      "source": [
        "!git pull"
      ],
      "execution_count": 0,
      "outputs": [
        {
          "output_type": "stream",
          "text": [
            "Already up to date.\n"
          ],
          "name": "stdout"
        }
      ]
    },
    {
      "cell_type": "code",
      "metadata": {
        "id": "LlOEatnmZqjF",
        "colab_type": "code",
        "outputId": "7fe99120-aa71-46a5-89a0-e24ee8aeb44d",
        "colab": {
          "base_uri": "https://localhost:8080/",
          "height": 34
        }
      },
      "source": [
        "!python hello.py"
      ],
      "execution_count": 0,
      "outputs": [
        {
          "output_type": "stream",
          "text": [
            "helloword\n"
          ],
          "name": "stdout"
        }
      ]
    }
  ]
}